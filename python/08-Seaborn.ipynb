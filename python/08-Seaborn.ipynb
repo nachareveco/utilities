{
 "cells": [
  {
   "cell_type": "markdown",
   "metadata": {},
   "source": [
    "# Seaborn: A Statistical Data Visualization Package\n",
    "## Styles"
   ]
  },
  {
   "cell_type": "code",
   "execution_count": null,
   "metadata": {
    "ExecuteTime": {
     "end_time": "2021-07-23T17:50:22.438371Z",
     "start_time": "2021-07-23T17:50:21.496594Z"
    }
   },
   "outputs": [],
   "source": [
    "%matplotlib inline\n",
    "import numpy as np\n",
    "import scipy as sp\n",
    "import scipy.stats as stats\n",
    "import matplotlib.pyplot as plt\n",
    "\n",
    "def sinplot(flip=1):\n",
    "    x = np.linspace(0, 14, 100)\n",
    "    for i in range(1, 7):\n",
    "        plt.plot(x, np.sin(x + i * .5) * (7 - i) * flip)\n",
    "        \n",
    "sinplot()"
   ]
  },
  {
   "cell_type": "code",
   "execution_count": null,
   "metadata": {
    "ExecuteTime": {
     "end_time": "2021-07-23T17:50:22.801320Z",
     "start_time": "2021-07-23T17:50:22.440925Z"
    }
   },
   "outputs": [],
   "source": [
    "import seaborn as sb\n",
    "sb.set()"
   ]
  },
  {
   "cell_type": "code",
   "execution_count": null,
   "metadata": {
    "ExecuteTime": {
     "end_time": "2021-07-23T17:50:23.031941Z",
     "start_time": "2021-07-23T17:50:22.805006Z"
    }
   },
   "outputs": [],
   "source": [
    "sinplot()"
   ]
  },
  {
   "cell_type": "code",
   "execution_count": null,
   "metadata": {
    "ExecuteTime": {
     "end_time": "2021-07-23T17:50:23.267745Z",
     "start_time": "2021-07-23T17:50:23.035780Z"
    }
   },
   "outputs": [],
   "source": [
    "sb.set_style(\"whitegrid\")\n",
    "sinplot()"
   ]
  },
  {
   "cell_type": "code",
   "execution_count": null,
   "metadata": {
    "ExecuteTime": {
     "end_time": "2021-07-23T17:50:23.465609Z",
     "start_time": "2021-07-23T17:50:23.269756Z"
    }
   },
   "outputs": [],
   "source": [
    "sb.set_style(\"dark\")\n",
    "sinplot()"
   ]
  },
  {
   "cell_type": "code",
   "execution_count": null,
   "metadata": {
    "ExecuteTime": {
     "end_time": "2021-07-23T17:50:23.686093Z",
     "start_time": "2021-07-23T17:50:23.467448Z"
    }
   },
   "outputs": [],
   "source": [
    "sb.set_style(\"white\")\n",
    "sinplot()"
   ]
  },
  {
   "cell_type": "code",
   "execution_count": null,
   "metadata": {
    "ExecuteTime": {
     "end_time": "2021-07-23T17:50:23.853836Z",
     "start_time": "2021-07-23T17:50:23.687784Z"
    }
   },
   "outputs": [],
   "source": [
    "sb.set_style(\"ticks\")\n",
    "sinplot()"
   ]
  },
  {
   "cell_type": "code",
   "execution_count": null,
   "metadata": {
    "ExecuteTime": {
     "end_time": "2021-07-23T17:50:24.014028Z",
     "start_time": "2021-07-23T17:50:23.858525Z"
    }
   },
   "outputs": [],
   "source": [
    "sinplot()\n",
    "sb.despine(offset=10, trim=True)"
   ]
  },
  {
   "cell_type": "code",
   "execution_count": null,
   "metadata": {
    "ExecuteTime": {
     "end_time": "2021-07-23T17:50:24.193677Z",
     "start_time": "2021-07-23T17:50:24.018228Z"
    }
   },
   "outputs": [],
   "source": [
    "sb.set_style(\"whitegrid\")\n",
    "sinplot()\n",
    "sb.despine(left=False)"
   ]
  },
  {
   "cell_type": "code",
   "execution_count": null,
   "metadata": {
    "ExecuteTime": {
     "end_time": "2021-07-23T17:50:24.478554Z",
     "start_time": "2021-07-23T17:50:24.195038Z"
    }
   },
   "outputs": [],
   "source": [
    "with sb.axes_style(\"darkgrid\"):\n",
    "    plt.subplot(211)\n",
    "    sinplot()\n",
    "plt.subplot(212)\n",
    "sinplot(-1)"
   ]
  },
  {
   "cell_type": "code",
   "execution_count": null,
   "metadata": {
    "ExecuteTime": {
     "end_time": "2021-07-23T17:50:24.489534Z",
     "start_time": "2021-07-23T17:50:24.481006Z"
    },
    "scrolled": true
   },
   "outputs": [],
   "source": [
    "sb.axes_style(\"dark\")"
   ]
  },
  {
   "cell_type": "code",
   "execution_count": null,
   "metadata": {
    "ExecuteTime": {
     "end_time": "2021-07-23T17:50:24.661534Z",
     "start_time": "2021-07-23T17:50:24.492281Z"
    }
   },
   "outputs": [],
   "source": [
    "sb.set_style(\"dark\", {\"axes.facecolor\": \".1\"})\n",
    "sinplot()"
   ]
  },
  {
   "cell_type": "code",
   "execution_count": null,
   "metadata": {
    "ExecuteTime": {
     "end_time": "2021-07-23T17:50:24.915325Z",
     "start_time": "2021-07-23T17:50:24.663487Z"
    }
   },
   "outputs": [],
   "source": [
    "sb.set()\n",
    "sinplot()"
   ]
  },
  {
   "cell_type": "code",
   "execution_count": null,
   "metadata": {
    "ExecuteTime": {
     "end_time": "2021-07-23T17:50:25.120058Z",
     "start_time": "2021-07-23T17:50:24.917475Z"
    }
   },
   "outputs": [],
   "source": [
    "sb.set_context(\"paper\")\n",
    "sinplot()"
   ]
  },
  {
   "cell_type": "code",
   "execution_count": null,
   "metadata": {
    "ExecuteTime": {
     "end_time": "2021-07-23T17:50:25.313768Z",
     "start_time": "2021-07-23T17:50:25.122680Z"
    }
   },
   "outputs": [],
   "source": [
    "sb.set_context(\"notebook\")\n",
    "sinplot()"
   ]
  },
  {
   "cell_type": "code",
   "execution_count": null,
   "metadata": {
    "ExecuteTime": {
     "end_time": "2021-07-23T17:50:25.472421Z",
     "start_time": "2021-07-23T17:50:25.315677Z"
    }
   },
   "outputs": [],
   "source": [
    "sb.set_context(\"talk\")\n",
    "sinplot()"
   ]
  },
  {
   "cell_type": "code",
   "execution_count": null,
   "metadata": {
    "ExecuteTime": {
     "end_time": "2021-07-23T17:50:25.626255Z",
     "start_time": "2021-07-23T17:50:25.474715Z"
    }
   },
   "outputs": [],
   "source": [
    "sb.set_context(\"poster\")\n",
    "sinplot()"
   ]
  },
  {
   "cell_type": "code",
   "execution_count": null,
   "metadata": {
    "ExecuteTime": {
     "end_time": "2021-07-23T17:50:25.844821Z",
     "start_time": "2021-07-23T17:50:25.628137Z"
    }
   },
   "outputs": [],
   "source": [
    "sb.set(context='paper', rc={\"figure.figsize\": (10, 6)})\n",
    "sinplot()"
   ]
  },
  {
   "cell_type": "markdown",
   "metadata": {},
   "source": [
    "# Color Palettes"
   ]
  },
  {
   "cell_type": "code",
   "execution_count": null,
   "metadata": {
    "ExecuteTime": {
     "end_time": "2021-07-23T17:50:25.969098Z",
     "start_time": "2021-07-23T17:50:25.848060Z"
    }
   },
   "outputs": [],
   "source": [
    "current_palette = sb.color_palette(\"deep\")\n",
    "sb.palplot(current_palette)"
   ]
  },
  {
   "cell_type": "code",
   "execution_count": null,
   "metadata": {
    "ExecuteTime": {
     "end_time": "2021-07-23T17:50:26.054237Z",
     "start_time": "2021-07-23T17:50:25.970867Z"
    }
   },
   "outputs": [],
   "source": [
    "sb.palplot(sb.color_palette(\"pastel\"))"
   ]
  },
  {
   "cell_type": "code",
   "execution_count": null,
   "metadata": {
    "ExecuteTime": {
     "end_time": "2021-07-23T17:50:26.144106Z",
     "start_time": "2021-07-23T17:50:26.057711Z"
    }
   },
   "outputs": [],
   "source": [
    "sb.palplot(sb.color_palette(\"bright\"))"
   ]
  },
  {
   "cell_type": "code",
   "execution_count": null,
   "metadata": {
    "ExecuteTime": {
     "end_time": "2021-07-23T17:50:26.226270Z",
     "start_time": "2021-07-23T17:50:26.146070Z"
    }
   },
   "outputs": [],
   "source": [
    "sb.palplot(sb.color_palette(\"dark\"))"
   ]
  },
  {
   "cell_type": "code",
   "execution_count": null,
   "metadata": {
    "ExecuteTime": {
     "end_time": "2021-07-23T17:50:26.304966Z",
     "start_time": "2021-07-23T17:50:26.231844Z"
    }
   },
   "outputs": [],
   "source": [
    "sb.palplot(sb.color_palette(\"colorblind\"))"
   ]
  },
  {
   "cell_type": "code",
   "execution_count": null,
   "metadata": {
    "ExecuteTime": {
     "end_time": "2021-07-23T17:50:26.364280Z",
     "start_time": "2021-07-23T17:50:26.308431Z"
    }
   },
   "outputs": [],
   "source": [
    "sb.palplot(sb.color_palette(\"Blues\"))"
   ]
  },
  {
   "cell_type": "code",
   "execution_count": null,
   "metadata": {
    "ExecuteTime": {
     "end_time": "2021-07-23T17:50:26.490298Z",
     "start_time": "2021-07-23T17:50:26.365946Z"
    }
   },
   "outputs": [],
   "source": [
    "sb.palplot(sb.color_palette(\"BuGn_r\"))"
   ]
  },
  {
   "cell_type": "code",
   "execution_count": null,
   "metadata": {
    "ExecuteTime": {
     "end_time": "2021-07-23T17:50:26.569982Z",
     "start_time": "2021-07-23T17:50:26.492073Z"
    }
   },
   "outputs": [],
   "source": [
    "sb.palplot(sb.color_palette(\"Paired\"))"
   ]
  },
  {
   "cell_type": "code",
   "execution_count": null,
   "metadata": {
    "ExecuteTime": {
     "end_time": "2021-07-23T17:50:26.640647Z",
     "start_time": "2021-07-23T17:50:26.571537Z"
    }
   },
   "outputs": [],
   "source": [
    "sb.palplot(sb.color_palette(\"Set2\", n_colors=10, desat=.8))"
   ]
  },
  {
   "cell_type": "code",
   "execution_count": null,
   "metadata": {
    "ExecuteTime": {
     "end_time": "2021-07-23T17:50:26.708485Z",
     "start_time": "2021-07-23T17:50:26.642471Z"
    }
   },
   "outputs": [],
   "source": [
    "sb.palplot(sb.color_palette(\"husl\", n_colors=8))"
   ]
  },
  {
   "cell_type": "code",
   "execution_count": null,
   "metadata": {
    "ExecuteTime": {
     "end_time": "2021-07-23T17:50:26.782418Z",
     "start_time": "2021-07-23T17:50:26.709878Z"
    }
   },
   "outputs": [],
   "source": [
    "sb.palplot(sb.color_palette(\"hls\", 8))"
   ]
  },
  {
   "cell_type": "code",
   "execution_count": null,
   "metadata": {
    "ExecuteTime": {
     "end_time": "2021-07-23T17:50:26.859347Z",
     "start_time": "2021-07-23T17:50:26.783955Z"
    },
    "scrolled": true
   },
   "outputs": [],
   "source": [
    "sb.palplot(sb.hls_palette(8, l=.3, s=.8))"
   ]
  },
  {
   "cell_type": "code",
   "execution_count": null,
   "metadata": {
    "ExecuteTime": {
     "end_time": "2021-07-23T17:50:26.935531Z",
     "start_time": "2021-07-23T17:50:26.860900Z"
    }
   },
   "outputs": [],
   "source": [
    "sb.palplot(sb.husl_palette(8, l=.3, s=.8))"
   ]
  },
  {
   "cell_type": "code",
   "execution_count": null,
   "metadata": {
    "ExecuteTime": {
     "end_time": "2021-07-23T17:50:27.033956Z",
     "start_time": "2021-07-23T17:50:26.938073Z"
    }
   },
   "outputs": [],
   "source": [
    "sb.palplot(sb.light_palette(\"purple\"))"
   ]
  },
  {
   "cell_type": "code",
   "execution_count": null,
   "metadata": {
    "ExecuteTime": {
     "end_time": "2021-07-23T17:50:27.112528Z",
     "start_time": "2021-07-23T17:50:27.037033Z"
    }
   },
   "outputs": [],
   "source": [
    "sb.palplot(sb.dark_palette(\"purple\"))"
   ]
  },
  {
   "cell_type": "code",
   "execution_count": null,
   "metadata": {
    "ExecuteTime": {
     "end_time": "2021-07-23T17:50:27.202171Z",
     "start_time": "2021-07-23T17:50:27.114487Z"
    }
   },
   "outputs": [],
   "source": [
    "sb.palplot(sb.blend_palette([\"firebrick\", \"palegreen\"], 8)) "
   ]
  },
  {
   "cell_type": "code",
   "execution_count": null,
   "metadata": {
    "ExecuteTime": {
     "end_time": "2021-07-23T17:50:27.310172Z",
     "start_time": "2021-07-23T17:50:27.203905Z"
    }
   },
   "outputs": [],
   "source": [
    "sb.palplot(sb.diverging_palette(220, 20, n=7))"
   ]
  },
  {
   "cell_type": "code",
   "execution_count": null,
   "metadata": {
    "ExecuteTime": {
     "end_time": "2021-07-23T17:50:27.391874Z",
     "start_time": "2021-07-23T17:50:27.316007Z"
    }
   },
   "outputs": [],
   "source": [
    "sb.diverging_palette?"
   ]
  },
  {
   "cell_type": "code",
   "execution_count": null,
   "metadata": {
    "ExecuteTime": {
     "end_time": "2021-07-23T17:50:27.491006Z",
     "start_time": "2021-07-23T17:50:27.395823Z"
    }
   },
   "outputs": [],
   "source": [
    "sb.palplot(sb.diverging_palette(255, 133, l=60, n=7, center=\"dark\"))"
   ]
  },
  {
   "cell_type": "code",
   "execution_count": null,
   "metadata": {
    "ExecuteTime": {
     "end_time": "2021-07-23T17:50:27.570253Z",
     "start_time": "2021-07-23T17:50:27.493770Z"
    }
   },
   "outputs": [],
   "source": [
    "flatui = [\"#9b59b6\", \"#3498db\", \"#95a5a6\", \"#e74c3c\", \"#34495e\", \"#2ecc71\"]\n",
    "sb.palplot(sb.color_palette(flatui))"
   ]
  },
  {
   "cell_type": "code",
   "execution_count": null,
   "metadata": {
    "ExecuteTime": {
     "end_time": "2021-07-23T17:50:27.647155Z",
     "start_time": "2021-07-23T17:50:27.572718Z"
    }
   },
   "outputs": [],
   "source": [
    "colors = [\"windows blue\", \"amber\", \"greyish\", \"faded green\", \"dusty purple\", \"wisteria\"]\n",
    "sb.palplot(sb.xkcd_palette(colors))"
   ]
  },
  {
   "cell_type": "code",
   "execution_count": null,
   "metadata": {
    "ExecuteTime": {
     "end_time": "2021-07-23T17:50:27.690499Z",
     "start_time": "2021-07-23T17:50:27.649122Z"
    },
    "scrolled": true
   },
   "outputs": [],
   "source": [
    "sb.xkcd_rgb"
   ]
  },
  {
   "cell_type": "code",
   "execution_count": null,
   "metadata": {
    "ExecuteTime": {
     "end_time": "2021-07-23T17:50:27.791931Z",
     "start_time": "2021-07-23T17:50:27.692558Z"
    }
   },
   "outputs": [],
   "source": [
    "sb.palplot(sb.cubehelix_palette(8, start=1.5, rot=1.75, dark=0.5, light=.95, reverse=True))"
   ]
  },
  {
   "cell_type": "code",
   "execution_count": null,
   "metadata": {
    "ExecuteTime": {
     "end_time": "2021-07-23T17:50:28.084047Z",
     "start_time": "2021-07-23T17:50:27.794524Z"
    }
   },
   "outputs": [],
   "source": [
    "with sb.xkcd_palette(colors):\n",
    "    sinplot()"
   ]
  },
  {
   "cell_type": "code",
   "execution_count": null,
   "metadata": {
    "ExecuteTime": {
     "end_time": "2021-07-23T17:50:28.276245Z",
     "start_time": "2021-07-23T17:50:28.085936Z"
    }
   },
   "outputs": [],
   "source": [
    "sinplot()"
   ]
  },
  {
   "cell_type": "code",
   "execution_count": null,
   "metadata": {
    "ExecuteTime": {
     "end_time": "2021-07-23T17:50:28.480992Z",
     "start_time": "2021-07-23T17:50:28.277920Z"
    }
   },
   "outputs": [],
   "source": [
    "sb.set_palette(sb.color_palette(\"Dark2\", 8))\n",
    "sinplot()"
   ]
  },
  {
   "cell_type": "markdown",
   "metadata": {},
   "source": [
    "# Density Plots"
   ]
  },
  {
   "cell_type": "code",
   "execution_count": null,
   "metadata": {
    "ExecuteTime": {
     "end_time": "2021-07-23T17:50:28.821659Z",
     "start_time": "2021-07-23T17:50:28.483834Z"
    }
   },
   "outputs": [],
   "source": [
    "x = np.random.normal(size=200)\n",
    "\n",
    "g = sb.displot(x)\n",
    "g.fig.set_figwidth(12)\n",
    "g.fig.set_figheight(7)"
   ]
  },
  {
   "cell_type": "code",
   "execution_count": null,
   "metadata": {
    "ExecuteTime": {
     "end_time": "2021-07-23T17:50:29.130301Z",
     "start_time": "2021-07-23T17:50:28.823574Z"
    }
   },
   "outputs": [],
   "source": [
    "g = sb.displot(x, kde=True)\n",
    "g.fig.set_figwidth(12)\n",
    "g.fig.set_figheight(7)"
   ]
  },
  {
   "cell_type": "code",
   "execution_count": null,
   "metadata": {
    "ExecuteTime": {
     "end_time": "2021-07-23T17:50:29.455204Z",
     "start_time": "2021-07-23T17:50:29.132641Z"
    }
   },
   "outputs": [],
   "source": [
    "g = sb.displot(x, bins=5, kde=True)\n",
    "g.fig.set_figwidth(12)\n",
    "g.fig.set_figheight(7)"
   ]
  },
  {
   "cell_type": "code",
   "execution_count": null,
   "metadata": {
    "ExecuteTime": {
     "end_time": "2021-07-23T17:50:29.783144Z",
     "start_time": "2021-07-23T17:50:29.457815Z"
    }
   },
   "outputs": [],
   "source": [
    "g = sb.displot(x, bins=20, rug=True, alpha=0.5)\n",
    "g.fig.set_figwidth(12)\n",
    "g.fig.set_figheight(7)"
   ]
  },
  {
   "cell_type": "code",
   "execution_count": null,
   "metadata": {
    "ExecuteTime": {
     "end_time": "2021-07-23T17:50:30.520416Z",
     "start_time": "2021-07-23T17:50:29.785218Z"
    },
    "scrolled": false
   },
   "outputs": [],
   "source": [
    "f, axes = plt.subplots(2, 2, figsize=(10, 10), sharex=True)\n",
    "sb.despine(left=True)\n",
    "\n",
    "sb.kdeplot(x, color=\"b\", ax=axes[0, 0])\n",
    "\n",
    "sb.histplot(x, color=\"r\", ax=axes[0, 1])\n",
    "\n",
    "sb.ecdfplot(x, color=\"g\", ax=axes[1, 0])\n",
    "\n",
    "_ = sb.histplot(x, bins=100, kde=True, color=\"y\", ax=axes[1, 1])"
   ]
  },
  {
   "cell_type": "code",
   "execution_count": null,
   "metadata": {
    "ExecuteTime": {
     "end_time": "2021-07-23T17:50:30.742766Z",
     "start_time": "2021-07-23T17:50:30.522814Z"
    }
   },
   "outputs": [],
   "source": [
    "x = np.random.normal(size=15)\n",
    "\n",
    "support = np.linspace(-4, 4, 100)\n",
    "bandwidth = 0.7\n",
    "for x_i in x:\n",
    "    plt.plot(support,  sp.stats.norm(x_i, bandwidth).pdf(support))"
   ]
  },
  {
   "cell_type": "code",
   "execution_count": null,
   "metadata": {
    "ExecuteTime": {
     "end_time": "2021-07-23T17:50:31.084507Z",
     "start_time": "2021-07-23T17:50:30.744101Z"
    }
   },
   "outputs": [],
   "source": [
    "for x_i in x:\n",
    "    plt.plot(support,  sp.stats.norm(x_i, bandwidth).pdf(support))\n",
    "    \n",
    "_ = sb.rugplot(x, color=\".2\", linewidth=3)"
   ]
  },
  {
   "cell_type": "code",
   "execution_count": null,
   "metadata": {
    "ExecuteTime": {
     "end_time": "2021-07-23T17:50:31.117669Z",
     "start_time": "2021-07-23T17:50:31.087623Z"
    }
   },
   "outputs": [],
   "source": [
    "kernels = []\n",
    "for x_i in x:\n",
    "    kernel = sp.stats.norm(x_i, bandwidth).pdf(support)\n",
    "    kernels.append(kernel)"
   ]
  },
  {
   "cell_type": "code",
   "execution_count": null,
   "metadata": {
    "ExecuteTime": {
     "end_time": "2021-07-23T17:50:31.353630Z",
     "start_time": "2021-07-23T17:50:31.119982Z"
    }
   },
   "outputs": [],
   "source": [
    "density = np.sum(kernels, axis=0)\n",
    "_ = plt.plot(support, density)"
   ]
  },
  {
   "cell_type": "code",
   "execution_count": null,
   "metadata": {
    "ExecuteTime": {
     "end_time": "2021-07-23T17:50:31.575591Z",
     "start_time": "2021-07-23T17:50:31.356891Z"
    }
   },
   "outputs": [],
   "source": [
    "density /= sp.integrate.trapz(density, support)\n",
    "_ = plt.plot(support, density)"
   ]
  },
  {
   "cell_type": "code",
   "execution_count": null,
   "metadata": {
    "ExecuteTime": {
     "end_time": "2021-07-23T17:50:31.790188Z",
     "start_time": "2021-07-23T17:50:31.580622Z"
    }
   },
   "outputs": [],
   "source": [
    "_ = sb.kdeplot(x, shade=True)"
   ]
  },
  {
   "cell_type": "code",
   "execution_count": null,
   "metadata": {
    "ExecuteTime": {
     "end_time": "2021-07-23T17:50:32.094838Z",
     "start_time": "2021-07-23T17:50:31.791731Z"
    }
   },
   "outputs": [],
   "source": [
    "sb.kdeplot(x, bw_method='scott', label=\"bw: scott\")\n",
    "sb.kdeplot(x, bw_method='silverman', label=\"bw: silverman\")\n",
    "sb.kdeplot(x, bw_method=.2, label=\"bw: 0.2\")\n",
    "sb.kdeplot(x, bw_method=2, label=\"bw: 2\")\n",
    "sb.rugplot(x)\n",
    "plt.ylim(0, 0.8)\n",
    "_ = plt.legend()"
   ]
  },
  {
   "cell_type": "code",
   "execution_count": null,
   "metadata": {
    "ExecuteTime": {
     "end_time": "2021-07-23T17:50:32.444019Z",
     "start_time": "2021-07-23T17:50:32.097335Z"
    },
    "scrolled": true
   },
   "outputs": [],
   "source": [
    "x = np.random.normal(size=30)\n",
    "\n",
    "plt.subplot(221)\n",
    "sb.kdeplot(x, shade=True)\n",
    "sb.rugplot(x)\n",
    "\n",
    "plt.subplot(222)\n",
    "sb.kdeplot(x, shade=True, cut=0)\n",
    "sb.rugplot(x)"
   ]
  },
  {
   "cell_type": "code",
   "execution_count": null,
   "metadata": {
    "ExecuteTime": {
     "end_time": "2021-07-23T17:50:33.183837Z",
     "start_time": "2021-07-23T17:50:32.446901Z"
    }
   },
   "outputs": [],
   "source": [
    "x = np.random.gamma(6, size=200) \n",
    "\n",
    "# Fit de distribuciones se reimplementará en próximas versiones de seaborn\n",
    "\n",
    "plt.subplot(221)\n",
    "sb.distplot(x, kde=False, hist=True, fit=sp.stats.norm)\n",
    "\n",
    "plt.subplot(222)\n",
    "sb.distplot(x, kde=False, hist=True, fit=sp.stats.laplace)\n",
    "\n",
    "plt.subplot(223)\n",
    "sb.distplot(x, kde=False, hist=True, fit=sp.stats.expon)\n",
    "\n",
    "plt.subplot(224)\n",
    "_ = sb.distplot(x, kde=False, hist=True, fit=sp.stats.gamma)"
   ]
  },
  {
   "cell_type": "markdown",
   "metadata": {},
   "source": [
    "## Bivariate Plots"
   ]
  },
  {
   "cell_type": "code",
   "execution_count": null,
   "metadata": {
    "ExecuteTime": {
     "end_time": "2021-07-23T17:50:33.188848Z",
     "start_time": "2021-07-23T17:50:33.185283Z"
    }
   },
   "outputs": [],
   "source": [
    "import pandas as pd\n",
    "sb.set()"
   ]
  },
  {
   "cell_type": "code",
   "execution_count": null,
   "metadata": {
    "ExecuteTime": {
     "end_time": "2021-07-23T17:50:33.197826Z",
     "start_time": "2021-07-23T17:50:33.191213Z"
    },
    "scrolled": true
   },
   "outputs": [],
   "source": [
    "mean, cov = [0, 1], [(1, .95), (.95, 1)]\n",
    "data = np.random.multivariate_normal(mean, cov, 200)\n",
    "x, y = data.T[0], data.T[1]"
   ]
  },
  {
   "cell_type": "code",
   "execution_count": null,
   "metadata": {
    "ExecuteTime": {
     "end_time": "2021-07-23T17:50:33.466337Z",
     "start_time": "2021-07-23T17:50:33.200835Z"
    }
   },
   "outputs": [],
   "source": [
    "sb.histplot(x, kde=True, color='r')\n",
    "_ = sb.histplot(y, kde=True, color='b')"
   ]
  },
  {
   "cell_type": "code",
   "execution_count": null,
   "metadata": {
    "ExecuteTime": {
     "end_time": "2021-07-23T17:50:33.923115Z",
     "start_time": "2021-07-23T17:50:33.468163Z"
    }
   },
   "outputs": [],
   "source": [
    "_ = sb.jointplot(x=x, y=y, height=7)"
   ]
  },
  {
   "cell_type": "code",
   "execution_count": null,
   "metadata": {
    "ExecuteTime": {
     "end_time": "2021-07-23T17:50:34.339827Z",
     "start_time": "2021-07-23T17:50:33.925418Z"
    }
   },
   "outputs": [],
   "source": [
    "_ = sb.jointplot(x=x, y=y, height=7, kind='hex')"
   ]
  },
  {
   "cell_type": "code",
   "execution_count": null,
   "metadata": {
    "ExecuteTime": {
     "end_time": "2021-07-23T17:50:34.991492Z",
     "start_time": "2021-07-23T17:50:34.341492Z"
    }
   },
   "outputs": [],
   "source": [
    "sb.jointplot(x=x, y=y, height=7, kind='kde')\n",
    "plt.savefig('kde2d.pdf')"
   ]
  },
  {
   "cell_type": "code",
   "execution_count": null,
   "metadata": {
    "ExecuteTime": {
     "end_time": "2021-07-23T17:50:35.354763Z",
     "start_time": "2021-07-23T17:50:34.993587Z"
    }
   },
   "outputs": [],
   "source": [
    "f, ax = plt.subplots(figsize=(7, 7))\n",
    "sb.kdeplot(x=x, y=y, ax=ax)\n",
    "sb.rugplot(x=x, color=\"g\", ax=ax)\n",
    "_ = sb.rugplot(y=y, ax=ax)"
   ]
  },
  {
   "cell_type": "code",
   "execution_count": null,
   "metadata": {
    "ExecuteTime": {
     "end_time": "2021-07-23T17:50:35.805101Z",
     "start_time": "2021-07-23T17:50:35.358013Z"
    }
   },
   "outputs": [],
   "source": [
    "f, ax = plt.subplots(figsize=(7, 7))\n",
    "cmap = sb.cubehelix_palette(as_cmap=True, dark=0, light=1, reverse=True)\n",
    "_ = sb.kdeplot(x=x, y=y, ax=ax, cmap=cmap, n_levels=60, shade=True)"
   ]
  },
  {
   "cell_type": "code",
   "execution_count": null,
   "metadata": {
    "ExecuteTime": {
     "end_time": "2021-07-23T17:50:36.730676Z",
     "start_time": "2021-07-23T17:50:35.808446Z"
    }
   },
   "outputs": [],
   "source": [
    "g = sb.jointplot(x=x, y=y, kind=\"kde\")\n",
    "g.plot_joint(plt.scatter, c=\"w\", s=30, linewidth=1, marker=\"+\")\n",
    "g.ax_joint.collections[0].set_alpha(0)\n",
    "_ = g.set_axis_labels(\"$X$\", \"$Y$\")"
   ]
  },
  {
   "cell_type": "code",
   "execution_count": null,
   "metadata": {
    "ExecuteTime": {
     "end_time": "2021-07-23T17:50:38.358362Z",
     "start_time": "2021-07-23T17:50:36.749878Z"
    }
   },
   "outputs": [],
   "source": [
    "rs = np.random.RandomState(50)\n",
    "\n",
    "# Set up the matplotlib figure\n",
    "f, axes = plt.subplots(3, 3, figsize=(9, 9), sharex=True, sharey=True)\n",
    "\n",
    "# Rotate the starting point around the cubehelix hue circle\n",
    "for ax, s in zip(axes.flat, np.linspace(0, 3, 10)):\n",
    "    # Create a cubehelix colormap to use with kdeplot\n",
    "    cmap = sb.cubehelix_palette(start=s, light=1, as_cmap=True)\n",
    "    # Generate and plot a random bivariate dataset\n",
    "    x, y = rs.randn(2, 50)\n",
    "    sb.kdeplot(x=x, y=y, cmap=cmap, shade=True, cut=5, ax=ax)\n",
    "    ax.set(xlim=(-3, 3), ylim=(-3, 3))\n",
    "\n",
    "f.tight_layout()"
   ]
  },
  {
   "cell_type": "markdown",
   "metadata": {},
   "source": [
    "# Working with Dataframes"
   ]
  },
  {
   "cell_type": "code",
   "execution_count": null,
   "metadata": {
    "ExecuteTime": {
     "end_time": "2021-07-23T17:50:38.394678Z",
     "start_time": "2021-07-23T17:50:38.363344Z"
    },
    "scrolled": true
   },
   "outputs": [],
   "source": [
    "tips = sb.load_dataset(\"tips\")\n",
    "tips"
   ]
  },
  {
   "cell_type": "code",
   "execution_count": null,
   "metadata": {
    "ExecuteTime": {
     "end_time": "2021-07-23T17:50:38.561562Z",
     "start_time": "2021-07-23T17:50:38.396851Z"
    }
   },
   "outputs": [],
   "source": [
    "sb.countplot(x=tips['day'], hue=tips['sex'])"
   ]
  },
  {
   "cell_type": "code",
   "execution_count": null,
   "metadata": {
    "ExecuteTime": {
     "end_time": "2021-07-23T17:50:38.739638Z",
     "start_time": "2021-07-23T17:50:38.564209Z"
    },
    "scrolled": false
   },
   "outputs": [],
   "source": [
    "sb.countplot(x=\"day\", hue=\"sex\", data=tips)"
   ]
  },
  {
   "cell_type": "code",
   "execution_count": null,
   "metadata": {
    "ExecuteTime": {
     "end_time": "2021-07-23T17:50:38.944702Z",
     "start_time": "2021-07-23T17:50:38.742221Z"
    },
    "scrolled": false
   },
   "outputs": [],
   "source": [
    "sb.countplot(y=\"day\", hue=\"sex\", data=tips, palette='hls')"
   ]
  },
  {
   "cell_type": "code",
   "execution_count": null,
   "metadata": {
    "ExecuteTime": {
     "end_time": "2021-07-23T17:50:39.336519Z",
     "start_time": "2021-07-23T17:50:38.946762Z"
    },
    "scrolled": false
   },
   "outputs": [],
   "source": [
    "sb.barplot(x=\"day\", y=\"total_bill\", hue=\"sex\", data=tips)"
   ]
  },
  {
   "cell_type": "code",
   "execution_count": null,
   "metadata": {
    "ExecuteTime": {
     "end_time": "2021-07-23T17:50:39.736013Z",
     "start_time": "2021-07-23T17:50:39.339397Z"
    },
    "scrolled": false
   },
   "outputs": [],
   "source": [
    "sb.pointplot(x=\"day\", y=\"total_bill\", hue=\"sex\", data=tips)"
   ]
  },
  {
   "cell_type": "code",
   "execution_count": null,
   "metadata": {
    "ExecuteTime": {
     "end_time": "2021-07-23T17:50:40.183724Z",
     "start_time": "2021-07-23T17:50:39.738745Z"
    },
    "scrolled": false
   },
   "outputs": [],
   "source": [
    "sb.pointplot(x=\"day\", y=\"total_bill\", hue=\"sex\", data=tips, \n",
    "             palette={\"Male\": \"#943684\", \"Female\": \"#528257\"}, \n",
    "             markers=[\"^\", \"o\"], linestyles=[\"-\", \"--\"])"
   ]
  },
  {
   "cell_type": "code",
   "execution_count": null,
   "metadata": {
    "ExecuteTime": {
     "end_time": "2021-07-23T17:50:40.327651Z",
     "start_time": "2021-07-23T17:50:40.185169Z"
    }
   },
   "outputs": [],
   "source": [
    "sb.stripplot(x=\"day\", y=\"total_bill\", data=tips)"
   ]
  },
  {
   "cell_type": "code",
   "execution_count": null,
   "metadata": {
    "ExecuteTime": {
     "end_time": "2021-07-23T17:50:40.477915Z",
     "start_time": "2021-07-23T17:50:40.330681Z"
    }
   },
   "outputs": [],
   "source": [
    "sb.stripplot(x=\"day\", y=\"total_bill\", data=tips, jitter=True)"
   ]
  },
  {
   "cell_type": "code",
   "execution_count": null,
   "metadata": {
    "ExecuteTime": {
     "end_time": "2021-07-23T17:50:40.665820Z",
     "start_time": "2021-07-23T17:50:40.479345Z"
    }
   },
   "outputs": [],
   "source": [
    "sb.swarmplot(x=\"time\", y=\"tip\", data=tips)"
   ]
  },
  {
   "cell_type": "code",
   "execution_count": null,
   "metadata": {
    "ExecuteTime": {
     "end_time": "2021-07-23T17:50:40.974582Z",
     "start_time": "2021-07-23T17:50:40.667613Z"
    }
   },
   "outputs": [],
   "source": [
    "sb.swarmplot(x=\"size\", y=\"total_bill\", data=tips, size=3)"
   ]
  },
  {
   "cell_type": "code",
   "execution_count": null,
   "metadata": {
    "ExecuteTime": {
     "end_time": "2021-07-23T17:50:41.270195Z",
     "start_time": "2021-07-23T17:50:40.977998Z"
    }
   },
   "outputs": [],
   "source": [
    "sb.swarmplot(x=\"day\", y=\"total_bill\", hue=\"sex\", data=tips)"
   ]
  },
  {
   "cell_type": "code",
   "execution_count": null,
   "metadata": {
    "ExecuteTime": {
     "end_time": "2021-07-23T17:50:41.546959Z",
     "start_time": "2021-07-23T17:50:41.272611Z"
    }
   },
   "outputs": [],
   "source": [
    "sb.swarmplot(x=\"total_bill\", y=\"day\", hue=\"time\", data=tips)"
   ]
  },
  {
   "cell_type": "code",
   "execution_count": null,
   "metadata": {
    "ExecuteTime": {
     "end_time": "2021-07-23T17:50:41.775852Z",
     "start_time": "2021-07-23T17:50:41.548848Z"
    },
    "scrolled": false
   },
   "outputs": [],
   "source": [
    "sb.boxplot(x=\"day\", y=\"total_bill\", hue=\"time\", data=tips)"
   ]
  },
  {
   "cell_type": "code",
   "execution_count": null,
   "metadata": {
    "ExecuteTime": {
     "end_time": "2021-07-23T17:50:41.808448Z",
     "start_time": "2021-07-23T17:50:41.779034Z"
    },
    "scrolled": true
   },
   "outputs": [],
   "source": [
    "tips"
   ]
  },
  {
   "cell_type": "code",
   "execution_count": null,
   "metadata": {
    "ExecuteTime": {
     "end_time": "2021-07-23T17:50:41.835574Z",
     "start_time": "2021-07-23T17:50:41.810749Z"
    },
    "scrolled": true
   },
   "outputs": [],
   "source": [
    "tips[\"weekend\"] = tips[\"day\"].isin([\"Sat\", \"Sun\"])\n",
    "tips"
   ]
  },
  {
   "cell_type": "code",
   "execution_count": null,
   "metadata": {
    "ExecuteTime": {
     "end_time": "2021-07-23T17:50:42.081687Z",
     "start_time": "2021-07-23T17:50:41.837776Z"
    },
    "scrolled": false
   },
   "outputs": [],
   "source": [
    "sb.boxplot(x=\"day\", y=\"total_bill\", hue=\"weekend\", data=tips)"
   ]
  },
  {
   "cell_type": "code",
   "execution_count": null,
   "metadata": {
    "ExecuteTime": {
     "end_time": "2021-07-23T17:50:42.295462Z",
     "start_time": "2021-07-23T17:50:42.084443Z"
    }
   },
   "outputs": [],
   "source": [
    "sb.boxplot(x=\"day\", y=\"total_bill\", data=tips)\n",
    "sb.swarmplot(x=\"day\", y=\"total_bill\", data=tips, size=5, color=\".3\", linewidth=0)\n",
    "sb.despine(trim=True, left=True)"
   ]
  },
  {
   "cell_type": "code",
   "execution_count": null,
   "metadata": {
    "ExecuteTime": {
     "end_time": "2021-07-23T17:50:42.605572Z",
     "start_time": "2021-07-23T17:50:42.296909Z"
    }
   },
   "outputs": [],
   "source": [
    "sb.violinplot(x=\"total_bill\", y=\"day\", hue=\"sex\", data=tips)"
   ]
  },
  {
   "cell_type": "code",
   "execution_count": null,
   "metadata": {
    "ExecuteTime": {
     "end_time": "2021-07-23T17:50:42.912603Z",
     "start_time": "2021-07-23T17:50:42.607185Z"
    }
   },
   "outputs": [],
   "source": [
    "sb.violinplot(x=\"day\", y=\"total_bill\", hue=\"sex\", data=tips, bw=.2, scale=\"count\")"
   ]
  },
  {
   "cell_type": "code",
   "execution_count": null,
   "metadata": {
    "ExecuteTime": {
     "end_time": "2021-07-23T17:50:43.196316Z",
     "start_time": "2021-07-23T17:50:42.914265Z"
    }
   },
   "outputs": [],
   "source": [
    "sb.violinplot(x=\"day\", y=\"total_bill\", hue=\"sex\", data=tips, bw=.1, scale=\"count\", \n",
    "              split=True)"
   ]
  },
  {
   "cell_type": "code",
   "execution_count": null,
   "metadata": {
    "ExecuteTime": {
     "end_time": "2021-07-23T17:50:43.848992Z",
     "start_time": "2021-07-23T17:50:43.200574Z"
    }
   },
   "outputs": [],
   "source": [
    "sb.violinplot(x=\"day\", y=\"total_bill\", hue=\"sex\", data=tips, split=True, inner=\"stick\")"
   ]
  },
  {
   "cell_type": "code",
   "execution_count": null,
   "metadata": {
    "ExecuteTime": {
     "end_time": "2021-07-23T17:50:44.099575Z",
     "start_time": "2021-07-23T17:50:43.850506Z"
    }
   },
   "outputs": [],
   "source": [
    "sb.violinplot(x=\"day\", y=\"total_bill\", hue=\"sex\", data=tips, split=True, inner=\"quart\")\n",
    "sb.despine(left=True)"
   ]
  },
  {
   "cell_type": "code",
   "execution_count": null,
   "metadata": {
    "ExecuteTime": {
     "end_time": "2021-07-23T17:50:44.312869Z",
     "start_time": "2021-07-23T17:50:44.101719Z"
    }
   },
   "outputs": [],
   "source": [
    "sb.violinplot(x=\"day\", y=\"total_bill\", data=tips, inner=None)\n",
    "sb.swarmplot(x=\"day\", y=\"total_bill\", data=tips, color=\"w\", alpha=.5)"
   ]
  },
  {
   "cell_type": "code",
   "execution_count": null,
   "metadata": {
    "ExecuteTime": {
     "end_time": "2021-07-23T17:50:44.736628Z",
     "start_time": "2021-07-23T17:50:44.314491Z"
    }
   },
   "outputs": [],
   "source": [
    "sb.catplot(x=\"day\", y=\"total_bill\", hue=\"sex\", data=tips, height=6)"
   ]
  },
  {
   "cell_type": "code",
   "execution_count": null,
   "metadata": {
    "ExecuteTime": {
     "end_time": "2021-07-23T17:50:45.282839Z",
     "start_time": "2021-07-23T17:50:44.739986Z"
    }
   },
   "outputs": [],
   "source": [
    "sb.catplot(x=\"day\", y=\"total_bill\", hue=\"sex\", data=tips, height=6, kind=\"bar\")"
   ]
  },
  {
   "cell_type": "code",
   "execution_count": null,
   "metadata": {
    "ExecuteTime": {
     "end_time": "2021-07-23T17:50:45.316163Z",
     "start_time": "2021-07-23T17:50:45.284551Z"
    },
    "scrolled": true
   },
   "outputs": [],
   "source": [
    "tips"
   ]
  },
  {
   "cell_type": "code",
   "execution_count": null,
   "metadata": {
    "ExecuteTime": {
     "end_time": "2021-07-23T17:50:45.727467Z",
     "start_time": "2021-07-23T17:50:45.318355Z"
    }
   },
   "outputs": [],
   "source": [
    "sb.catplot(x=\"day\", hue=\"size\", data=tips, height=6, kind=\"count\", palette=\"BuPu\", aspect=1.5)"
   ]
  },
  {
   "cell_type": "code",
   "execution_count": null,
   "metadata": {
    "ExecuteTime": {
     "end_time": "2021-07-23T17:50:46.444262Z",
     "start_time": "2021-07-23T17:50:45.731141Z"
    }
   },
   "outputs": [],
   "source": [
    "sb.catplot(x=\"day\", y=\"total_bill\", hue=\"smoker\", \n",
    "              col=\"time\", data=tips, height=6, kind=\"swarm\")"
   ]
  },
  {
   "cell_type": "code",
   "execution_count": null,
   "metadata": {
    "ExecuteTime": {
     "end_time": "2021-07-23T17:50:47.255158Z",
     "start_time": "2021-07-23T17:50:46.445659Z"
    }
   },
   "outputs": [],
   "source": [
    "sb.catplot(x=\"time\", y=\"total_bill\", hue=\"smoker\", col=\"day\", data=tips, \n",
    "              kind=\"box\", height=6, aspect=.5)"
   ]
  },
  {
   "cell_type": "code",
   "execution_count": null,
   "metadata": {
    "ExecuteTime": {
     "end_time": "2021-07-23T17:50:47.280868Z",
     "start_time": "2021-07-23T17:50:47.256536Z"
    },
    "scrolled": true
   },
   "outputs": [],
   "source": [
    "tips"
   ]
  },
  {
   "cell_type": "code",
   "execution_count": null,
   "metadata": {
    "ExecuteTime": {
     "end_time": "2021-07-23T17:50:48.386999Z",
     "start_time": "2021-07-23T17:50:47.282652Z"
    }
   },
   "outputs": [],
   "source": [
    "g = sb.PairGrid(tips, x_vars=[\"smoker\", \"time\", \"sex\"], \n",
    "                y_vars=[\"total_bill\", \"tip\", \"size\"], aspect=.75, height=6,)\n",
    "g.map(sb.stripplot, palette=\"pastel\")"
   ]
  },
  {
   "cell_type": "markdown",
   "metadata": {},
   "source": [
    "## Bivariates Plots"
   ]
  },
  {
   "cell_type": "code",
   "execution_count": null,
   "metadata": {
    "ExecuteTime": {
     "end_time": "2021-07-23T17:50:48.424135Z",
     "start_time": "2021-07-23T17:50:48.388706Z"
    },
    "scrolled": true
   },
   "outputs": [],
   "source": [
    "iris = sb.load_dataset('iris')\n",
    "iris"
   ]
  },
  {
   "cell_type": "code",
   "execution_count": null,
   "metadata": {
    "ExecuteTime": {
     "end_time": "2021-07-23T17:50:48.900146Z",
     "start_time": "2021-07-23T17:50:48.426712Z"
    },
    "scrolled": false
   },
   "outputs": [],
   "source": [
    "sb.jointplot(x=\"sepal_length\", y=\"sepal_width\", data=iris, height=7)"
   ]
  },
  {
   "cell_type": "code",
   "execution_count": null,
   "metadata": {
    "ExecuteTime": {
     "end_time": "2021-07-23T17:50:51.440408Z",
     "start_time": "2021-07-23T17:50:48.902885Z"
    },
    "scrolled": false
   },
   "outputs": [],
   "source": [
    "sb.pairplot(iris)"
   ]
  },
  {
   "cell_type": "code",
   "execution_count": null,
   "metadata": {
    "ExecuteTime": {
     "end_time": "2021-07-23T17:50:55.644087Z",
     "start_time": "2021-07-23T17:50:51.441918Z"
    },
    "scrolled": false
   },
   "outputs": [],
   "source": [
    "sb.pairplot(iris, hue=\"species\")"
   ]
  },
  {
   "cell_type": "code",
   "execution_count": null,
   "metadata": {
    "ExecuteTime": {
     "end_time": "2021-07-23T17:50:58.029451Z",
     "start_time": "2021-07-23T17:50:55.646582Z"
    },
    "scrolled": false
   },
   "outputs": [],
   "source": [
    "g = sb.PairGrid(iris[iris.species == 'versicolor'])\n",
    "g.map_diag(sb.histplot, kde=True, bins='auto', kde_kws={'cumulative': True})\n",
    "g.map_lower(sb.kdeplot, cmap=\"Blues_d\", n_levels=6)\n",
    "g.map_upper(plt.scatter)"
   ]
  },
  {
   "cell_type": "code",
   "execution_count": null,
   "metadata": {
    "ExecuteTime": {
     "end_time": "2021-07-23T17:50:58.392576Z",
     "start_time": "2021-07-23T17:50:58.030871Z"
    }
   },
   "outputs": [],
   "source": [
    "# Subset the iris dataset by species\n",
    "setosa = iris.query(\"species == 'setosa'\")\n",
    "virginica = iris.query(\"species == 'virginica'\")\n",
    "\n",
    "# Set up the figure\n",
    "f, ax = plt.subplots(figsize=(8, 8))\n",
    "ax.set_aspect(\"equal\")\n",
    "\n",
    "# Draw the two density plots\n",
    "ax = sb.kdeplot(x=setosa.sepal_width, y=setosa.sepal_length,\n",
    "                 cmap=\"Reds\", shade=True, thresh=0.05)\n",
    "ax = sb.kdeplot(x=virginica.sepal_width, y=virginica.sepal_length,\n",
    "                 cmap=\"Blues\", shade=True, thresh=0.05)\n",
    "\n",
    "# Add labels to the plot\n",
    "red = sb.color_palette(\"Reds\")[-2]\n",
    "blue = sb.color_palette(\"Blues\")[-2]\n",
    "ax.text(2.5, 8.2, \"virginica\", size=16, color=blue)\n",
    "ax.text(3.8, 4.5, \"setosa\", size=16, color=red)"
   ]
  },
  {
   "cell_type": "markdown",
   "metadata": {},
   "source": [
    "## Linear Regression"
   ]
  },
  {
   "cell_type": "code",
   "execution_count": null,
   "metadata": {
    "ExecuteTime": {
     "end_time": "2021-07-23T17:50:58.427353Z",
     "start_time": "2021-07-23T17:50:58.394116Z"
    },
    "scrolled": true
   },
   "outputs": [],
   "source": [
    "anscombe = sb.load_dataset(\"anscombe\")\n",
    "anscombe"
   ]
  },
  {
   "cell_type": "code",
   "execution_count": null,
   "metadata": {
    "ExecuteTime": {
     "end_time": "2021-07-23T17:50:58.807345Z",
     "start_time": "2021-07-23T17:50:58.429109Z"
    }
   },
   "outputs": [],
   "source": [
    "sb.regplot(x=\"x\", y=\"y\", data=anscombe.query(\"dataset == 'I'\"))"
   ]
  },
  {
   "cell_type": "code",
   "execution_count": null,
   "metadata": {
    "ExecuteTime": {
     "end_time": "2021-07-23T17:50:59.331072Z",
     "start_time": "2021-07-23T17:50:58.811282Z"
    }
   },
   "outputs": [],
   "source": [
    "sb.lmplot(x=\"petal_length\", y=\"sepal_length\", data=iris, height=6)"
   ]
  },
  {
   "cell_type": "code",
   "execution_count": null,
   "metadata": {
    "ExecuteTime": {
     "end_time": "2021-07-23T17:51:01.100668Z",
     "start_time": "2021-07-23T17:50:59.333327Z"
    }
   },
   "outputs": [],
   "source": [
    "sb.lmplot(x=\"petal_length\", y=\"sepal_length\", data=iris, height=6, x_estimator=np.mean)"
   ]
  },
  {
   "cell_type": "code",
   "execution_count": null,
   "metadata": {
    "ExecuteTime": {
     "end_time": "2021-07-23T17:51:01.691573Z",
     "start_time": "2021-07-23T17:51:01.104363Z"
    }
   },
   "outputs": [],
   "source": [
    "sb.lmplot(x=\"x\", y=\"y\", data=anscombe.query(\"dataset == 'II'\"), height=6)"
   ]
  },
  {
   "cell_type": "code",
   "execution_count": null,
   "metadata": {
    "ExecuteTime": {
     "end_time": "2021-07-23T17:51:02.153579Z",
     "start_time": "2021-07-23T17:51:01.693205Z"
    }
   },
   "outputs": [],
   "source": [
    "sb.lmplot(x=\"x\", y=\"y\", data=anscombe.query(\"dataset == 'II'\"), height=6, order=2)"
   ]
  },
  {
   "cell_type": "code",
   "execution_count": null,
   "metadata": {
    "ExecuteTime": {
     "end_time": "2021-07-23T17:51:02.781285Z",
     "start_time": "2021-07-23T17:51:02.155620Z"
    }
   },
   "outputs": [],
   "source": [
    "sb.lmplot(x=\"petal_length\", y=\"sepal_length\", data=iris, height=6, order=2)"
   ]
  },
  {
   "cell_type": "code",
   "execution_count": null,
   "metadata": {
    "ExecuteTime": {
     "end_time": "2021-07-23T17:51:03.491325Z",
     "start_time": "2021-07-23T17:51:02.783233Z"
    }
   },
   "outputs": [],
   "source": [
    "sb.lmplot(x=\"x\", y=\"y\", data=anscombe.query(\"dataset == 'III'\"), height=6, \n",
    "          x_estimator=np.mean)"
   ]
  },
  {
   "cell_type": "code",
   "execution_count": null,
   "metadata": {
    "ExecuteTime": {
     "end_time": "2021-07-23T17:51:12.682130Z",
     "start_time": "2021-07-23T17:51:03.492825Z"
    }
   },
   "outputs": [],
   "source": [
    "sb.lmplot(x=\"x\", y=\"y\", data=anscombe.query(\"dataset == 'III'\"), height=6, robust=True)"
   ]
  },
  {
   "cell_type": "code",
   "execution_count": null,
   "metadata": {
    "ExecuteTime": {
     "end_time": "2021-07-23T17:51:13.807000Z",
     "start_time": "2021-07-23T17:51:12.683519Z"
    }
   },
   "outputs": [],
   "source": [
    "sb.lmplot(x=\"x\", y=\"y\", col=\"dataset\", hue=\"dataset\", data=anscombe, \n",
    "          col_wrap=2, ci=None, palette=\"muted\", height=4, scatter_kws={\"s\": 50, \"alpha\": 1})"
   ]
  },
  {
   "cell_type": "code",
   "execution_count": null,
   "metadata": {
    "ExecuteTime": {
     "end_time": "2021-07-23T17:51:15.024325Z",
     "start_time": "2021-07-23T17:51:13.809234Z"
    }
   },
   "outputs": [],
   "source": [
    "# Plot tip as a function of toal bill across days\n",
    "g = sb.lmplot(x=\"sepal_length\", y=\"sepal_width\", hue=\"species\", \n",
    "              truncate=True, height=8, data=iris)\n",
    "g.set_axis_labels(\"Sepal length (mm)\", \"Sepal width (mm)\")"
   ]
  },
  {
   "cell_type": "code",
   "execution_count": null,
   "metadata": {
    "ExecuteTime": {
     "end_time": "2021-07-23T17:51:15.568780Z",
     "start_time": "2021-07-23T17:51:15.025647Z"
    }
   },
   "outputs": [],
   "source": [
    "tips[\"big_tip\"] = (tips.tip / tips.total_bill) > .15\n",
    "sb.lmplot(x=\"total_bill\", y=\"big_tip\", data=tips, y_jitter=.03)"
   ]
  },
  {
   "cell_type": "code",
   "execution_count": null,
   "metadata": {
    "ExecuteTime": {
     "end_time": "2021-07-23T17:51:20.526087Z",
     "start_time": "2021-07-23T17:51:15.572293Z"
    }
   },
   "outputs": [],
   "source": [
    "sb.lmplot(x=\"total_bill\", y=\"big_tip\", data=tips, y_jitter=.03, logistic=True)"
   ]
  },
  {
   "cell_type": "code",
   "execution_count": null,
   "metadata": {
    "ExecuteTime": {
     "end_time": "2021-07-23T17:51:31.683242Z",
     "start_time": "2021-07-23T17:51:20.528702Z"
    }
   },
   "outputs": [],
   "source": [
    "sb.lmplot(x=\"total_bill\", y=\"big_tip\", data=tips, y_jitter=.03, logistic=True, hue=\"time\")"
   ]
  },
  {
   "cell_type": "code",
   "execution_count": null,
   "metadata": {
    "ExecuteTime": {
     "end_time": "2021-07-23T17:51:32.382625Z",
     "start_time": "2021-07-23T17:51:31.685886Z"
    }
   },
   "outputs": [],
   "source": [
    "sb.lmplot(x=\"total_bill\", y=\"tip\", data=tips, y_jitter=.03, lowess=True, hue=\"smoker\")"
   ]
  },
  {
   "cell_type": "code",
   "execution_count": null,
   "metadata": {
    "ExecuteTime": {
     "end_time": "2021-07-23T17:51:34.575283Z",
     "start_time": "2021-07-23T17:51:32.386631Z"
    }
   },
   "outputs": [],
   "source": [
    "sb.lmplot(x=\"total_bill\", y=\"tip\", hue=\"smoker\", col=\"time\", data=tips)"
   ]
  },
  {
   "cell_type": "code",
   "execution_count": null,
   "metadata": {
    "ExecuteTime": {
     "end_time": "2021-07-23T17:51:37.863995Z",
     "start_time": "2021-07-23T17:51:34.577423Z"
    }
   },
   "outputs": [],
   "source": [
    "sb.lmplot(x=\"total_bill\", y=\"tip\", hue=\"smoker\", col=\"time\", row=\"sex\", data=tips)"
   ]
  },
  {
   "cell_type": "markdown",
   "metadata": {},
   "source": [
    "## Miscellaneous"
   ]
  },
  {
   "cell_type": "code",
   "execution_count": null,
   "metadata": {
    "ExecuteTime": {
     "end_time": "2021-07-23T17:51:38.334862Z",
     "start_time": "2021-07-23T17:51:37.866891Z"
    }
   },
   "outputs": [],
   "source": [
    "# Initialize the figure\n",
    "f, ax = plt.subplots(figsize=(15, 5))\n",
    "sb.despine(bottom=True, left=True)\n",
    "\n",
    "iris2 = pd.melt(iris, \"species\", var_name=\"measurement\")\n",
    "        \n",
    "# Show each observation with a scatterplot\n",
    "sb.stripplot(x=\"value\", y=\"measurement\", hue=\"species\",\n",
    "             data=iris2, jitter=True, alpha=.5)\n",
    "\n",
    "# Show the conditional means\n",
    "sb.pointplot(x=\"value\", y=\"measurement\", hue=\"species\", data=iris2,\n",
    "             dodge=.5, join=False, palette=\"dark\", markers=\"d\", scale=.9, ci=None)\n",
    "\n",
    "# Improve the legend\n",
    "handles, labels = ax.get_legend_handles_labels()\n",
    "ax.legend(handles[3:], labels[3:], title=\"species\", handletextpad=0, columnspacing=1,\n",
    "          loc=\"lower right\", ncol=3, frameon=True)"
   ]
  },
  {
   "cell_type": "code",
   "execution_count": null,
   "metadata": {
    "ExecuteTime": {
     "end_time": "2021-07-23T17:51:38.365258Z",
     "start_time": "2021-07-23T17:51:38.336794Z"
    },
    "scrolled": true
   },
   "outputs": [],
   "source": [
    "flights_long = sb.load_dataset(\"flights\")\n",
    "flights_long"
   ]
  },
  {
   "cell_type": "code",
   "execution_count": null,
   "metadata": {
    "ExecuteTime": {
     "end_time": "2021-07-23T17:51:38.392130Z",
     "start_time": "2021-07-23T17:51:38.367103Z"
    }
   },
   "outputs": [],
   "source": [
    "flights = flights_long.pivot(\"month\", \"year\", \"passengers\")\n",
    "flights"
   ]
  },
  {
   "cell_type": "code",
   "execution_count": null,
   "metadata": {
    "ExecuteTime": {
     "end_time": "2021-07-23T17:51:39.862277Z",
     "start_time": "2021-07-23T17:51:38.395139Z"
    }
   },
   "outputs": [],
   "source": [
    "f, ax = plt.subplots(figsize=(9, 6))\n",
    "sb.heatmap(flights, annot=True, fmt=\"d\", linewidths=.5, ax=ax)"
   ]
  },
  {
   "cell_type": "code",
   "execution_count": null,
   "metadata": {
    "ExecuteTime": {
     "end_time": "2021-07-23T17:51:40.705440Z",
     "start_time": "2021-07-23T17:51:39.866210Z"
    }
   },
   "outputs": [],
   "source": [
    "from string import ascii_letters\n",
    "\n",
    "sb.set(style=\"white\")\n",
    "\n",
    "# Generate a large random dataset\n",
    "rs = np.random.RandomState(33)\n",
    "d = pd.DataFrame(data=rs.normal(size=(100, 26)), columns=list(ascii_letters[26:]))\n",
    "\n",
    "# Compute the correlation matrix\n",
    "corr = d.corr()\n",
    "\n",
    "# Generate a mask for the upper triangle\n",
    "mask = np.zeros_like(corr, dtype=bool)\n",
    "mask[np.triu_indices_from(mask)] = True\n",
    "\n",
    "# Set up the matplotlib figure\n",
    "f, ax = plt.subplots(figsize=(11, 9))\n",
    "\n",
    "# Generate a custom diverging colormap\n",
    "cmap = sb.diverging_palette(220, 10, as_cmap=True)\n",
    "\n",
    "# Draw the heatmap with the mask and correct aspect ratio\n",
    "sb.heatmap(corr, mask=mask, cmap=cmap, vmax=.3, center=0, square=True, linewidths=.5, cbar_kws={\"shrink\": .5})"
   ]
  },
  {
   "cell_type": "code",
   "execution_count": null,
   "metadata": {
    "ExecuteTime": {
     "end_time": "2021-07-23T17:51:40.802455Z",
     "start_time": "2021-07-23T17:51:40.707446Z"
    },
    "scrolled": false
   },
   "outputs": [],
   "source": [
    "brain_networks = sb.load_dataset(\"brain_networks\", header=[0, 1, 2], index_col=0)\n",
    "used_networks = [1, 5, 6, 7, 8, 12, 13, 17]\n",
    "used_columns = (brain_networks.columns.get_level_values(\"network\").astype(int).isin(used_networks))\n",
    "brain_networks = brain_networks.loc[:, used_columns]\n",
    "brain_networks"
   ]
  },
  {
   "cell_type": "code",
   "execution_count": null,
   "metadata": {
    "ExecuteTime": {
     "end_time": "2021-07-23T17:51:43.133835Z",
     "start_time": "2021-07-23T17:51:40.804687Z"
    }
   },
   "outputs": [],
   "source": [
    "network_pal = sb.husl_palette(8, s=.45)\n",
    "network_lut = dict(zip(map(str, used_networks), network_pal))\n",
    "networks = brain_networks.columns.get_level_values(\"network\")\n",
    "network_colors = pd.Series(networks, index=brain_networks.columns).map(network_lut)\n",
    "\n",
    "sb.clustermap(brain_networks.corr(), center=0, cmap=\"BrBG\", \n",
    "              row_colors=network_colors, col_colors=network_colors, linewidths=.75, figsize=(13, 13))"
   ]
  },
  {
   "cell_type": "code",
   "execution_count": null,
   "metadata": {
    "ExecuteTime": {
     "end_time": "2021-07-23T17:51:43.488152Z",
     "start_time": "2021-07-23T17:51:43.135874Z"
    }
   },
   "outputs": [],
   "source": [
    "# Compute the correlation matrix and average over networks\n",
    "corr_df = brain_networks.corr().groupby(level=\"network\").mean()\n",
    "corr_df.index = corr_df.index.astype(int)\n",
    "corr_df = corr_df.sort_index().T\n",
    "\n",
    "# Set up the matplotlib figure\n",
    "f, ax = plt.subplots(figsize=(11, 6))\n",
    "\n",
    "# Draw a violinplot with a narrower bandwidth than the default\n",
    "sb.violinplot(data=corr_df, palette=\"Set3\", bw=.2, cut=1, linewidth=1)\n",
    "\n",
    "# Finalize the figure\n",
    "ax.set(ylim=(-.7, 1.05))\n",
    "sb.despine(left=True, bottom=True)"
   ]
  },
  {
   "cell_type": "code",
   "execution_count": null,
   "metadata": {
    "ExecuteTime": {
     "end_time": "2021-07-23T17:51:45.517485Z",
     "start_time": "2021-07-23T17:51:43.490003Z"
    }
   },
   "outputs": [],
   "source": [
    "# Generate an example radial datast\n",
    "r = np.linspace(0, 10, num=300)\n",
    "df = pd.DataFrame({'r': r, 'slow': r, 'medium': 2 * r, 'fast': 4 * r})\n",
    "\n",
    "# Convert the dataframe to long-form or \"tidy\" format\n",
    "df = pd.melt(df, id_vars=['r'], var_name='speed', value_name='theta')\n",
    "\n",
    "# Set up a grid of axes with a polar projection\n",
    "g = sb.FacetGrid(df, col=\"speed\", hue=\"speed\", subplot_kws=dict(projection='polar'), height=4.5, sharex=False, sharey=False, despine=False)\n",
    "\n",
    "# Draw a scatterplot onto each axes in the grid\n",
    "g.map(plt.scatter, \"theta\", \"r\")"
   ]
  },
  {
   "cell_type": "code",
   "execution_count": null,
   "metadata": {
    "ExecuteTime": {
     "end_time": "2021-07-23T17:51:45.555749Z",
     "start_time": "2021-07-23T17:51:45.519387Z"
    },
    "scrolled": true
   },
   "outputs": [],
   "source": [
    "gammas = sb.load_dataset(\"gammas\")\n",
    "gammas"
   ]
  },
  {
   "cell_type": "code",
   "execution_count": null,
   "metadata": {
    "ExecuteTime": {
     "end_time": "2021-07-23T17:51:45.569336Z",
     "start_time": "2021-07-23T17:51:45.558512Z"
    }
   },
   "outputs": [],
   "source": [
    "sb.lineplot?"
   ]
  },
  {
   "cell_type": "code",
   "execution_count": null,
   "metadata": {
    "ExecuteTime": {
     "end_time": "2021-07-23T17:51:45.597924Z",
     "start_time": "2021-07-23T17:51:45.573018Z"
    }
   },
   "outputs": [],
   "source": [
    "gammas"
   ]
  },
  {
   "cell_type": "code",
   "execution_count": null,
   "metadata": {
    "ExecuteTime": {
     "end_time": "2021-07-23T17:51:47.183834Z",
     "start_time": "2021-07-23T17:51:45.600128Z"
    }
   },
   "outputs": [],
   "source": [
    "sb.lineplot(data=gammas)"
   ]
  },
  {
   "cell_type": "code",
   "execution_count": null,
   "metadata": {
    "ExecuteTime": {
     "end_time": "2021-07-23T17:51:48.095863Z",
     "start_time": "2021-07-23T17:51:47.186737Z"
    }
   },
   "outputs": [],
   "source": [
    "sines = []\n",
    "rs = np.random.RandomState(8)\n",
    "\n",
    "for _ in range(15):\n",
    "    x = np.linspace(0, 30 / 2, 30)\n",
    "    y = np.sin(x) + rs.normal(0, 1.5) + rs.normal(0, .3, 30)\n",
    "    sines.append(y)\n",
    "\n",
    "# Plot the average over replicates with bootstrap resamples\n",
    "    sb.lineplot(x=x, y=y)#, err_style=\"boot_traces\", n_boot=500)"
   ]
  }
 ],
 "metadata": {
  "kernelspec": {
   "display_name": "Python 3",
   "language": "python",
   "name": "python3"
  },
  "language_info": {
   "codemirror_mode": {
    "name": "ipython",
    "version": 3
   },
   "file_extension": ".py",
   "mimetype": "text/x-python",
   "name": "python",
   "nbconvert_exporter": "python",
   "pygments_lexer": "ipython3",
   "version": "3.8.8"
  },
  "latex_envs": {
   "LaTeX_envs_menu_present": true,
   "autoclose": false,
   "autocomplete": true,
   "bibliofile": "biblio.bib",
   "cite_by": "apalike",
   "current_citInitial": 1,
   "eqLabelWithNumbers": true,
   "eqNumInitial": 1,
   "hotkeys": {
    "equation": "Ctrl-E",
    "itemize": "Ctrl-I"
   },
   "labels_anchors": false,
   "latex_user_defs": false,
   "report_style_numbering": false,
   "user_envs_cfg": false
  },
  "toc": {
   "base_numbering": 1,
   "nav_menu": {},
   "number_sections": true,
   "sideBar": true,
   "skip_h1_title": false,
   "title_cell": "Table of Contents",
   "title_sidebar": "Contents",
   "toc_cell": false,
   "toc_position": {},
   "toc_section_display": true,
   "toc_window_display": false
  },
  "varInspector": {
   "cols": {
    "lenName": 16,
    "lenType": 16,
    "lenVar": 40
   },
   "kernels_config": {
    "python": {
     "delete_cmd_postfix": "",
     "delete_cmd_prefix": "del ",
     "library": "var_list.py",
     "varRefreshCmd": "print(var_dic_list())"
    },
    "r": {
     "delete_cmd_postfix": ") ",
     "delete_cmd_prefix": "rm(",
     "library": "var_list.r",
     "varRefreshCmd": "cat(var_dic_list()) "
    }
   },
   "types_to_exclude": [
    "module",
    "function",
    "builtin_function_or_method",
    "instance",
    "_Feature"
   ],
   "window_display": false
  }
 },
 "nbformat": 4,
 "nbformat_minor": 2
}
