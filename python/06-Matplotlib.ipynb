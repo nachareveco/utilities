{
 "cells": [
  {
   "cell_type": "markdown",
   "metadata": {},
   "source": [
    "# Matplotlib: A 2D plotting Library"
   ]
  },
  {
   "cell_type": "markdown",
   "metadata": {},
   "source": [
    "# Plot-simple"
   ]
  },
  {
   "cell_type": "code",
   "execution_count": null,
   "metadata": {
    "ExecuteTime": {
     "end_time": "2021-07-28T15:11:36.748816Z",
     "start_time": "2021-07-28T15:11:36.168345Z"
    }
   },
   "outputs": [],
   "source": [
    "%matplotlib inline\n",
    "import matplotlib.pyplot as plt\n",
    "import numpy as np\n",
    "\n",
    "\n",
    "t = np.arange(0.0, 2.0, 0.05)\n",
    "s = 1 + np.sin(2 * np.pi * t)\n",
    "plt.plot(t, s)\n",
    "plt.show()"
   ]
  },
  {
   "cell_type": "code",
   "execution_count": null,
   "metadata": {
    "ExecuteTime": {
     "end_time": "2021-07-28T15:11:37.052494Z",
     "start_time": "2021-07-28T15:11:36.750960Z"
    }
   },
   "outputs": [],
   "source": [
    "plt.plot(t, s, 'r*--', lw=2)\n",
    "plt.show()\n",
    "plt.scatter(t, s)\n",
    "plt.show()"
   ]
  },
  {
   "cell_type": "code",
   "execution_count": null,
   "metadata": {
    "ExecuteTime": {
     "end_time": "2021-07-28T15:11:37.208122Z",
     "start_time": "2021-07-28T15:11:37.055416Z"
    }
   },
   "outputs": [],
   "source": [
    "plt.scatter(t, s)\n",
    "plt.show()"
   ]
  },
  {
   "cell_type": "code",
   "execution_count": null,
   "metadata": {
    "ExecuteTime": {
     "end_time": "2021-07-28T15:11:37.418414Z",
     "start_time": "2021-07-28T15:11:37.210572Z"
    }
   },
   "outputs": [],
   "source": [
    "plt.fill(t, s)\n",
    "plt.savefig(\"test2.png\")\n",
    "plt.show()"
   ]
  },
  {
   "cell_type": "markdown",
   "metadata": {},
   "source": [
    "![test](test2.png)"
   ]
  },
  {
   "cell_type": "code",
   "execution_count": null,
   "metadata": {
    "ExecuteTime": {
     "end_time": "2021-07-28T15:11:37.472156Z",
     "start_time": "2021-07-28T15:11:37.420036Z"
    }
   },
   "outputs": [],
   "source": [
    "plt.figure?"
   ]
  },
  {
   "cell_type": "code",
   "execution_count": null,
   "metadata": {
    "ExecuteTime": {
     "end_time": "2021-07-28T15:11:37.649766Z",
     "start_time": "2021-07-28T15:11:37.474071Z"
    }
   },
   "outputs": [],
   "source": [
    "%matplotlib inline\n",
    "\n",
    "plt.figure(1, (15, 5))\n",
    "plt.fill(t, s, alpha=0.6)\n",
    "plt.scatter(t, s, alpha=0.7)\n",
    "plt.show()"
   ]
  },
  {
   "cell_type": "code",
   "execution_count": null,
   "metadata": {
    "ExecuteTime": {
     "end_time": "2021-07-28T15:11:37.841615Z",
     "start_time": "2021-07-28T15:11:37.651464Z"
    }
   },
   "outputs": [],
   "source": [
    "plt.figure(1, (15, 5))\n",
    "plt.fill(t, s)\n",
    "plt.scatter(t, s)\n",
    "\n",
    "plt.xlabel('time (s)')\n",
    "plt.ylabel('voltage (mV)')\n",
    "plt.title('About as simple as it gets, folks')\n",
    "plt.grid(True)\n",
    "plt.show()"
   ]
  },
  {
   "cell_type": "markdown",
   "metadata": {},
   "source": [
    "# Subplot"
   ]
  },
  {
   "cell_type": "code",
   "execution_count": null,
   "metadata": {
    "ExecuteTime": {
     "end_time": "2021-07-28T15:11:38.040055Z",
     "start_time": "2021-07-28T15:11:37.845130Z"
    }
   },
   "outputs": [],
   "source": [
    "x1 = np.linspace(0.0, 5.0)\n",
    "x2 = np.linspace(0.0, 2.0)\n",
    "\n",
    "y1 = np.cos(2 * np.pi * x1) * np.exp(-x1)\n",
    "y2 = np.cos(2 * np.pi * x2)\n",
    "\n",
    "plt.figure(1, (15, 5))\n",
    "plt.plot(x1, y1, 'o-', label='y1')\n",
    "plt.plot(x2, y2, '.-', label='y2')\n",
    "plt.legend(loc=0)\n",
    "plt.show()"
   ]
  },
  {
   "cell_type": "code",
   "execution_count": null,
   "metadata": {
    "ExecuteTime": {
     "end_time": "2021-07-28T15:11:38.390899Z",
     "start_time": "2021-07-28T15:11:38.042369Z"
    }
   },
   "outputs": [],
   "source": [
    "plt.figure(1, (15, 5))\n",
    "plt.plot(x1, y1, 'o-')\n",
    "plt.title('A tale of 2 subplots')\n",
    "plt.ylabel('Damped oscillation')\n",
    "\n",
    "plt.figure(2, (15, 5))\n",
    "plt.plot(x2, y2, '.-')\n",
    "plt.xlabel('time (s)')\n",
    "plt.ylabel('Undamped')\n",
    "plt.show()"
   ]
  },
  {
   "cell_type": "code",
   "execution_count": null,
   "metadata": {
    "ExecuteTime": {
     "end_time": "2021-07-28T15:11:38.689203Z",
     "start_time": "2021-07-28T15:11:38.393033Z"
    }
   },
   "outputs": [],
   "source": [
    "plt.figure(1, (15, 10))\n",
    "\n",
    "plt.subplot(2, 1, 1)\n",
    "plt.plot(x1, y1, 'o-')\n",
    "plt.title('A tale of 2 subplots')\n",
    "plt.ylabel('Damped oscillation')\n",
    "plt.xlim([0, 5])\n",
    "\n",
    "plt.subplot(2, 1, 2)\n",
    "plt.plot(x2, y2, '.-')\n",
    "plt.xlabel('time (s)')\n",
    "plt.ylabel('Undamped')\n",
    "plt.xlim([0, 2])\n",
    "plt.ylim([-1, 1])\n",
    "plt.show()"
   ]
  },
  {
   "cell_type": "markdown",
   "metadata": {},
   "source": [
    "# Doble escala"
   ]
  },
  {
   "cell_type": "code",
   "execution_count": null,
   "metadata": {
    "ExecuteTime": {
     "end_time": "2021-07-28T15:11:38.694331Z",
     "start_time": "2021-07-28T15:11:38.690899Z"
    }
   },
   "outputs": [],
   "source": [
    "t = np.arange(0.01, 10.0, 0.01)\n",
    "s1 = np.exp(t)\n",
    "s2 = np.sin(2 * np.pi * t)"
   ]
  },
  {
   "cell_type": "code",
   "execution_count": null,
   "metadata": {
    "ExecuteTime": {
     "end_time": "2021-07-28T15:11:38.890431Z",
     "start_time": "2021-07-28T15:11:38.697241Z"
    }
   },
   "outputs": [],
   "source": [
    "fig = plt.figure(1,(15,5))\n",
    "\n",
    "plt.plot(t, s1, 'b-', label='exp')\n",
    "plt.plot(t, s2, 'r.', label='sin')\n",
    "plt.show()"
   ]
  },
  {
   "cell_type": "code",
   "execution_count": null,
   "metadata": {
    "ExecuteTime": {
     "end_time": "2021-07-28T15:11:39.114457Z",
     "start_time": "2021-07-28T15:11:38.892564Z"
    }
   },
   "outputs": [],
   "source": [
    "fig = plt.figure(1,(15,5))\n",
    "ax1 = plt.subplot(111)\n",
    "ax2 = ax1.twinx()\n",
    "\n",
    "ax1.plot(t, s1, 'b-')\n",
    "ax1.set_xlabel('time (s)')\n",
    "ax1.set_ylabel('exp', color='b')\n",
    "ax1.tick_params('y', colors='b')\n",
    "\n",
    "\n",
    "ax2.plot(t, s2, 'r.')\n",
    "ax2.set_ylabel('sin', color='r')\n",
    "ax2.tick_params('y', colors='r')\n",
    "\n",
    "plt.show()"
   ]
  },
  {
   "cell_type": "markdown",
   "metadata": {},
   "source": [
    "# Styles"
   ]
  },
  {
   "cell_type": "code",
   "execution_count": null,
   "metadata": {
    "ExecuteTime": {
     "end_time": "2021-07-28T15:11:39.125470Z",
     "start_time": "2021-07-28T15:11:39.117350Z"
    }
   },
   "outputs": [],
   "source": [
    "def simple_plot():\n",
    "    plt.figure()\n",
    "\n",
    "    plt.subplot(2, 1, 1)\n",
    "    plt.plot(x1, y1, 'o-', label='sin * exp')\n",
    "    plt.title('A tale of 2 subplots')\n",
    "    plt.ylabel('Damped oscillation')\n",
    "    plt.legend()\n",
    "    \n",
    "    plt.subplot(2, 1, 2)\n",
    "    plt.plot(x2, y2, '.-', label='sin')\n",
    "    plt.xlabel('time (s)')\n",
    "    plt.ylabel('Undamped')\n",
    "    plt.legend()"
   ]
  },
  {
   "cell_type": "code",
   "execution_count": null,
   "metadata": {
    "ExecuteTime": {
     "end_time": "2021-07-28T15:11:39.382672Z",
     "start_time": "2021-07-28T15:11:39.127815Z"
    }
   },
   "outputs": [],
   "source": [
    "simple_plot()"
   ]
  },
  {
   "cell_type": "code",
   "execution_count": null,
   "metadata": {
    "ExecuteTime": {
     "end_time": "2021-07-28T15:11:39.665842Z",
     "start_time": "2021-07-28T15:11:39.386192Z"
    }
   },
   "outputs": [],
   "source": [
    "plt.style.use('classic')\n",
    "simple_plot()"
   ]
  },
  {
   "cell_type": "code",
   "execution_count": null,
   "metadata": {
    "ExecuteTime": {
     "end_time": "2021-07-28T15:11:39.943314Z",
     "start_time": "2021-07-28T15:11:39.667608Z"
    }
   },
   "outputs": [],
   "source": [
    "plt.style.use('default')\n",
    "simple_plot()"
   ]
  },
  {
   "cell_type": "code",
   "execution_count": null,
   "metadata": {
    "ExecuteTime": {
     "end_time": "2021-07-28T15:11:39.950767Z",
     "start_time": "2021-07-28T15:11:39.945340Z"
    }
   },
   "outputs": [],
   "source": [
    "plt.style.available"
   ]
  },
  {
   "cell_type": "code",
   "execution_count": null,
   "metadata": {
    "ExecuteTime": {
     "end_time": "2021-07-28T15:11:40.230993Z",
     "start_time": "2021-07-28T15:11:39.953884Z"
    }
   },
   "outputs": [],
   "source": [
    "plt.style.use('ggplot')\n",
    "simple_plot()"
   ]
  },
  {
   "cell_type": "code",
   "execution_count": null,
   "metadata": {
    "ExecuteTime": {
     "end_time": "2021-07-28T15:11:40.240490Z",
     "start_time": "2021-07-28T15:11:40.232563Z"
    }
   },
   "outputs": [],
   "source": [
    "plt.rcParams"
   ]
  },
  {
   "cell_type": "code",
   "execution_count": null,
   "metadata": {
    "ExecuteTime": {
     "end_time": "2021-07-28T15:11:40.684664Z",
     "start_time": "2021-07-28T15:11:40.242912Z"
    }
   },
   "outputs": [],
   "source": [
    "plt.rcParams['figure.figsize'] = (15, 10)\n",
    "\n",
    "simple_plot()"
   ]
  },
  {
   "cell_type": "code",
   "execution_count": null,
   "metadata": {
    "ExecuteTime": {
     "end_time": "2021-07-28T15:11:41.100142Z",
     "start_time": "2021-07-28T15:11:40.687360Z"
    }
   },
   "outputs": [],
   "source": [
    "plt.rcParams['axes.titlesize'] = 26\n",
    "plt.rcParams['axes.labelsize'] = 26\n",
    "plt.rcParams['xtick.labelsize'] = 20\n",
    "plt.rcParams['ytick.labelsize'] = 20\n",
    "plt.rcParams['legend.fontsize'] = 20\n",
    "plt.rcParams['text.color'] = 'black'\n",
    "\n",
    "simple_plot()"
   ]
  },
  {
   "cell_type": "markdown",
   "metadata": {},
   "source": [
    "# Histograma"
   ]
  },
  {
   "cell_type": "code",
   "execution_count": null,
   "metadata": {
    "ExecuteTime": {
     "end_time": "2021-07-28T15:11:41.638780Z",
     "start_time": "2021-07-28T15:11:41.108528Z"
    }
   },
   "outputs": [],
   "source": [
    "# example data\n",
    "mu = 100  # mean of distribution\n",
    "sigma = 15  # standard deviation of distribution\n",
    "x = mu + sigma * np.random.randn(1000)\n",
    "\n",
    "plt.plot(x)\n",
    "plt.text(300, 150, r'$\\mu=100,\\ \\sigma=15$')\n",
    "plt.show()"
   ]
  },
  {
   "cell_type": "code",
   "execution_count": null,
   "metadata": {
    "ExecuteTime": {
     "end_time": "2021-07-28T15:11:43.254572Z",
     "start_time": "2021-07-28T15:11:41.643961Z"
    }
   },
   "outputs": [],
   "source": [
    "num_bins = 1000\n",
    "f, bins, _ = plt.hist(x, num_bins, density=True)\n",
    "plt.show()"
   ]
  },
  {
   "cell_type": "code",
   "execution_count": null,
   "metadata": {
    "ExecuteTime": {
     "end_time": "2021-07-28T15:11:45.245563Z",
     "start_time": "2021-07-28T15:11:43.256129Z"
    }
   },
   "outputs": [],
   "source": [
    "import matplotlib.mlab as mlab\n",
    "import scipy.stats as stats\n",
    "\n",
    "y = stats.norm.pdf(bins, mu, sigma)\n",
    "\n",
    "fig, ax = plt.subplots()\n",
    "\n",
    "ax.hist(x, num_bins, density=True)\n",
    "ax.plot(bins, y, '--', linewidth=5)\n",
    "ax.set_xlabel('Smarts')\n",
    "ax.set_ylabel('Probability density')\n",
    "ax.set_title(r'Histogram of IQ: $\\mu=100$, $\\sigma=15$')\n",
    "plt.show()"
   ]
  },
  {
   "cell_type": "markdown",
   "metadata": {},
   "source": [
    "# Trazos"
   ]
  },
  {
   "cell_type": "code",
   "execution_count": null,
   "metadata": {
    "ExecuteTime": {
     "end_time": "2021-07-28T15:11:45.445907Z",
     "start_time": "2021-07-28T15:11:45.247098Z"
    }
   },
   "outputs": [],
   "source": [
    "import matplotlib.path as mpath\n",
    "import matplotlib.patches as mpatches\n",
    "\n",
    "\n",
    "fig, ax = plt.subplots()\n",
    "\n",
    "Path = mpath.Path\n",
    "path_data = [\n",
    "    (Path.MOVETO, (1.58, -2.57)),\n",
    "    (Path.CURVE4, (0.35, -1.1)),\n",
    "    (Path.CURVE4, (-1.75, 2.0)),\n",
    "    (Path.CURVE4, (0.375, 2.0)),\n",
    "    (Path.LINETO, (0.85, 1.15)),\n",
    "    (Path.CURVE4, (2.2, 3.2)),\n",
    "    (Path.CURVE4, (3, 0.05)),\n",
    "    (Path.CURVE4, (2.0, -0.5)),\n",
    "    (Path.CLOSEPOLY, (1.58, -2.57)),\n",
    "    ]\n",
    "codes, verts = zip(*path_data)\n",
    "\n",
    "path = mpath.Path(verts, codes)\n",
    "patch = mpatches.PathPatch(path, facecolor='r', alpha=0.2)\n",
    "ax.add_patch(patch)\n",
    "\n",
    "# plot control points and connecting lines\n",
    "x, y = path.vertices[:,0], path.vertices[:,1]\n",
    "ax.plot(x, y, 'go-')\n",
    "\n",
    "ax.grid()\n",
    "ax.axis('equal')\n",
    "plt.show()"
   ]
  },
  {
   "cell_type": "markdown",
   "metadata": {},
   "source": [
    "# Campos vectoriales 2D"
   ]
  },
  {
   "cell_type": "code",
   "execution_count": null,
   "metadata": {
    "ExecuteTime": {
     "end_time": "2021-07-28T15:11:45.459895Z",
     "start_time": "2021-07-28T15:11:45.449279Z"
    }
   },
   "outputs": [],
   "source": [
    "%matplotlib inline\n",
    "import numpy as np\n",
    "import matplotlib.pyplot as plt\n",
    "from matplotlib import cm\n",
    "\n",
    "\n",
    "Y, X = np.mgrid[-3:3:100j, -3:3:100j]\n",
    "\n",
    "U = -1 - X**2 + Y\n",
    "V = 1 + X - Y**2\n",
    "speed = np.sqrt(U * U + V * V)"
   ]
  },
  {
   "cell_type": "code",
   "execution_count": null,
   "metadata": {
    "ExecuteTime": {
     "end_time": "2021-07-28T15:11:46.419371Z",
     "start_time": "2021-07-28T15:11:45.461565Z"
    }
   },
   "outputs": [],
   "source": [
    "plt.streamplot(X, Y, U, V, color=V, linewidth=2, cmap=cm.RdBu)\n",
    "plt.colorbar()\n",
    "plt.show()"
   ]
  },
  {
   "cell_type": "code",
   "execution_count": null,
   "metadata": {
    "ExecuteTime": {
     "end_time": "2021-07-28T15:11:47.537925Z",
     "start_time": "2021-07-28T15:11:46.420873Z"
    }
   },
   "outputs": [],
   "source": [
    "plt.streamplot(X, Y, U, V, density=0.9)\n",
    "plt.show()"
   ]
  },
  {
   "cell_type": "code",
   "execution_count": null,
   "metadata": {
    "ExecuteTime": {
     "end_time": "2021-07-28T15:11:48.134827Z",
     "start_time": "2021-07-28T15:11:47.539231Z"
    }
   },
   "outputs": [],
   "source": [
    "plt.streamplot(X, Y, U, V, density=0.6)\n",
    "plt.show()"
   ]
  },
  {
   "cell_type": "code",
   "execution_count": null,
   "metadata": {
    "ExecuteTime": {
     "end_time": "2021-07-28T15:11:48.720771Z",
     "start_time": "2021-07-28T15:11:48.138210Z"
    }
   },
   "outputs": [],
   "source": [
    "lw = 5 * speed / speed.max()\n",
    "plt.streamplot(X, Y, U, V, density=0.6, color='k', linewidth=lw)\n",
    "plt.show()"
   ]
  },
  {
   "cell_type": "markdown",
   "metadata": {},
   "source": [
    "# Elipses"
   ]
  },
  {
   "cell_type": "code",
   "execution_count": null,
   "metadata": {
    "ExecuteTime": {
     "end_time": "2021-07-28T15:11:51.193986Z",
     "start_time": "2021-07-28T15:11:48.726031Z"
    }
   },
   "outputs": [],
   "source": [
    "import numpy.random as rnd\n",
    "from matplotlib.patches import Ellipse\n",
    "\n",
    "NUM = 500\n",
    "\n",
    "ells = [Ellipse(xy=rnd.rand(2) * 10, width=rnd.rand(), height=rnd.rand(), angle=rnd.rand() * 360) \n",
    "        for i in range(NUM)]\n",
    "\n",
    "fig = plt.figure(1, (20, 15))\n",
    "ax = fig.add_subplot(111)\n",
    "for e in ells:\n",
    "    ax.add_artist(e)\n",
    "    e.set_clip_box(ax.bbox)\n",
    "    e.set_alpha(rnd.rand())\n",
    "    e.set_facecolor(rnd.rand(3))\n",
    "\n",
    "ax.set_xlim(0, 10)\n",
    "ax.set_ylim(0, 10)\n",
    "plt.show()"
   ]
  },
  {
   "cell_type": "markdown",
   "metadata": {},
   "source": [
    "# Grafico barras"
   ]
  },
  {
   "cell_type": "code",
   "execution_count": null,
   "metadata": {
    "ExecuteTime": {
     "end_time": "2021-07-28T15:11:51.430947Z",
     "start_time": "2021-07-28T15:11:51.195379Z"
    }
   },
   "outputs": [],
   "source": [
    "n_groups = 5\n",
    "\n",
    "means_men = (20, 35, 30, 35, 27)\n",
    "std_men = (2, 3, 4, 1, 2)\n",
    "\n",
    "means_women = (25, 32, 34, 20, 25)\n",
    "std_women = (3, 5, 2, 3, 3)\n",
    "\n",
    "fig, ax = plt.subplots(figsize=(20,10))\n",
    "\n",
    "index = np.arange(n_groups)\n",
    "bar_width = 0.35\n",
    "\n",
    "opacity = 0.4\n",
    "error_config = {'ecolor': '0.3'}\n",
    "\n",
    "rects1 = plt.bar(index, means_men, bar_width,\n",
    "                 alpha=opacity,\n",
    "                 color='b',\n",
    "                 yerr=std_men,\n",
    "                 error_kw=error_config,\n",
    "                 label='Men')\n",
    "\n",
    "rects2 = plt.bar(index + bar_width, means_women, bar_width,\n",
    "                 alpha=opacity,\n",
    "                 color='r',\n",
    "                 yerr=std_women,\n",
    "                 error_kw=error_config,\n",
    "                 label='Women')\n",
    "\n",
    "plt.xlabel('Group')\n",
    "plt.ylabel('Scores')\n",
    "plt.title('Scores by group and gender')\n",
    "plt.xticks(index + bar_width / 2, ('A', 'B', 'C', 'D', 'E'))\n",
    "plt.legend()\n",
    "\n",
    "plt.tight_layout()"
   ]
  },
  {
   "cell_type": "markdown",
   "metadata": {},
   "source": [
    "# Grafico con tabla"
   ]
  },
  {
   "cell_type": "code",
   "execution_count": null,
   "metadata": {
    "ExecuteTime": {
     "end_time": "2021-07-28T15:11:51.864660Z",
     "start_time": "2021-07-28T15:11:51.432588Z"
    }
   },
   "outputs": [],
   "source": [
    "data = [[  66386,  174296,   75131,  577908,   32015],\n",
    "        [  58230,  381139,   78045,   99308,  160454],\n",
    "        [  89135,   80552,  152558,  497981,  603535],\n",
    "        [  78415,   81858,  150656,  193263,   69638],\n",
    "        [ 139361,  331509,  343164,  781380,   52269]]\n",
    "\n",
    "columns = ('Freeze', 'Wind', 'Flood', 'Quake', 'Hail')\n",
    "rows = ['%d year' % x for x in (100, 50, 20, 10, 5)]\n",
    "\n",
    "values = np.arange(0, 2500, 500)\n",
    "value_increment = 1000\n",
    "\n",
    "# Get some pastel shades for the colors\n",
    "colors = plt.cm.RdBu_r(np.linspace(0, 1.0, len(rows)))\n",
    "n_rows = len(data)\n",
    "\n",
    "index = np.arange(len(columns)) + 0.3\n",
    "bar_width = 0.4\n",
    "\n",
    "# Initialize the vertical-offset for the stacked bar chart.\n",
    "y_offset = np.array([0.0] * len(columns))\n",
    "\n",
    "# Plot bars and create text labels for the table\n",
    "plt.figure(1, (20, 10))\n",
    "cell_text = []\n",
    "for row in range(n_rows):\n",
    "    plt.bar(index, data[row], bar_width, bottom=y_offset, color=colors[row])\n",
    "    y_offset = y_offset + data[row]\n",
    "    cell_text.append(['%1.1f' % (x/1000.0) for x in y_offset])\n",
    "# Reverse colors and text labels to display the last value at the top.\n",
    "colors = colors[::-1]\n",
    "cell_text.reverse()\n",
    "\n",
    "# Add a table at the bottom of the axes\n",
    "the_table = plt.table(cellText=cell_text,\n",
    "                      rowLabels=rows,\n",
    "                      rowColours=colors,\n",
    "                      colLabels=columns,\n",
    "                      loc='bottom')\n",
    "the_table.auto_set_font_size(False)\n",
    "the_table.set_fontsize(15)\n",
    "the_table.scale(1, 4)\n",
    "\n",
    "# Adjust layout to make room for the table:\n",
    "plt.subplots_adjust(left=0.2, bottom=0.2)\n",
    "\n",
    "plt.ylabel(\"Loss in ${0}'s\".format(value_increment))\n",
    "plt.yticks(values * value_increment, ['%d' % val for val in values])\n",
    "plt.xticks([])\n",
    "plt.title('Loss by Disaster')\n",
    "\n",
    "plt.show()"
   ]
  },
  {
   "cell_type": "markdown",
   "metadata": {},
   "source": [
    "## Pie Plot "
   ]
  },
  {
   "cell_type": "code",
   "execution_count": null,
   "metadata": {
    "ExecuteTime": {
     "end_time": "2021-07-28T15:11:51.991543Z",
     "start_time": "2021-07-28T15:11:51.867491Z"
    }
   },
   "outputs": [],
   "source": [
    "plt.figure(1, (10, 10))\n",
    "_ = plt.pie(np.random.random(4), \n",
    "            explode=(0, 0.1, 0, 0.2), \n",
    "            autopct='%1.1f%%', \n",
    "            labels=('Frogs', 'Hogs', 'Dogs', 'Logs'), \n",
    "            colors=['yellowgreen', 'gold', 'lightskyblue', 'lightcoral'])"
   ]
  },
  {
   "cell_type": "markdown",
   "metadata": {},
   "source": [
    "# Dates as Index"
   ]
  },
  {
   "cell_type": "code",
   "execution_count": null,
   "metadata": {
    "ExecuteTime": {
     "end_time": "2021-07-28T15:59:28.870072Z",
     "start_time": "2021-07-28T15:59:28.852720Z"
    }
   },
   "outputs": [],
   "source": [
    "import numpy as np\n",
    "import datetime\n",
    "import matplotlib.pyplot as plt\n",
    "import matplotlib.dates as mdates\n",
    "\n",
    "r = np.load('data/goog.npy', encoding='bytes', allow_pickle=True).view(np.recarray)\n",
    "r"
   ]
  },
  {
   "cell_type": "code",
   "execution_count": null,
   "metadata": {
    "ExecuteTime": {
     "end_time": "2021-07-28T15:20:04.623459Z",
     "start_time": "2021-07-28T15:20:04.337888Z"
    }
   },
   "outputs": [],
   "source": [
    "fig, ax = plt.subplots(figsize=(20, 10))\n",
    "ax.plot(r.date, r.adj_close)#"
   ]
  },
  {
   "cell_type": "code",
   "execution_count": null,
   "metadata": {
    "ExecuteTime": {
     "end_time": "2021-07-28T15:20:05.708345Z",
     "start_time": "2021-07-28T15:20:05.286086Z"
    }
   },
   "outputs": [],
   "source": [
    "fig, ax = plt.subplots(figsize=(20, 10))\n",
    "ax.plot(r.date, r.adj_close)\n",
    "\n",
    "# format the ticks\n",
    "\n",
    "years = mdates.YearLocator()   # every year\n",
    "months = mdates.MonthLocator()  # every month\n",
    "yearsFmt = mdates.DateFormatter('%y-%m')\n",
    "\n",
    "ax.xaxis.set_major_locator(years)\n",
    "ax.xaxis.set_minor_locator(months)\n",
    "ax.xaxis.set_major_formatter(yearsFmt)"
   ]
  },
  {
   "cell_type": "markdown",
   "metadata": {},
   "source": [
    "# xkcd"
   ]
  },
  {
   "cell_type": "code",
   "execution_count": null,
   "metadata": {
    "ExecuteTime": {
     "end_time": "2021-07-28T15:11:53.055991Z",
     "start_time": "2021-07-28T15:11:52.696291Z"
    }
   },
   "outputs": [],
   "source": [
    "with plt.xkcd():\n",
    "    # Based on \"Stove Ownership\" from XKCD by Randall Monroe\n",
    "    # http://xkcd.com/418/\n",
    "\n",
    "    fig = plt.figure()\n",
    "    ax = fig.add_axes((0.1, 0.2, 0.8, 0.7))\n",
    "    ax.spines['right'].set_color('none')\n",
    "    ax.spines['top'].set_color('none')\n",
    "    plt.xticks([])\n",
    "    plt.yticks([])\n",
    "    ax.set_ylim([-30, 10])\n",
    "\n",
    "    data = np.ones(100)\n",
    "    data[70:] -= np.arange(30)\n",
    "\n",
    "    plt.annotate(\n",
    "        'THE DAY I REALIZED\\nI COULD COOK BACON\\nWHENEVER I WANTED',\n",
    "        xy=(70, 1), arrowprops=dict(arrowstyle='->'), xytext=(15, -10))\n",
    "\n",
    "    plt.plot(data)\n",
    "\n",
    "    plt.xlabel('time')\n",
    "    plt.ylabel('my overall health')\n",
    "    fig.text(\n",
    "        0.5, 0.05,\n",
    "        '\"Stove Ownership\" from xkcd by Randall Monroe',\n",
    "        ha='center')\n",
    "\n",
    "    # Based on \"The Data So Far\" from XKCD by Randall Monroe\n",
    "    # http://xkcd.com/373/\n",
    "\n",
    "    fig = plt.figure()\n",
    "    ax = fig.add_axes((0.1, 0.2, 0.8, 0.7))\n",
    "    ax.bar([0, 1], [0, 100], 0.25)\n",
    "    ax.spines['right'].set_color('none')\n",
    "    ax.spines['top'].set_color('none')\n",
    "    ax.xaxis.set_ticks_position('bottom')\n",
    "    ax.set_xticks([0, 1])\n",
    "    ax.set_xlim([-0.5, 1.5])\n",
    "    ax.set_ylim([0, 110])\n",
    "    ax.set_xticklabels(['CONFIRMED BY\\nEXPERIMENT', 'REFUTED BY\\nEXPERIMENT'])\n",
    "    plt.yticks([])\n",
    "\n",
    "    plt.title(\"CLAIMS OF SUPERNATURAL POWERS\")\n",
    "\n",
    "    fig.text(\n",
    "        0.5, 0.05,\n",
    "        '\"The Data So Far\" from xkcd by Randall Monroe',\n",
    "        ha='center')\n",
    "\n",
    "plt.show()"
   ]
  },
  {
   "cell_type": "markdown",
   "metadata": {},
   "source": [
    "# Superficies"
   ]
  },
  {
   "cell_type": "code",
   "execution_count": null,
   "metadata": {
    "ExecuteTime": {
     "end_time": "2021-07-28T15:11:53.070489Z",
     "start_time": "2021-07-28T15:11:53.059243Z"
    }
   },
   "outputs": [],
   "source": [
    "# Make data\n",
    "import numpy as np\n",
    "x = np.arange(-10, 10, 0.5)\n",
    "y = np.arange(-10, 10, 0.5)\n",
    "\n",
    "X, Y = np.meshgrid(x, y)\n",
    "\n",
    "Y, X = np.mgrid[-3:3:20j, -3:3:20j]\n",
    "\n",
    "U = -1 - X**2 + Y\n",
    "V = 1 + X - Y**2\n",
    "Z = np.sqrt(U * U + V * V)"
   ]
  },
  {
   "cell_type": "code",
   "execution_count": null,
   "metadata": {
    "ExecuteTime": {
     "end_time": "2021-07-28T15:11:53.091965Z",
     "start_time": "2021-07-28T15:11:53.073839Z"
    }
   },
   "outputs": [],
   "source": [
    "X, Y"
   ]
  },
  {
   "cell_type": "code",
   "execution_count": null,
   "metadata": {
    "ExecuteTime": {
     "end_time": "2021-07-28T15:11:53.239221Z",
     "start_time": "2021-07-28T15:11:53.094166Z"
    },
    "scrolled": false
   },
   "outputs": [],
   "source": [
    "#%matplotlib inline\n",
    "%matplotlib notebook\n",
    "from mpl_toolkits.mplot3d import Axes3D\n",
    "import matplotlib.pyplot as plt\n",
    "from matplotlib import cm\n",
    "from matplotlib.ticker import LinearLocator, FormatStrFormatter\n",
    "\n",
    "\n",
    "fig = plt.figure(1, (15, 10))\n",
    "ax = fig.gca(projection='3d')\n",
    "\n",
    "cmap = cm.RdBu #coolwarm, RdBu , RdBu_r\n",
    "\n",
    "# Plot the surface.\n",
    "surf = ax.plot_surface(X, Y, Z, alpha=0.4, cmap=cmap, linewidth=0, antialiased=False) \n",
    "# Plot contour\n",
    "#ax.contour(X, Y, Z, zdir='z', cmap=cmap)\n",
    "ax.contour(X, Y, Z, zdir='z', offset=np.min(Z), cmap=cmap)\n",
    "ax.contour(X, Y, Z, zdir='x', offset=np.min(X), cmap=cmap)\n",
    "ax.contour(X, Y, Z, zdir='y', offset=np.max(Y), cmap=cmap)\n",
    "\n",
    "# Add a color bar which maps values to colors.\n",
    "fig.colorbar(surf, shrink=0.5, aspect=5)\n",
    "\n",
    "plt.show()"
   ]
  },
  {
   "cell_type": "markdown",
   "metadata": {},
   "source": [
    "# Ejemplo: Regresión Lineal"
   ]
  },
  {
   "cell_type": "code",
   "execution_count": null,
   "metadata": {
    "ExecuteTime": {
     "end_time": "2021-07-28T15:11:53.257142Z",
     "start_time": "2021-07-28T15:11:53.243575Z"
    }
   },
   "outputs": [],
   "source": [
    "%matplotlib inline\n",
    "# los plots se muestran en este mismo notebook\n",
    "\n",
    "import numpy as np\n",
    "import scipy\n",
    "import matplotlib\n",
    "import matplotlib.pyplot as plt\n",
    "import matplotlib.cm as cm\n",
    "import matplotlib.mlab as mlab\n",
    "import scipy.stats as stats"
   ]
  },
  {
   "cell_type": "code",
   "execution_count": null,
   "metadata": {
    "ExecuteTime": {
     "end_time": "2021-07-28T15:11:53.268506Z",
     "start_time": "2021-07-28T15:11:53.262476Z"
    }
   },
   "outputs": [],
   "source": [
    "# data acquisition\n",
    "alumnos = np.array([28918, 29387, 30321, 31281, 35619, 37286, 38317, 38938])\n",
    "years = np.linspace(2006, 2013, 8)"
   ]
  },
  {
   "cell_type": "code",
   "execution_count": null,
   "metadata": {
    "ExecuteTime": {
     "end_time": "2021-07-28T15:11:53.917369Z",
     "start_time": "2021-07-28T15:11:53.272773Z"
    }
   },
   "outputs": [],
   "source": [
    "# plot\n",
    "fig = plt.figure(1, figsize=(20, 6))\n",
    "plt.rc('xtick', labelsize=20)\n",
    "plt.rc('ytick', labelsize=20)\n",
    "plt.gca().get_xaxis().get_major_formatter().set_useOffset(False)\n",
    "plt.plot(years, alumnos, 'ro', c='#00BFFF', ms=10, label='Datos')\n",
    "plt.axis([2005, 2014, 26000, 42000])\n",
    "#plt.title('Cantidad de alumnos Universidad de Chile 2006-2013',fontsize=25)\n",
    "\n",
    "\n",
    "# query/prediction\n",
    "years_reg = np.linspace(2005, 2014, 10)\n",
    "\n",
    "# solution\n",
    "invX = np.linalg.inv(np.dot(np.vstack((years, np.ones(8))),\n",
    "                            np.vstack((years, np.ones(8))).T))\n",
    "weights = np.dot(invX, np.dot(\n",
    "    np.vstack((years, np.ones(8)))[:, np.newaxis], alumnos))\n",
    "\n",
    "\n",
    "# plot\n",
    "plt.plot(years_reg, (np.dot(weights.T, np.vstack((years_reg, np.ones(10))))\n",
    "                     ).flatten(), 'r', lw=5, label='Regresion lineal')\n",
    "plt.xticks(years_reg)\n",
    "plt.legend(loc=0, fontsize=20)"
   ]
  },
  {
   "cell_type": "code",
   "execution_count": null,
   "metadata": {
    "ExecuteTime": {
     "end_time": "2021-07-28T15:11:53.930959Z",
     "start_time": "2021-07-28T15:11:53.922822Z"
    }
   },
   "outputs": [],
   "source": [
    "n = 250  # number of observations\n",
    "# input data are drawn from a zero-mean unit variance normal pdf\n",
    "x = np.random.uniform(-5, 5, n)\n",
    "\n",
    "# cambiar los siguientes tres parámetros para generar distintos ejemplos\n",
    "a = 2  # slope parameter\n",
    "b = -2  # offset parameter\n",
    "sigma = 0.5\n",
    "# observations follow a linear Gaussian model\n",
    "y = a * x + b + np.random.normal(0, sigma, n)"
   ]
  },
  {
   "cell_type": "code",
   "execution_count": null,
   "metadata": {
    "ExecuteTime": {
     "end_time": "2021-07-28T15:11:54.189173Z",
     "start_time": "2021-07-28T15:11:53.933827Z"
    }
   },
   "outputs": [],
   "source": [
    "fig = plt.figure(2, figsize=(20, 6))\n",
    "\n",
    "plt.plot(x, a * x + b, 'b', lw=2, label='Media')\n",
    "plt.plot(x, a * x + b + 2 * sigma, 'b', lw=1, label='Intervalo confianza 95% ')\n",
    "plt.plot(x, a * x + b - 2 * sigma, 'b', lw=1)\n",
    "plt.plot(x, y, 'ro', ms=5, label='Datos')\n",
    "plt.legend(loc=0, fontsize=20)"
   ]
  },
  {
   "cell_type": "code",
   "execution_count": null,
   "metadata": {
    "ExecuteTime": {
     "end_time": "2021-07-28T15:12:09.547561Z",
     "start_time": "2021-07-28T15:11:54.192840Z"
    },
    "scrolled": false
   },
   "outputs": [],
   "source": [
    "matplotlib.rcParams['xtick.direction'] = 'out'\n",
    "matplotlib.rcParams['ytick.direction'] = 'out'\n",
    "plt.rc('xtick', labelsize=13)\n",
    "plt.rc('ytick', labelsize=13)\n",
    "\n",
    "# prior distribution on w is Gaussian with mean and variance:\n",
    "V0 = np.array([[1, 0], [0, 1]])\n",
    "w0 = np.array([0, 0])\n",
    "\n",
    "\n",
    "f, axarr = plt.subplots(1, 5, figsize=(20, 4))\n",
    "plt.gca().get_xaxis().get_major_formatter().set_useOffset(False)\n",
    "\n",
    "# datos\n",
    "axarr[0].set_title('Datos')\n",
    "\n",
    "# distribución conjunta\n",
    "axarr[1].set_title('Prior conjunta')\n",
    "axarr[1].plot(a, b, 'r+', ms=20)\n",
    "delta = 0.025\n",
    "w1_plot = np.arange(-3.0, 3.0, delta)\n",
    "w2_plot = np.arange(-3.0, 3.0, delta)\n",
    "W1, W2 = np.meshgrid(w1_plot, w2_plot)\n",
    "\n",
    "multi_norm = stats.multivariate_normal([w0[0], w0[1]], [[V0[0, 0] * 0.5, V0[0, 1]], [V0[0, 1], V0[1, 1] * 0.5]])\n",
    "Z1 = multi_norm.pdf(np.dstack((W1, W2)))\n",
    "\n",
    "CS = axarr[1].contour(W1, W2, Z1)\n",
    "plt.clabel(CS, inline=1, fontsize=10)\n",
    "\n",
    "# distribución marginal w1\n",
    "axarr[2].set_title('Prior w1')\n",
    "Z2 = stats.norm.pdf(w1_plot, w0[0],  V0[0, 0])\n",
    "CS = axarr[2].plot(w1_plot, Z2)\n",
    "\n",
    "# distribución marginal w2\n",
    "axarr[3].set_title('Prior w2')\n",
    "Z3 = stats.norm.pdf(w1_plot, w0[1],  V0[1, 1])\n",
    "CS = axarr[3].plot(w1_plot, Z3)\n",
    "\n",
    "# muestras del modelo\n",
    "axarr[4].set_title('Muestras del modelo')\n",
    "for i in range(0, 10):\n",
    "    w = np.random.multivariate_normal(w0, V0)\n",
    "    CS = axarr[4].plot(x, w[0] * x + w[1, np.newaxis], 'r', lw=2)\n",
    "\n",
    "\n",
    "for i in range(0, 25):\n",
    "    # compute statistics w y V\n",
    "    invV0 = np.linalg.inv(V0)\n",
    "    x_tilde = np.vstack((x[:i], np.ones(i)))\n",
    "    V = sigma**2 * np.linalg.inv(sigma**2 * invV0 + np.dot(x_tilde, x_tilde.T))\n",
    "    w = np.dot(np.dot(V, invV0), w0.T) + \\\n",
    "        np.dot(np.dot(V, x_tilde), y[:i]) / sigma**2\n",
    "\n",
    "    f, axarr = plt.subplots(1, 5, figsize=(20, 4))\n",
    "    plt.gca().get_xaxis().get_major_formatter().set_useOffset(False)\n",
    "\n",
    "    # datos\n",
    "    axarr[0].set_title('Datos')\n",
    "    axarr[0].scatter(x[:i], y[:i])\n",
    "\n",
    "    # distribución conjunta\n",
    "    axarr[1].set_title('Posterior conjunta')\n",
    "    axarr[1].plot(a, b, 'r+', mew=5, ms=20)\n",
    "\n",
    "    multi_norm = stats.multivariate_normal([w0[0], w0[1]], [[V0[0, 0] * 0.5, V0[0, 1]], [V0[0, 1], V0[1, 1] * 0.5]])\n",
    "    Z1 = multi_norm.pdf(np.dstack((W1, W2)))\n",
    "    CS = axarr[1].contour(W1, W2, Z1)\n",
    "    plt.clabel(CS, inline=1, fontsize=10)\n",
    "\n",
    "    # distribución marginal w1\n",
    "    axarr[2].set_title('Posterior w1')\n",
    "    Z2 = stats.norm.pdf(w1_plot, w[0],  V[0, 0])\n",
    "    CS = axarr[2].plot(w1_plot, Z2)\n",
    "\n",
    "    # distribución marginal w2\n",
    "    axarr[3].set_title('Posterior w2')\n",
    "    Z3 = stats.norm.pdf(w1_plot, w[1],  V[1, 1])\n",
    "    CS = axarr[3].plot(w1_plot, Z3)\n",
    "\n",
    "    # muestras del modelo\n",
    "    axarr[4].set_title('Muestras del modelo')\n",
    "    for j in range(0, 10):\n",
    "        w_sample = np.random.multivariate_normal(w, V)\n",
    "        CS = axarr[4].plot(x, w_sample[0] * x +\n",
    "                           w_sample[1, np.newaxis], 'r', lw=2)\n",
    "    axarr[4].plot(x, a * x + b)\n",
    "    plt.show()"
   ]
  }
 ],
 "metadata": {
  "kernelspec": {
   "display_name": "Python 3",
   "language": "python",
   "name": "python3"
  },
  "language_info": {
   "codemirror_mode": {
    "name": "ipython",
    "version": 3
   },
   "file_extension": ".py",
   "mimetype": "text/x-python",
   "name": "python",
   "nbconvert_exporter": "python",
   "pygments_lexer": "ipython3",
   "version": "3.8.8"
  },
  "latex_envs": {
   "LaTeX_envs_menu_present": true,
   "autoclose": false,
   "autocomplete": true,
   "bibliofile": "biblio.bib",
   "cite_by": "apalike",
   "current_citInitial": 1,
   "eqLabelWithNumbers": true,
   "eqNumInitial": 1,
   "hotkeys": {
    "equation": "Ctrl-E",
    "itemize": "Ctrl-I"
   },
   "labels_anchors": false,
   "latex_user_defs": false,
   "report_style_numbering": false,
   "user_envs_cfg": false
  },
  "toc": {
   "base_numbering": 1,
   "nav_menu": {},
   "number_sections": true,
   "sideBar": true,
   "skip_h1_title": false,
   "title_cell": "Table of Contents",
   "title_sidebar": "Contents",
   "toc_cell": false,
   "toc_position": {},
   "toc_section_display": true,
   "toc_window_display": false
  },
  "varInspector": {
   "cols": {
    "lenName": 16,
    "lenType": 16,
    "lenVar": 40
   },
   "kernels_config": {
    "python": {
     "delete_cmd_postfix": "",
     "delete_cmd_prefix": "del ",
     "library": "var_list.py",
     "varRefreshCmd": "print(var_dic_list())"
    },
    "r": {
     "delete_cmd_postfix": ") ",
     "delete_cmd_prefix": "rm(",
     "library": "var_list.r",
     "varRefreshCmd": "cat(var_dic_list()) "
    }
   },
   "types_to_exclude": [
    "module",
    "function",
    "builtin_function_or_method",
    "instance",
    "_Feature"
   ],
   "window_display": false
  }
 },
 "nbformat": 4,
 "nbformat_minor": 2
}
