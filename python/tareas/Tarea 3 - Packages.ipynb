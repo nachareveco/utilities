{
 "cells": [
  {
   "cell_type": "markdown",
   "metadata": {},
   "source": [
    "# Introducción\n",
    "Esta tarea tiene como tema el desarrollo de un *package* para Python. El objetivo de esta tarea es desarrollar la librería científica denotada *m2py* (*Maths, Music and Plots in Python*) que sirve para trabajar con archivos de audio. La librería tiene las funcionalidades de leer archivos de audios de diferentes formatos, graficar diferentes representaciones (temporales y espectrales), calcular features, aplicar filtros y guardar a disco los resultados obtenidos. La forma de ejecutar la función *method* de esta librería es la siguiente:"
   ]
  },
  {
   "cell_type": "code",
   "execution_count": null,
   "metadata": {
    "ExecuteTime": {
     "end_time": "2018-11-05T19:45:44.010789Z",
     "start_time": "2018-11-05T19:45:43.963186Z"
    },
    "scrolled": true
   },
   "outputs": [],
   "source": [
    "import m2py as m2\n",
    "\n",
    "m2.method()"
   ]
  },
  {
   "cell_type": "markdown",
   "metadata": {},
   "source": [
    "# Tarea\n",
    "## Package\n",
    "Para el desarrollo de *m2py.py* usted tendrá que desarrollar los siguientes pasos.\n",
    "\n",
    "1. Programe el método *style()* que aplica un estilo de gráficos por defecto diseñado por usted.\n",
    "2. Programe el método *load(path)* que lee el archivo de audio en *path* y devuelve un objecto de la clase *Audio*.\n",
    "3. Programe la clase *Audio* con los siguientes métodos (donde los argumentos de los métodos los diseña usted):\n",
    "    * \\__init\\__: Inicializa un objeto de la clase Audio con variables ndarray que representen el archivo de audio. También es posible inicializarlo con la representación ndarray directamente.\n",
    "    * plot_time: Graficar la representación del audio en el dominio temporal.\n",
    "    * plot_freq: Graficar la representación del audio en el dominio de frecuencias.\n",
    "    * set_time: Setear valores del audio en su representación temporal.\n",
    "    * set_freq: Setear valores del audio en su representación de frecuencias.\n",
    "    * reset: Resetear el audio a sus valores iniciales.\n",
    "    * save: Guardar a disco el audio representado.\n",
    "    * play: Reproducir el audio representado.\n",
    "4. Programe el método *get_features(audio)* que devuelve un dataframe con diferentes features del audio.\n",
    "5. Programe el método *widget(audio)* que genera un *ipywidget* que permite setiar rangos de valores, graficar, resetear y guardar el audio, en ambos dominios. Tiene el botón *Play* que sirve para reproducir el audio representado actualmente, y el botón *Save Plot* que guarda a disco los gráficos.\n",
    "6. Programe el script *setup.py* que instala *m2py* en el entorno de Python. Se deben especificar las dependencias requeridas por su *package*.\n",
    "\n",
    "## Jupyter Notebook\n",
    "Para el testeo de su libreria, usted deberá crear el Jupyter notebook *tarea3.ipynb* que pruebe varios ejemplos que utilizen todas las funciones desarrolladas anteriormente. Para esto va a generar 10 objetos *Audio* inicializados con un ndarray, obtenidos de combinaciones de las siguientes funciones:\n",
    "\n",
    "* constante en un intervalo\n",
    "* cuadratica\n",
    "* exponencial\n",
    "* seno y coseno\n",
    "* ruido blanco\n",
    "\n",
    "Los filtros son métodos que modifican los valores de audios en su representación temporal y/o de frecuencia, tales como sumar, multiplicar o convolucionar por alguna de las funciones listadas anteriormente. Implementar 5 filtros diferentes.\n",
    "\n",
    "Para cada uno de los objetos *Audio* aplicar 2 filtros, graficar y calcular features de todas las representaciones, reproducir el audio original y el audio final. Realizar una descripción de cada uno de los ejemplos, filtros y resultados obtenidos.\n",
    "\n",
    "Probar la interfaz gráfica con dos archivo de audio reales: la primera una canción instrumental y la segunda una canción con canto. Deberá guardar todos los gráficos originales y finales, incluirlos en el informe y realizar una descripción de los resultados obtenidos. \n",
    "\n",
    "\n",
    "# Entrega\n",
    "El formato de entrega será subir por slack el informe tarea3.pdf, el Jupyter notebook tarea3.ipynb, que debe ejecutar sin errores desde la primera celda a la última, donde cada celda debe resolver cada uno de los pasos descritos. Además se deben adjuntar los archivos de audio utilizados, *m2py.py* y *setup.py*, el código debe estar comentado y el notebook debe estar escrito en forma de informe técnico, escribiendo una celda markdown antes de cada celda de código. Una vez que su notebook ejecute correctamente, deberá descargar la versión pdf del notebook y adjuntarla a su tarea. Este archivo corresponde a su informe de tarea, que deberá llamarse tarea3.pdf. Adjuntar el código del *package* como anexo del informe."
   ]
  }
 ],
 "metadata": {
  "kernelspec": {
   "display_name": "Python 3",
   "language": "python",
   "name": "python3"
  },
  "language_info": {
   "codemirror_mode": {
    "name": "ipython",
    "version": 3
   },
   "file_extension": ".py",
   "mimetype": "text/x-python",
   "name": "python",
   "nbconvert_exporter": "python",
   "pygments_lexer": "ipython3",
   "version": "3.8.5"
  },
  "toc": {
   "base_numbering": 1,
   "nav_menu": {},
   "number_sections": true,
   "sideBar": true,
   "skip_h1_title": false,
   "title_cell": "Table of Contents",
   "title_sidebar": "Contents",
   "toc_cell": false,
   "toc_position": {},
   "toc_section_display": true,
   "toc_window_display": false
  }
 },
 "nbformat": 4,
 "nbformat_minor": 4
}
