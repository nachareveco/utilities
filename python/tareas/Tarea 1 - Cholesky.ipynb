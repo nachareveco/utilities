{
 "cells": [
  {
   "cell_type": "markdown",
   "metadata": {},
   "source": [
    "# Introducción\n",
    "Esta tarea tiene como tema el método científico, para matrices definidas positivas, de la Factorización de Cholesky (https://es.wikipedia.org/wiki/Factorizacion_de_Cholesky) . Usted tendrá que implementar el método utilizando los diferentes paradigmas de programación, aplicarlos a diferentes casos de diferente dimensión y comparar las implementaciones.\n",
    "\n",
    "# Tarea\n",
    "1. Implementar la clase MyMatrix para almacenar matrices, utilizando sólo las estructuras de datos de Python por defecto.\n",
    "2. Implementar la funcion my_cholesky, que a un objeto MyMatrix aplique el algoritmo de Factorización de Cholesky descrito en la referencia, sin usar ninguna libreria externa.\n",
    "3. Programar el script para probar su implementación con matrices aleatorias de tamaño 10x10, 100x100 y 1000x1000.\n",
    "4. Implementar la función np_cholesky, que a un objeto ndarray aplique el algoritmo de Factorización de Cholesky descrito en la referencia, sin usar ninguna libreria externa.\n",
    "5. Programar el script para probar su reimplementación con matrices aleatorias de tamaño 10x10, 100x100 y 1000x1000.\n",
    "6. Programar el script para comparar la eficiencia computacional, precisión numérica y longitud de código de las implementaciones my_cholesky, np_cholesky y la implementación de numpy.linalg.cholesky. Para esto deberá medir el tiempo de ejecución de sus simulaciones y comparar el error (en norma de matrices) de sus cálculos versus los entregrados por la implementación de numpy. Los resultados deberá escribirlos en el archivo resultados.cvs.\n",
    "7. Implemente un script que imprima en formato de tabla los datos del archivo resultados.cvs\n",
    "\n",
    "# Entrega\n",
    "El formato de entrega será subir por slack el informe  tarea1.pdf y el Jupyter notebook tarea1.ipynb, que debe ejecutar sin errores desde la primera celda a la última, donde cada celda debe resolver cada uno de los 7 pasos descritos. Todo el código debe estar en el mismo notebook, el código debe estar comentado y el notebook debe estar escrito en forma de informe técnico, escribiendo una celda markdown antes de cada celda de código. Una vez que su notebook ejecute correctamente, deberá descargar la versión pdf del notebook y adjuntarla a su tarea. Este archivo corresponde a su informe de tarea, que deberá llamarse tarea1.pdf."
   ]
  }
 ],
 "metadata": {
  "kernelspec": {
   "display_name": "Python 3",
   "language": "python",
   "name": "python3"
  },
  "language_info": {
   "codemirror_mode": {
    "name": "ipython",
    "version": 3
   },
   "file_extension": ".py",
   "mimetype": "text/x-python",
   "name": "python",
   "nbconvert_exporter": "python",
   "pygments_lexer": "ipython3",
   "version": "3.8.5"
  }
 },
 "nbformat": 4,
 "nbformat_minor": 4
}
