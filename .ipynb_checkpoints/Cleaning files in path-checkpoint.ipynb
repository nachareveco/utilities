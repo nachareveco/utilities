{
 "cells": [
  {
   "cell_type": "markdown",
   "metadata": {},
   "source": [
    "# Import libraries"
   ]
  },
  {
   "cell_type": "code",
   "execution_count": 1,
   "metadata": {},
   "outputs": [],
   "source": [
    "import pandas as pd\n",
    "import numpy as np\n",
    "import glob\n",
    "from datetime import datetime as dt\n",
    "import datetime\n",
    "from datetime import date\n",
    "import string\n",
    "import unicodedata"
   ]
  },
  {
   "cell_type": "markdown",
   "metadata": {},
   "source": [
    "# Utilities"
   ]
  },
  {
   "cell_type": "code",
   "execution_count": 2,
   "metadata": {},
   "outputs": [],
   "source": [
    "def rreplace(s, old, new, n_occurrence):\n",
    "    # Replace the last n_occurrence (n_occurrence = 1 is the last occurrence) of an expression in a string s\n",
    "    li = s.rsplit(old, n_occurrence)\n",
    "    return new.join(li)\n",
    "\n",
    "def str_format(stringg):\n",
    "    \n",
    "    # Delete puctuation or others symbols in string\n",
    "    \n",
    "    punctuation = list(string.punctuation)          \n",
    "    symbols = ['^','°']                     \n",
    "    new_string = unicodedata.normalize('NFKD', stringg).encode('ascii', errors='ignore').decode('utf-8') \n",
    "\n",
    "    for i in range(len(punctuation)):\n",
    "        new_string = new_string.replace(punctuation[i],'_')   \n",
    "    \n",
    "    for i in range(len(symbols)):\n",
    "        new_string = new_string.replace(symbols[i],'')       \n",
    "    \n",
    "    new_string = new_string.replace(' ','_').lower()          \n",
    "    \n",
    "    while new_string[-1] == '_':\n",
    "        new_string = rreplace(new_string,'_','',1)           \n",
    "    \n",
    "    return new_string\n",
    "\n",
    "\n",
    "def read_txt(path, header_int, sep = '|', encoding = 'latin1'):\n",
    "# Lee los archivos txt del path (correspondientes a la fecha de descarga), y crea diccionario con respectivos dataframes\n",
    "    all_files = pd.Series(glob.glob(path + \"/*.txt\"))\n",
    "    fecha_str = date.today().strftime(\"%Y%m\")\n",
    "    files = all_files[all_files.astype(str).str.contains(fecha_str)].tolist()\n",
    "    d = {}\n",
    "    \n",
    "    for i in range(0,len(files)):\n",
    "        file_path = files[i]\n",
    "        index_from = file_path.rfind(\"\\\\\") + 1\n",
    "        file_name = str_format(file_path[index_from:-4])\n",
    "        \n",
    "        if file_name[:8].isdigit():\n",
    "            file_name = file_name[9:]\n",
    "        \n",
    "        d[str(file_name)+\"_csv\"] = pd.read_csv(file_path,header=header_int, sep=sep, encoding=encoding, dtype=str)\n",
    "    return d\n",
    "\n",
    "def save_as_csv(dict, path, sep=';', encoding = 'latin1'):\n",
    "    \n",
    "    for keys in dict:\n",
    "        dict[keys].to_csv(path + '\\\\' + dt.now().strftime('%Y%m%d') + str(keys) + '.csv', sep=sep)\n",
    "        \n",
    "def read_xlsx(path, header_int, sheet_name_str, encoding = 'latin1'):\n",
    "# Lee los archivos xlsx del path (correspondientes a la fecha de descarga), y crea diccionario con respectivos dataframes\n",
    "    all_files = pd.Series(glob.glob(path + \"/*.xlsx\"))\n",
    "    fecha_str = date.today().strftime(\"%Y%m\")\n",
    "    files = all_files[all_files.astype(str).str.contains(fecha_str)].tolist()\n",
    "    d = {}\n",
    "    \n",
    "    for i in range(0,len(files)):\n",
    "        file_path = files[i]\n",
    "        index_from = file_path.rfind(\"\\\\\") + 1\n",
    "        file_name = str_format(file_path[index_from:-4])\n",
    "        \n",
    "        if file_name[:8].isdigit():\n",
    "            file_name = file_name[9:]\n",
    "        \n",
    "        d[str(file_name)+\"_csv\"] = pd.read_excel(file_path, header=header_int, sheet_name=sheet_name_str, encoding=encoding, dtype=str)\n",
    "    return d\n",
    "\n",
    "def col_names_format(dict):\n",
    "    \n",
    "    for keys in dict:\n",
    "        df_col = dict[keys].columns\n",
    "        col_list = []\n",
    "        for col in df_col:\n",
    "            col_list.append(str_format(col))\n",
    "        dict[keys].columns = col_list\n",
    "    \n",
    "    return dict"
   ]
  },
  {
   "cell_type": "code",
   "execution_count": null,
   "metadata": {},
   "outputs": [],
   "source": []
  }
 ],
 "metadata": {
  "kernelspec": {
   "display_name": "Python 3",
   "language": "python",
   "name": "python3"
  },
  "language_info": {
   "codemirror_mode": {
    "name": "ipython",
    "version": 3
   },
   "file_extension": ".py",
   "mimetype": "text/x-python",
   "name": "python",
   "nbconvert_exporter": "python",
   "pygments_lexer": "ipython3",
   "version": "3.8.5"
  }
 },
 "nbformat": 4,
 "nbformat_minor": 4
}
