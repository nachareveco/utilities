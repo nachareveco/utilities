{
 "cells": [
  {
   "cell_type": "markdown",
   "metadata": {},
   "source": [
    "## Importar librerías"
   ]
  },
  {
   "cell_type": "code",
   "execution_count": null,
   "metadata": {},
   "outputs": [],
   "source": [
    "import os\n",
    "import tempfile\n",
    "\n",
    "from office365.runtime.auth.user_credential import UserCredential\n",
    "from office365.runtime.auth.client_credential import ClientCredential\n",
    "from office365.sharepoint.client_context import ClientContext"
   ]
  },
  {
   "cell_type": "markdown",
   "metadata": {},
   "source": [
    "## Utilidades"
   ]
  },
  {
   "cell_type": "code",
   "execution_count": null,
   "metadata": {},
   "outputs": [],
   "source": [
    "def files_names(path):\n",
    "    lstFiles = []\n",
    "\n",
    "    lstDir = os.walk(path)\n",
    " \n",
    "    for root, dirs, files in lstDir:\n",
    "        for fichero in files:\n",
    "            (nombreFichero, extension) = os.path.splitext(fichero)\n",
    "            lstFiles.append(nombreFichero+extension)\n",
    "    return lstFiles\n",
    "\n",
    "def carga_sharepoint(path, lista_nombres, relativeUrl, ctx):\n",
    "    for file in lista_nombres:\n",
    "        pc_path = path + file\n",
    "            \n",
    "        with open(pc_path, 'rb') as content_file:\n",
    "            file_content = content_file.read()\n",
    "        \n",
    "        name = os.path.basename(file)\n",
    "        target_folder = ctx.web.get_folder_by_server_relative_url(relativeUrl) \n",
    "        target_file = target_folder.upload_file(name, file_content)\n",
    "        ctx.execute_query()\n",
    "        print(\"File url: {0}\".format(target_file.serverRelativeUrl))"
   ]
  },
  {
   "cell_type": "markdown",
   "metadata": {},
   "source": [
    "## Credenciales"
   ]
  },
  {
   "cell_type": "code",
   "execution_count": null,
   "metadata": {},
   "outputs": [],
   "source": [
    "ruta = 'C:/github/carpeta donde esta datos.txt'\n",
    "archivo = open(ruta+'datos.txt', 'r')\n",
    "\n",
    "# datos.txt es un txt que tiene las credenciales para entrar a Sharepoint de Office365 en formato:\n",
    "\n",
    "####################\n",
    "# username\n",
    "# password\n",
    "####################\n",
    "\n",
    "\n",
    "datos =[]\n",
    "\n",
    "for linea in archivo.readlines():\n",
    "    datos.append(linea)"
   ]
  },
  {
   "cell_type": "code",
   "execution_count": null,
   "metadata": {},
   "outputs": [],
   "source": [
    "username = datos[0].replace('\\n', '')\n",
    "password = datos[1]"
   ]
  },
  {
   "cell_type": "markdown",
   "metadata": {},
   "source": [
    "## Cargar archivos"
   ]
  },
  {
   "cell_type": "code",
   "execution_count": null,
   "metadata": {},
   "outputs": [],
   "source": [
    "# Sharepoint generado a partir de equipo de Teams\n",
    "\n",
    "site_url = \"https://achs.sharepoint.com/teams/EquipodeTeams\"\n",
    "ctx = ClientContext(site_url).with_credentials(UserCredential(username, password))"
   ]
  },
  {
   "cell_type": "markdown",
   "metadata": {},
   "source": [
    "**Cargar archivos en Sharepoint**"
   ]
  },
  {
   "cell_type": "code",
   "execution_count": null,
   "metadata": {},
   "outputs": [],
   "source": [
    "# Obtener lista con los archivos en carpeta\n",
    "path = 'C:/github/carpeta con archivos que se quieren cargar'\n",
    "lista = files_names(path)"
   ]
  },
  {
   "cell_type": "code",
   "execution_count": null,
   "metadata": {},
   "outputs": [],
   "source": [
    "# Cargar archivos en Sharepoint\n",
    "relativeUrl = \"Shared Documents/General/subcarpeta\"\n",
    "carga_sharepoint(path, lista, relativeUrl, ctx)"
   ]
  }
 ],
 "metadata": {
  "kernelspec": {
   "display_name": "Python 3",
   "language": "python",
   "name": "python3"
  },
  "language_info": {
   "codemirror_mode": {
    "name": "ipython",
    "version": 3
   },
   "file_extension": ".py",
   "mimetype": "text/x-python",
   "name": "python",
   "nbconvert_exporter": "python",
   "pygments_lexer": "ipython3",
   "version": "3.7.4"
  }
 },
 "nbformat": 4,
 "nbformat_minor": 4
}
