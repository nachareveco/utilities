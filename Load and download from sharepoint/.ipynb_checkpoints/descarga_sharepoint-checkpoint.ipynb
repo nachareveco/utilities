{
 "cells": [
  {
   "cell_type": "markdown",
   "metadata": {},
   "source": [
    "## Importar librerias"
   ]
  },
  {
   "cell_type": "code",
   "execution_count": null,
   "metadata": {},
   "outputs": [],
   "source": [
    "import os\n",
    "import tempfile\n",
    "\n",
    "from office365.runtime.auth.user_credential import UserCredential\n",
    "from office365.runtime.auth.client_credential import ClientCredential\n",
    "from office365.sharepoint.client_context import ClientContext\n",
    "\n",
    "from datetime import datetime"
   ]
  },
  {
   "cell_type": "markdown",
   "metadata": {},
   "source": [
    "## Utilidades"
   ]
  },
  {
   "cell_type": "code",
   "execution_count": null,
   "metadata": {},
   "outputs": [],
   "source": [
    "def get_folder_relativeUrl(ctx, site_url, relativeUrl):\n",
    "    \n",
    "    try:     \n",
    "        \n",
    "        libraryRoot = ctx.web.get_folder_by_server_relative_url(relativeUrl)    \n",
    "        ctx.load(libraryRoot)\n",
    "        ctx.execute_query()\n",
    "\n",
    "        folders = libraryRoot.folders\n",
    "        ctx.load(folders)\n",
    "        ctx.execute_query()\n",
    "\n",
    "        for myfolder in folders:\n",
    "            print(\"Folder name: {0}\".format(myfolder.properties[\"ServerRelativeUrl\"]))\n",
    "            printAllContents(ctx, relativeUrl + '/' + myfolder.properties[\"Name\"])\n",
    "\n",
    "        files = libraryRoot.files\n",
    "        ctx.load(files)\n",
    "        ctx.execute_query()\n",
    "\n",
    "        file_url = []\n",
    "\n",
    "        for myfile in files:\n",
    "            file_url.append(myfile.properties[\"ServerRelativeUrl\"])\n",
    "        return file_url\n",
    "\n",
    "    except:\n",
    "\n",
    "        print('Problem printing out list of folders')"
   ]
  },
  {
   "cell_type": "markdown",
   "metadata": {},
   "source": [
    "## Credenciales"
   ]
  },
  {
   "cell_type": "code",
   "execution_count": null,
   "metadata": {},
   "outputs": [],
   "source": [
    "ruta = 'C:/github/carpeta donde esta datos.txt'\n",
    "archivo = open(ruta+'datos.txt', 'r')\n",
    "\n",
    "# datos.txt es un txt que tiene las credenciales para entrar a Sharepoint de Office365 en formato:\n",
    "\n",
    "####################\n",
    "# username\n",
    "# password\n",
    "####################\n",
    "\n",
    "datos =[]\n",
    "\n",
    "for linea in archivo.readlines():\n",
    "    datos.append(linea)"
   ]
  },
  {
   "cell_type": "code",
   "execution_count": null,
   "metadata": {},
   "outputs": [],
   "source": [
    "username = datos[0].replace('\\n', '')\n",
    "password = datos[1]"
   ]
  },
  {
   "cell_type": "markdown",
   "metadata": {},
   "source": [
    "## Descargar archivos"
   ]
  },
  {
   "cell_type": "code",
   "execution_count": null,
   "metadata": {},
   "outputs": [],
   "source": [
    "# Sharepoint generado a partir de equipo de Teams\n",
    "\n",
    "site_url = \"https://achs.sharepoint.com/teams/EquipodeTeams\"\n",
    "ctx = ClientContext(site_url).with_credentials(UserCredential(username, password))"
   ]
  },
  {
   "cell_type": "code",
   "execution_count": null,
   "metadata": {},
   "outputs": [],
   "source": [
    "relativeUrl = \"Shared Documents/General/subcarpeta\""
   ]
  },
  {
   "cell_type": "code",
   "execution_count": null,
   "metadata": {},
   "outputs": [],
   "source": [
    "fecha = datetime.now().strftime('%Y%m%d')"
   ]
  },
  {
   "cell_type": "markdown",
   "metadata": {},
   "source": [
    "**Descargar archivos de Sharepoint**"
   ]
  },
  {
   "cell_type": "code",
   "execution_count": null,
   "metadata": {},
   "outputs": [],
   "source": [
    "file_url = get_folder_relativeUrl(ctx, site_url, relativeUrl_ero)"
   ]
  },
  {
   "cell_type": "code",
   "execution_count": null,
   "metadata": {},
   "outputs": [],
   "source": [
    "path = 'C:/github/carpeta donde se quieren descargar los archivos'\n",
    "\n",
    "for i in file_url:\n",
    "    if i.count('.') > 1:\n",
    "        ext = i[i.rfind('.'):]\n",
    "        file = i[:i.rfind('.')].replace('.', '')\n",
    "        download_path = os.path.join(path_ero, fecha + '_' + os.path.basename(file) + ext)\n",
    "        with open(download_path, \"wb\") as local_file:\n",
    "            file = ctx.web.get_file_by_server_relative_url(i).download(local_file).execute_query()\n",
    "        print(\"[Ok] file has been downloaded: {0}\".format(download_path))\n",
    "    else:\n",
    "        download_path = os.path.join(path_ero, fecha + '_' + os.path.basename(i))\n",
    "        with open(download_path, \"wb\") as local_file:\n",
    "            file = ctx.web.get_file_by_server_relative_url(i).download(local_file).execute_query()\n",
    "        print(\"[Ok] file has been downloaded: {0}\".format(download_path))"
   ]
  }
 ],
 "metadata": {
  "kernelspec": {
   "display_name": "Python 3",
   "language": "python",
   "name": "python3"
  },
  "language_info": {
   "codemirror_mode": {
    "name": "ipython",
    "version": 3
   },
   "file_extension": ".py",
   "mimetype": "text/x-python",
   "name": "python",
   "nbconvert_exporter": "python",
   "pygments_lexer": "ipython3",
   "version": "3.7.4"
  }
 },
 "nbformat": 4,
 "nbformat_minor": 4
}
