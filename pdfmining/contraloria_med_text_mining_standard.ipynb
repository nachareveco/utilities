{
 "cells": [
  {
   "cell_type": "markdown",
   "metadata": {},
   "source": [
    "## Importar librerías"
   ]
  },
  {
   "cell_type": "code",
   "execution_count": 1,
   "metadata": {},
   "outputs": [],
   "source": [
    "import PyPDF2\n",
    "import pandas as pd\n",
    "import glob\n",
    "from datetime import datetime"
   ]
  },
  {
   "cell_type": "markdown",
   "metadata": {},
   "source": [
    "## Utilidades"
   ]
  },
  {
   "cell_type": "code",
   "execution_count": 2,
   "metadata": {},
   "outputs": [],
   "source": [
    "def read_pdf(input_path):\n",
    "    '''Lee los archivos pdf del path y crea diccionario con respectivas listas'''\n",
    "    all_files = pd.Series(glob.glob(input_path + \"/*.pdf\"))\n",
    "    d = {}\n",
    "   \n",
    "    for i in range(0,len(all_files)):\n",
    "        file = all_files[i]\n",
    "        index_from = file.rfind(\"\\\\\") + 1\n",
    "        \n",
    "        pdf_file = open(file, 'rb')\n",
    "        d[str(file[index_from:-4])] = PyPDF2.PdfFileReader(pdf_file)\n",
    "       \n",
    "    return d\n",
    "\n",
    "def page_content(read_pdf):\n",
    "    '''Almacena el contenido de las páginas'''\n",
    "    page1 = read_pdf.getPage(1)\n",
    "    page1_content = page1.extractText()\n",
    "\n",
    "    page2 = read_pdf.getPage(2)\n",
    "    page2_content = page2.extractText()\n",
    "\n",
    "    page3 = read_pdf.getPage(3)\n",
    "    page3_content = page3.extractText()\n",
    "\n",
    "    page4 = read_pdf.getPage(4)\n",
    "    page4_content = page4.extractText()\n",
    "    \n",
    "    global pages\n",
    "    pages = [page1_content, page2_content, page3_content, page4_content]\n",
    "    \n",
    "    return pages\n",
    "\n",
    "def limpieza(lista, pag, text):\n",
    "    '''Limpia las listas para que las palabras queden separadas'''\n",
    "    aux = []\n",
    "    \n",
    "    for i in lista:\n",
    "        row = i.split(' ')\n",
    "        aux.append(row)\n",
    "        \n",
    "    for i in range (len(aux)):\n",
    "        pag.extend(aux[i])\n",
    "        \n",
    "    for i in pag:\n",
    "        i = i.lower()\n",
    "        i = i.replace('.','').replace(',','')\n",
    "        text.append(i)\n",
    "        \n",
    "    return text\n",
    "\n",
    "def nivel_riesgo(paginas):\n",
    "    '''Busca la palabra asociada al nivel de riesgo por cada página'''\n",
    "    global res\n",
    "    for i in paginas:\n",
    "        if 'severo' in i:\n",
    "            res = 4\n",
    "        elif 'serio' in i:\n",
    "            res = 4\n",
    "        elif 'alto' in i:\n",
    "            res = 3\n",
    "        elif 'medio' in i:\n",
    "            res = 2\n",
    "        elif 'bajo' in i:\n",
    "            res = 1"
   ]
  },
  {
   "cell_type": "markdown",
   "metadata": {},
   "source": [
    "## Cargar archivos y páginas a leer"
   ]
  },
  {
   "cell_type": "code",
   "execution_count": 3,
   "metadata": {},
   "outputs": [],
   "source": [
    "input_path = 'C:/projects/data_lake/data/input/current/direccion_salud/'"
   ]
  },
  {
   "cell_type": "code",
   "execution_count": 4,
   "metadata": {
    "scrolled": true
   },
   "outputs": [],
   "source": [
    "dicc = read_pdf(input_path)\n",
    "\n",
    "keys = list(dicc.keys())\n",
    "dicc_values = list(dicc.values())"
   ]
  },
  {
   "cell_type": "markdown",
   "metadata": {},
   "source": [
    "## Procesamiento y obtención de resultado de auditoría"
   ]
  },
  {
   "cell_type": "markdown",
   "metadata": {},
   "source": [
    "**Cargar el contenido de las páginas de los pdf**"
   ]
  },
  {
   "cell_type": "code",
   "execution_count": 5,
   "metadata": {},
   "outputs": [],
   "source": [
    "pages_pdf = []\n",
    "\n",
    "for i in dicc_values:\n",
    "    content = page_content(i)\n",
    "    pages_pdf.append(pages)"
   ]
  },
  {
   "cell_type": "markdown",
   "metadata": {},
   "source": [
    "**Limpiar el contenido de las páginas**"
   ]
  },
  {
   "cell_type": "code",
   "execution_count": 6,
   "metadata": {},
   "outputs": [],
   "source": [
    "n = 0\n",
    "dicc_pag = {}\n",
    "\n",
    "for listas in pages_pdf:    \n",
    "    for i in listas:\n",
    "        lista = []\n",
    "        text = []\n",
    "        pag = []\n",
    "        aux = []\n",
    "        lista = i.split('\\n')\n",
    "        limpieza(lista, pag, text)\n",
    "        dicc_pag[keys[n] + '_pag' + str(listas.index(i))] = [text]\n",
    "    n = n + 1"
   ]
  },
  {
   "cell_type": "markdown",
   "metadata": {},
   "source": [
    "**Separar las páginas de un mismo documento en sublistas**"
   ]
  },
  {
   "cell_type": "code",
   "execution_count": 7,
   "metadata": {},
   "outputs": [],
   "source": [
    "pages_all = list(dicc_pag.values())"
   ]
  },
  {
   "cell_type": "code",
   "execution_count": 8,
   "metadata": {},
   "outputs": [],
   "source": [
    "paginas = [pages_all[i:i+4] for i in range(0,len(pages_all),4)]"
   ]
  },
  {
   "cell_type": "markdown",
   "metadata": {},
   "source": [
    "**Extraer el nivel de riesgo del informe**"
   ]
  },
  {
   "cell_type": "code",
   "execution_count": 9,
   "metadata": {},
   "outputs": [],
   "source": [
    "resultados = []"
   ]
  },
  {
   "cell_type": "code",
   "execution_count": 10,
   "metadata": {},
   "outputs": [],
   "source": [
    "for i in paginas:\n",
    "    for j in i:\n",
    "        res = 0\n",
    "        nivel_riesgo(j)\n",
    "        if res != 0:\n",
    "            resultados.append(res)\n",
    "            break       "
   ]
  },
  {
   "cell_type": "markdown",
   "metadata": {},
   "source": [
    "**Almacenar resultados en un DataFrame**"
   ]
  },
  {
   "cell_type": "code",
   "execution_count": 11,
   "metadata": {},
   "outputs": [],
   "source": [
    "df = pd.DataFrame({'Nombre archivo': keys,\n",
    "                   'Resultado': resultados})"
   ]
  },
  {
   "cell_type": "markdown",
   "metadata": {},
   "source": [
    "**Agregar de forma manual ISP Droguería por formato distinto**"
   ]
  },
  {
   "cell_type": "code",
   "execution_count": 13,
   "metadata": {},
   "outputs": [],
   "source": [
    "df = df.append({'Nombre archivo' : 'ISP Drogueria Comunicacion - Informe de Auditoría a la Drogueria_',\n",
    "                'Resultado' : 2} , ignore_index=True)"
   ]
  },
  {
   "cell_type": "code",
   "execution_count": 16,
   "metadata": {},
   "outputs": [
    {
     "data": {
      "text/html": [
       "<div>\n",
       "<style scoped>\n",
       "    .dataframe tbody tr th:only-of-type {\n",
       "        vertical-align: middle;\n",
       "    }\n",
       "\n",
       "    .dataframe tbody tr th {\n",
       "        vertical-align: top;\n",
       "    }\n",
       "\n",
       "    .dataframe thead th {\n",
       "        text-align: right;\n",
       "    }\n",
       "</style>\n",
       "<table border=\"1\" class=\"dataframe\">\n",
       "  <thead>\n",
       "    <tr style=\"text-align: right;\">\n",
       "      <th></th>\n",
       "      <th>Nombre archivo</th>\n",
       "      <th>Resultado</th>\n",
       "    </tr>\n",
       "  </thead>\n",
       "  <tbody>\n",
       "    <tr>\n",
       "      <th>0</th>\n",
       "      <td>Adm reposo Comunicacion - A Para revisión fina...</td>\n",
       "      <td>1</td>\n",
       "    </tr>\n",
       "    <tr>\n",
       "      <th>1</th>\n",
       "      <td>Adm reposo Comunicacion - Informe_ Auditoría ...</td>\n",
       "      <td>2</td>\n",
       "    </tr>\n",
       "    <tr>\n",
       "      <th>2</th>\n",
       "      <td>Atención quirúrgica Comunicación - INFORME AUD...</td>\n",
       "      <td>2</td>\n",
       "    </tr>\n",
       "    <tr>\n",
       "      <th>3</th>\n",
       "      <td>Cali 1T2018 Comunicacion - Informe de Auditorí...</td>\n",
       "      <td>2</td>\n",
       "    </tr>\n",
       "    <tr>\n",
       "      <th>4</th>\n",
       "      <td>Cali 1T2019 Comunicacion - Informe de Auditorí...</td>\n",
       "      <td>1</td>\n",
       "    </tr>\n",
       "    <tr>\n",
       "      <th>5</th>\n",
       "      <td>Cali 2T2018 Comunicacion - Informe de Auditorí...</td>\n",
       "      <td>2</td>\n",
       "    </tr>\n",
       "    <tr>\n",
       "      <th>6</th>\n",
       "      <td>Cali 2T2019 Comunicación - Informe Final Audit...</td>\n",
       "      <td>2</td>\n",
       "    </tr>\n",
       "    <tr>\n",
       "      <th>7</th>\n",
       "      <td>Cali 3T2018 Comunicacion - Informe de Auditorí...</td>\n",
       "      <td>1</td>\n",
       "    </tr>\n",
       "    <tr>\n",
       "      <th>8</th>\n",
       "      <td>Cali 4T2017 Comunicacion - Informe de Auditorí...</td>\n",
       "      <td>2</td>\n",
       "    </tr>\n",
       "    <tr>\n",
       "      <th>9</th>\n",
       "      <td>Cali 4T2018 Comunicacion - INFORME. AUDITORIA ...</td>\n",
       "      <td>1</td>\n",
       "    </tr>\n",
       "    <tr>\n",
       "      <th>10</th>\n",
       "      <td>Cali acoge parcial 2018 Comunicacion - Informe...</td>\n",
       "      <td>3</td>\n",
       "    </tr>\n",
       "    <tr>\n",
       "      <th>11</th>\n",
       "      <td>Enfermeria ambulatoria Comunicacion - Informe ...</td>\n",
       "      <td>1</td>\n",
       "    </tr>\n",
       "    <tr>\n",
       "      <th>12</th>\n",
       "      <td>GES I Comunicacion - Informe auditoría Notific...</td>\n",
       "      <td>4</td>\n",
       "    </tr>\n",
       "    <tr>\n",
       "      <th>13</th>\n",
       "      <td>GES II Comunicacion - INFORME FINAL AUDITORIA ...</td>\n",
       "      <td>3</td>\n",
       "    </tr>\n",
       "    <tr>\n",
       "      <th>14</th>\n",
       "      <td>Gestion pacientes Comunicacion - INFORME AUDIT...</td>\n",
       "      <td>1</td>\n",
       "    </tr>\n",
       "    <tr>\n",
       "      <th>15</th>\n",
       "      <td>Piloto herramienta CALI - Informe de Revisión ...</td>\n",
       "      <td>2</td>\n",
       "    </tr>\n",
       "    <tr>\n",
       "      <th>16</th>\n",
       "      <td>Poli Comunicacion - 30 nov Informe Final Audit...</td>\n",
       "      <td>1</td>\n",
       "    </tr>\n",
       "    <tr>\n",
       "      <th>17</th>\n",
       "      <td>Reg Enfermeria Comunicacion - Informe de Audit...</td>\n",
       "      <td>2</td>\n",
       "    </tr>\n",
       "    <tr>\n",
       "      <th>18</th>\n",
       "      <td>Reg Medico Comunicacion - INFORME AUDITORIA DE...</td>\n",
       "      <td>3</td>\n",
       "    </tr>\n",
       "    <tr>\n",
       "      <th>19</th>\n",
       "      <td>ISP Drogueria Comunicacion - Informe de Audito...</td>\n",
       "      <td>2</td>\n",
       "    </tr>\n",
       "  </tbody>\n",
       "</table>\n",
       "</div>"
      ],
      "text/plain": [
       "                                       Nombre archivo  Resultado\n",
       "0   Adm reposo Comunicacion - A Para revisión fina...          1\n",
       "1   Adm reposo Comunicacion - Informe_ Auditoría ...          2\n",
       "2   Atención quirúrgica Comunicación - INFORME AUD...          2\n",
       "3   Cali 1T2018 Comunicacion - Informe de Auditorí...          2\n",
       "4   Cali 1T2019 Comunicacion - Informe de Auditorí...          1\n",
       "5   Cali 2T2018 Comunicacion - Informe de Auditorí...          2\n",
       "6   Cali 2T2019 Comunicación - Informe Final Audit...          2\n",
       "7   Cali 3T2018 Comunicacion - Informe de Auditorí...          1\n",
       "8   Cali 4T2017 Comunicacion - Informe de Auditorí...          2\n",
       "9   Cali 4T2018 Comunicacion - INFORME. AUDITORIA ...          1\n",
       "10  Cali acoge parcial 2018 Comunicacion - Informe...          3\n",
       "11  Enfermeria ambulatoria Comunicacion - Informe ...          1\n",
       "12  GES I Comunicacion - Informe auditoría Notific...          4\n",
       "13  GES II Comunicacion - INFORME FINAL AUDITORIA ...          3\n",
       "14  Gestion pacientes Comunicacion - INFORME AUDIT...          1\n",
       "15  Piloto herramienta CALI - Informe de Revisión ...          2\n",
       "16  Poli Comunicacion - 30 nov Informe Final Audit...          1\n",
       "17  Reg Enfermeria Comunicacion - Informe de Audit...          2\n",
       "18  Reg Medico Comunicacion - INFORME AUDITORIA DE...          3\n",
       "19  ISP Drogueria Comunicacion - Informe de Audito...          2"
      ]
     },
     "execution_count": 16,
     "metadata": {},
     "output_type": "execute_result"
    }
   ],
   "source": [
    "df"
   ]
  },
  {
   "cell_type": "markdown",
   "metadata": {},
   "source": [
    "## Guardar archivo en csv"
   ]
  },
  {
   "cell_type": "code",
   "execution_count": 15,
   "metadata": {},
   "outputs": [],
   "source": [
    "output_path = 'C:/projects/data_lake/data/output/current/direccion_salud/'\n",
    "nombre_archivo = 'resultados_contraloria_med.csv'\n",
    "\n",
    "df.to_csv(output_path + datetime.now().strftime('%Y%m%d') + '_' + nombre_archivo, sep = ';')"
   ]
  }
 ],
 "metadata": {
  "kernelspec": {
   "display_name": "Python 3",
   "language": "python",
   "name": "python3"
  },
  "language_info": {
   "codemirror_mode": {
    "name": "ipython",
    "version": 3
   },
   "file_extension": ".py",
   "mimetype": "text/x-python",
   "name": "python",
   "nbconvert_exporter": "python",
   "pygments_lexer": "ipython3",
   "version": "3.7.4"
  }
 },
 "nbformat": 4,
 "nbformat_minor": 4
}
