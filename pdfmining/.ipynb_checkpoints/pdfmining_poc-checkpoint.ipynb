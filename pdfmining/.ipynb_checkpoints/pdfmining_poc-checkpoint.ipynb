{
 "cells": [
  {
   "cell_type": "code",
   "execution_count": null,
   "metadata": {},
   "outputs": [],
   "source": [
    "import tabula as tb\n",
    "import PyPDF2 as pypdf2\n",
    "import pandas as pd\n",
    "import numpy as np\n",
    "import glob"
   ]
  },
  {
   "cell_type": "code",
   "execution_count": null,
   "metadata": {},
   "outputs": [],
   "source": [
    "def pdf_to_df(path, group, society, month, from_page=2):\n",
    "\n",
    "    df_list = []\n",
    "    all_files = pd.Series(glob.glob(path + \"\\\\*.pdf\"))\n",
    "\n",
    "    pattern = group + '_' + society + month\n",
    "    files_list = all_files[\n",
    "        all_files.astype(str).str.contains(pattern)].tolist()\n",
    "    print(files_list)\n",
    "    \n",
    "    for file in files_list:\n",
    "        \n",
    "        with open(file, \"rb\") as pdf_file:\n",
    "            \n",
    "            pdf_reader = pypdf2.PdfFileReader(pdf_file)\n",
    "            to_page = pdf_reader.numPages\n",
    "        \n",
    "        if to_page > 2 :\n",
    "\n",
    "            dfs = tb.read_pdf(\n",
    "                file,\n",
    "                pages=np.arange(from_page, to_page+1).tolist(),\n",
    "                multiple_tables=True,\n",
    "                stream=True)\n",
    "        else:\n",
    "            \n",
    "            dfs = tb.read_pdf(\n",
    "                file,\n",
    "                pages=2,\n",
    "                multiple_tables=True,\n",
    "                stream=True)\n",
    "            \n",
    "        \n",
    "        aux_df = pd.concat(dfs)\n",
    "        df_list.append(aux_df)\n",
    "        \n",
    "    df = pd.concat(df_list)\n",
    "    \n",
    "    return df\n",
    "    \n",
    "    \n",
    "def anti_join(x, y, on):\n",
    "    \"\"\"Return rows in x which are not present in y\"\"\"\n",
    "    ans = pd.merge(left=x, right=y, how='left', indicator=True, on=on)\n",
    "    ans = ans.loc[ans._merge == 'left_only', :].drop(columns='_merge')\n",
    "    return ans"
   ]
  },
  {
   "cell_type": "code",
   "execution_count": null,
   "metadata": {},
   "outputs": [],
   "source": [
    "path = \"C:/projects/pdf_mining/data\"\n",
    "groups = ['at', 'co', 'hc', 'la', 'li', 'po', 'pu']\n",
    "societies = ['cli', 'diag', 'lab', 'cem', 'hos', 'ima', 'rad', 'res', 'reg']\n",
    "months = ['1', '2', '3', '4', '5', '6', '7', '8']"
   ]
  },
  {
   "cell_type": "code",
   "execution_count": null,
   "metadata": {},
   "outputs": [],
   "source": [
    "df_list = []\n",
    "\n",
    "for group in groups:\n",
    "    for society in societies:\n",
    "        for month in months:            \n",
    "                        \n",
    "            try:\n",
    "                \n",
    "                aux_df = pdf_to_df(path, group, society, month)\n",
    "    \n",
    "                # cambiar el el nombre de columnas\n",
    "                new_header = aux_df.iloc[0]\n",
    "                aux1_df = aux_df.iloc[1:]\n",
    "                aux1_df.columns = new_header\n",
    "\n",
    "                aux2_df = aux1_df[aux1_df['RUT'].notna()].copy()\n",
    "                aux2_df = aux2_df[aux2_df['RUT']!='RUT'].copy().reset_index(drop=True)\n",
    "                aux2_df.reset_index(drop=True, inplace=True)\n",
    "\n",
    "                # Se agregan columnas de grupo y sociedad\n",
    "                aux2_df['grupo'] = group\n",
    "                aux2_df['mes'] = month\n",
    "                aux2_df['sociedad'] = society\n",
    "\n",
    "                # Se le quita el '.' al 'RUT'\n",
    "                aux2_df['RUT'] = aux2_df['RUT'].apply(lambda x: x.replace('.',''))\n",
    "                aux2_df['Remuneración'] = aux2_df['Remuneración'].apply(lambda x: x.replace('.',''))\n",
    "\n",
    "\n",
    "                df_list.append(aux2_df)\n",
    "                \n",
    "                print(group + '_' + society + month)\n",
    "            \n",
    "            except:\n",
    "                \n",
    "                print('no existe el archivo %s_%s%s' % (group, society, month))\n",
    "\n",
    "\n",
    "df = pd.concat(df_list)"
   ]
  },
  {
   "cell_type": "code",
   "execution_count": null,
   "metadata": {},
   "outputs": [],
   "source": [
    "df.to_csv('raw_data2.csv', index=False, sep=';')"
   ]
  },
  {
   "cell_type": "code",
   "execution_count": null,
   "metadata": {},
   "outputs": [],
   "source": []
  }
 ],
 "metadata": {
  "kernelspec": {
   "display_name": "Python 3",
   "language": "python",
   "name": "python3"
  },
  "language_info": {
   "codemirror_mode": {
    "name": "ipython",
    "version": 3
   },
   "file_extension": ".py",
   "mimetype": "text/x-python",
   "name": "python",
   "nbconvert_exporter": "python",
   "pygments_lexer": "ipython3",
   "version": "3.7.4"
  }
 },
 "nbformat": 4,
 "nbformat_minor": 4
}
