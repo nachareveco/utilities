{
 "cells": [
  {
   "cell_type": "markdown",
   "metadata": {},
   "source": [
    "# Web Scrapping: Superintendencia de Salud"
   ]
  },
  {
   "cell_type": "markdown",
   "metadata": {},
   "source": [
    "## Importar librerías"
   ]
  },
  {
   "cell_type": "code",
   "execution_count": 1,
   "metadata": {},
   "outputs": [],
   "source": [
    "import pandas as pd\n",
    "from scrapy import Selector\n",
    "import requests\n",
    "from datetime import datetime, timedelta"
   ]
  },
  {
   "cell_type": "markdown",
   "metadata": {},
   "source": [
    "## Cargar códigos html de las páginas a utilizar"
   ]
  },
  {
   "cell_type": "code",
   "execution_count": 2,
   "metadata": {},
   "outputs": [],
   "source": [
    "html_circ_interna = requests.get('http://www.supersalud.gob.cl/normativa/668/w3-propertyvalue-6258.html').content\n",
    "html_resoluciones = requests.get('http://www.supersalud.gob.cl/normativa/668/w3-propertyvalue-6259.html').content\n",
    "html_oficio_circ = requests.get('http://www.supersalud.gob.cl/normativa/668/w3-propertyvalue-6260.html').content"
   ]
  },
  {
   "cell_type": "markdown",
   "metadata": {},
   "source": [
    "### Crear selectors para después buscar la información"
   ]
  },
  {
   "cell_type": "code",
   "execution_count": 3,
   "metadata": {},
   "outputs": [],
   "source": [
    "sel_ci = Selector(text = html_circ_interna)\n",
    "sel_r = Selector(text = html_resoluciones)\n",
    "sel_oc = Selector(text = html_oficio_circ)"
   ]
  },
  {
   "cell_type": "markdown",
   "metadata": {},
   "source": [
    "## Búsqueda de información"
   ]
  },
  {
   "cell_type": "markdown",
   "metadata": {},
   "source": [
    "### Lista de fechas"
   ]
  },
  {
   "cell_type": "markdown",
   "metadata": {},
   "source": [
    "En la siguiente línea de código se busca el tag \"td\" que contenga como clase \"fecha-publicacion\"  en todo el código y se extrae el texto asociado."
   ]
  },
  {
   "cell_type": "code",
   "execution_count": 4,
   "metadata": {},
   "outputs": [],
   "source": [
    "fechas_ci = sel_ci.xpath('//td[contains(@class,\"fecha-publicacion\")]/text()').extract()\n",
    "fechas_r = sel_r.xpath('//td[contains(@class,\"fecha-publicacion\")]/text()').extract()\n",
    "fechas_oc = sel_oc.xpath('//td[contains(@class,\"fecha-publicacion\")]/text()').extract()"
   ]
  },
  {
   "cell_type": "markdown",
   "metadata": {},
   "source": [
    "### Lista Títulos"
   ]
  },
  {
   "cell_type": "markdown",
   "metadata": {},
   "source": [
    "En la siguiente línea de código se busca en todos los tag td que tengan como \"hijo\" un tag span con la clase \"td_30_porciento titulo-principal\" y este a su vez, tenga asociado un hipervículo del cual se extrae el título que tiene asociado."
   ]
  },
  {
   "cell_type": "code",
   "execution_count": 5,
   "metadata": {},
   "outputs": [],
   "source": [
    "titulos_ci = sel_ci.xpath('//td/span[contains(@class, \"td_30_porciento titulo-principal\")]/a/text()').extract()\n",
    "titulos_r = sel_r.xpath('//td/span[contains(@class, \"td_30_porciento titulo-principal\")]/a/text()').extract()\n",
    "titulos_oc = sel_oc.xpath('//td/span[contains(@class, \"td_30_porciento titulo-principal\")]/a/text()').extract()"
   ]
  },
  {
   "cell_type": "markdown",
   "metadata": {},
   "source": [
    "### Lista con descripción"
   ]
  },
  {
   "cell_type": "markdown",
   "metadata": {},
   "source": [
    "En la siguiente línea de código se busca el tag \"span\" que contenga como clase \"fecha-publicacion\" en todo el código y se extrae el texto asociado."
   ]
  },
  {
   "cell_type": "code",
   "execution_count": 6,
   "metadata": {},
   "outputs": [],
   "source": [
    "descripcion_ci = sel_ci.xpath('//span[contains(@class,\"td_30_porciento resumen-modificaciones\")]/text()').extract()\n",
    "descripcion_r = sel_r.xpath('//span[contains(@class,\"td_30_porciento resumen-modificaciones\")]/text()').extract()\n",
    "descripcion_oc = sel_oc.xpath('//span[contains(@class,\"td_30_porciento resumen-modificaciones\")]/text()').extract()"
   ]
  },
  {
   "cell_type": "markdown",
   "metadata": {},
   "source": [
    "### Lista con links"
   ]
  },
  {
   "cell_type": "markdown",
   "metadata": {},
   "source": [
    "En la siguiente línea de código se busca en todos los tag td que tengan como \"hijo\" un tag span con la clase \"td_20_porciento cid-19\" y este a su vez, tenga asociado un hipervículo el cual se extrae."
   ]
  },
  {
   "cell_type": "code",
   "execution_count": 7,
   "metadata": {},
   "outputs": [],
   "source": [
    "links_ci = sel_ci.xpath('//td/span[contains(@class, \"td_20_porciento cid-19\")]/a/@href').extract()"
   ]
  },
  {
   "cell_type": "code",
   "execution_count": 8,
   "metadata": {},
   "outputs": [],
   "source": [
    "url_circ_internas = []\n",
    "\n",
    "for i in links_ci:\n",
    "    url = 'http://www.supersalud.gob.cl/normativa/668/'+i\n",
    "    url_circ_internas.append(url)"
   ]
  },
  {
   "cell_type": "code",
   "execution_count": 9,
   "metadata": {},
   "outputs": [],
   "source": [
    "links_r = sel_r.xpath('//td/span[contains(@class, \"td_20_porciento cid-19\")]/a/@href').extract()"
   ]
  },
  {
   "cell_type": "code",
   "execution_count": 10,
   "metadata": {},
   "outputs": [],
   "source": [
    "url_resoluciones = []\n",
    "\n",
    "for i in links_r:\n",
    "    url = 'http://www.supersalud.gob.cl/normativa/668/'+i\n",
    "    url_resoluciones.append(url)"
   ]
  },
  {
   "cell_type": "code",
   "execution_count": 11,
   "metadata": {},
   "outputs": [],
   "source": [
    "links_oc = sel_oc.xpath('//td/span[contains(@class, \"td_20_porciento cid-19\")]/a/@href').extract()"
   ]
  },
  {
   "cell_type": "code",
   "execution_count": 12,
   "metadata": {},
   "outputs": [],
   "source": [
    "url_oficio_circ = []\n",
    "\n",
    "for i in links_oc:\n",
    "    url = 'http://www.supersalud.gob.cl/normativa/668/'+i\n",
    "    url_oficio_circ.append(url)"
   ]
  },
  {
   "cell_type": "markdown",
   "metadata": {},
   "source": [
    "## Almacenar información obtenida y agregar formatos"
   ]
  },
  {
   "cell_type": "code",
   "execution_count": 13,
   "metadata": {},
   "outputs": [],
   "source": [
    "df_circ_internas = pd.DataFrame({'Fecha Publicación' : fechas_ci, 'Título' : titulos_ci, 'Descripción' : descripcion_ci, 'Link': url_circ_internas})\n",
    "\n",
    "#Agregamos formato fecha a la columna \"Fecha Publicación\"\n",
    "df_circ_internas['Fecha Publicación'] = pd.to_datetime(df_circ_internas['Fecha Publicación'])\n",
    "\n",
    "#Quitamos \"/\" de los títulos y reemplazamos por \" \"\n",
    "df_circ_internas['Título'] = df_circ_internas['Título'].str.replace('/',' ')"
   ]
  },
  {
   "cell_type": "code",
   "execution_count": 14,
   "metadata": {},
   "outputs": [],
   "source": [
    "df_resoluciones = pd.DataFrame({'Fecha Publicación' : fechas_r, 'Título' : titulos_r, 'Descripción' : descripcion_r, 'Link': url_resoluciones})\n",
    "\n",
    "#Agregamos formato fecha a la columna \"Fecha Publicación\"\n",
    "df_resoluciones['Fecha Publicación'] = pd.to_datetime(df_resoluciones['Fecha Publicación'])\n",
    "\n",
    "#Quitamos \"/\" de los títulos y reemplazamos por \" \"\n",
    "df_resoluciones['Título'] = df_resoluciones['Título'].str.replace('/',' ')"
   ]
  },
  {
   "cell_type": "code",
   "execution_count": 15,
   "metadata": {},
   "outputs": [],
   "source": [
    "df_oficio_circ = pd.DataFrame({'Fecha Publicación' : fechas_oc, 'Título' : titulos_oc, 'Descripción' : descripcion_oc, 'Link': url_oficio_circ})\n",
    "\n",
    "#Agregamos formato fecha a la columna \"Fecha Publicación\"\n",
    "df_oficio_circ['Fecha Publicación'] = pd.to_datetime(df_oficio_circ['Fecha Publicación'])\n",
    "\n",
    "#Quitamos \"/\" de los títulos y reemplazamos por \" \"\n",
    "df_oficio_circ['Título'] = df_oficio_circ['Título'].str.replace('/',' ')"
   ]
  },
  {
   "cell_type": "markdown",
   "metadata": {},
   "source": [
    "## Filtrar novedades"
   ]
  },
  {
   "cell_type": "code",
   "execution_count": 16,
   "metadata": {},
   "outputs": [],
   "source": [
    "novedad = datetime.now() - timedelta(days=30)"
   ]
  },
  {
   "cell_type": "markdown",
   "metadata": {},
   "source": [
    "### Circulares internas"
   ]
  },
  {
   "cell_type": "code",
   "execution_count": 17,
   "metadata": {
    "scrolled": true
   },
   "outputs": [
    {
     "data": {
      "text/html": [
       "<div>\n",
       "<style scoped>\n",
       "    .dataframe tbody tr th:only-of-type {\n",
       "        vertical-align: middle;\n",
       "    }\n",
       "\n",
       "    .dataframe tbody tr th {\n",
       "        vertical-align: top;\n",
       "    }\n",
       "\n",
       "    .dataframe thead th {\n",
       "        text-align: right;\n",
       "    }\n",
       "</style>\n",
       "<table border=\"1\" class=\"dataframe\">\n",
       "  <thead>\n",
       "    <tr style=\"text-align: right;\">\n",
       "      <th></th>\n",
       "      <th>Fecha Publicación</th>\n",
       "      <th>Título</th>\n",
       "      <th>Descripción</th>\n",
       "      <th>Link</th>\n",
       "    </tr>\n",
       "  </thead>\n",
       "  <tbody>\n",
       "  </tbody>\n",
       "</table>\n",
       "</div>"
      ],
      "text/plain": [
       "Empty DataFrame\n",
       "Columns: [Fecha Publicación, Título, Descripción, Link]\n",
       "Index: []"
      ]
     },
     "execution_count": 17,
     "metadata": {},
     "output_type": "execute_result"
    }
   ],
   "source": [
    "df_circ_internas_novedad = df_circ_internas.loc[(df_circ_internas['Fecha Publicación']>=novedad)]\n",
    "df_circ_internas_novedad"
   ]
  },
  {
   "cell_type": "code",
   "execution_count": 18,
   "metadata": {},
   "outputs": [],
   "source": [
    "link_circ_internas_novedad = df_circ_internas_novedad['Link']\n",
    "titulos_circ_internas_novedad = df_circ_internas_novedad['Título'].str.replace(' ','')"
   ]
  },
  {
   "cell_type": "markdown",
   "metadata": {},
   "source": [
    "### Resoluciones"
   ]
  },
  {
   "cell_type": "code",
   "execution_count": 19,
   "metadata": {
    "scrolled": true
   },
   "outputs": [
    {
     "data": {
      "text/html": [
       "<div>\n",
       "<style scoped>\n",
       "    .dataframe tbody tr th:only-of-type {\n",
       "        vertical-align: middle;\n",
       "    }\n",
       "\n",
       "    .dataframe tbody tr th {\n",
       "        vertical-align: top;\n",
       "    }\n",
       "\n",
       "    .dataframe thead th {\n",
       "        text-align: right;\n",
       "    }\n",
       "</style>\n",
       "<table border=\"1\" class=\"dataframe\">\n",
       "  <thead>\n",
       "    <tr style=\"text-align: right;\">\n",
       "      <th></th>\n",
       "      <th>Fecha Publicación</th>\n",
       "      <th>Título</th>\n",
       "      <th>Descripción</th>\n",
       "      <th>Link</th>\n",
       "    </tr>\n",
       "  </thead>\n",
       "  <tbody>\n",
       "    <tr>\n",
       "      <th>0</th>\n",
       "      <td>2020-09-17</td>\n",
       "      <td>Resolución Exenta IP N° 3709</td>\n",
       "      <td>Resolución que ordena inscribir en el Registro...</td>\n",
       "      <td>http://www.supersalud.gob.cl/normativa/668/art...</td>\n",
       "    </tr>\n",
       "    <tr>\n",
       "      <th>15</th>\n",
       "      <td>2020-09-06</td>\n",
       "      <td>Resolución Exenta IP N° 1956</td>\n",
       "      <td>Resolución que ordena mantener con el N°228 en...</td>\n",
       "      <td>http://www.supersalud.gob.cl/normativa/668/art...</td>\n",
       "    </tr>\n",
       "    <tr>\n",
       "      <th>16</th>\n",
       "      <td>2020-09-06</td>\n",
       "      <td>Resolución Exenta IP N° 1955</td>\n",
       "      <td>Resolución que ordena inscribir en el Registro...</td>\n",
       "      <td>http://www.supersalud.gob.cl/normativa/668/art...</td>\n",
       "    </tr>\n",
       "    <tr>\n",
       "      <th>17</th>\n",
       "      <td>2020-09-06</td>\n",
       "      <td>Resolución Exenta IP N° 1942</td>\n",
       "      <td>Resolución que ordena inscribir en el Registro...</td>\n",
       "      <td>http://www.supersalud.gob.cl/normativa/668/art...</td>\n",
       "    </tr>\n",
       "    <tr>\n",
       "      <th>31</th>\n",
       "      <td>2020-12-05</td>\n",
       "      <td>Resolución Exenta IP N° 1656</td>\n",
       "      <td>Resolución que ordena inscribir en el Registro...</td>\n",
       "      <td>http://www.supersalud.gob.cl/normativa/668/art...</td>\n",
       "    </tr>\n",
       "    <tr>\n",
       "      <th>32</th>\n",
       "      <td>2020-12-05</td>\n",
       "      <td>Resolución Exenta IP N° 1655</td>\n",
       "      <td>Resolución que ordena inscribir en el Registro...</td>\n",
       "      <td>http://www.supersalud.gob.cl/normativa/668/art...</td>\n",
       "    </tr>\n",
       "    <tr>\n",
       "      <th>55</th>\n",
       "      <td>2020-09-04</td>\n",
       "      <td>Resolución Exenta IP N° 1374</td>\n",
       "      <td>Resolución que ordena mantener con el N°225 en...</td>\n",
       "      <td>http://www.supersalud.gob.cl/normativa/668/art...</td>\n",
       "    </tr>\n",
       "    <tr>\n",
       "      <th>56</th>\n",
       "      <td>2020-09-04</td>\n",
       "      <td>Resolución Exenta IP N° 1371</td>\n",
       "      <td>Resolución que ordena inscribir en el Registro...</td>\n",
       "      <td>http://www.supersalud.gob.cl/normativa/668/art...</td>\n",
       "    </tr>\n",
       "    <tr>\n",
       "      <th>57</th>\n",
       "      <td>2020-09-04</td>\n",
       "      <td>Resolución Exenta IP N° 1367</td>\n",
       "      <td>Resolución que ordena inscribir en el Registro...</td>\n",
       "      <td>http://www.supersalud.gob.cl/normativa/668/art...</td>\n",
       "    </tr>\n",
       "    <tr>\n",
       "      <th>81</th>\n",
       "      <td>2020-12-03</td>\n",
       "      <td>Resolución Exenta IP N° 981</td>\n",
       "      <td>Resolución que ordena inscribir en el Registro...</td>\n",
       "      <td>http://www.supersalud.gob.cl/normativa/668/art...</td>\n",
       "    </tr>\n",
       "    <tr>\n",
       "      <th>100</th>\n",
       "      <td>2020-12-02</td>\n",
       "      <td>Resolución Exenta IP N° 635</td>\n",
       "      <td>Resolución que ordena inscribir en el Registro...</td>\n",
       "      <td>http://www.supersalud.gob.cl/normativa/668/art...</td>\n",
       "    </tr>\n",
       "    <tr>\n",
       "      <th>101</th>\n",
       "      <td>2020-12-02</td>\n",
       "      <td>Resolución Exenta IP N° 634</td>\n",
       "      <td>Resolución que ordena inscribir en el Registro...</td>\n",
       "      <td>http://www.supersalud.gob.cl/normativa/668/art...</td>\n",
       "    </tr>\n",
       "    <tr>\n",
       "      <th>102</th>\n",
       "      <td>2020-12-02</td>\n",
       "      <td>Resolución Exenta IP N° 633</td>\n",
       "      <td>Resolución que ordena inscribir en el Registro...</td>\n",
       "      <td>http://www.supersalud.gob.cl/normativa/668/art...</td>\n",
       "    </tr>\n",
       "    <tr>\n",
       "      <th>103</th>\n",
       "      <td>2020-12-02</td>\n",
       "      <td>Resolución Exenta IP N° 632</td>\n",
       "      <td>Resolución que ordena inscribir en el Registro...</td>\n",
       "      <td>http://www.supersalud.gob.cl/normativa/668/art...</td>\n",
       "    </tr>\n",
       "    <tr>\n",
       "      <th>104</th>\n",
       "      <td>2020-11-02</td>\n",
       "      <td>Resolución Exenta IP N° 621</td>\n",
       "      <td>Resolución que ordena inscribir en el Registro...</td>\n",
       "      <td>http://www.supersalud.gob.cl/normativa/668/art...</td>\n",
       "    </tr>\n",
       "    <tr>\n",
       "      <th>105</th>\n",
       "      <td>2020-11-02</td>\n",
       "      <td>Resolución Exenta IP N° 620</td>\n",
       "      <td>Resolución que ordena inscribir en el Registro...</td>\n",
       "      <td>http://www.supersalud.gob.cl/normativa/668/art...</td>\n",
       "    </tr>\n",
       "    <tr>\n",
       "      <th>106</th>\n",
       "      <td>2020-10-02</td>\n",
       "      <td>Resolución Exenta IP N° 619</td>\n",
       "      <td>Resolución que ordena inscribir en el Registro...</td>\n",
       "      <td>http://www.supersalud.gob.cl/normativa/668/art...</td>\n",
       "    </tr>\n",
       "    <tr>\n",
       "      <th>107</th>\n",
       "      <td>2020-10-02</td>\n",
       "      <td>Resolución Exenta IP N° 610</td>\n",
       "      <td>Resolución que ordena inscribir en el Registro...</td>\n",
       "      <td>http://www.supersalud.gob.cl/normativa/668/art...</td>\n",
       "    </tr>\n",
       "    <tr>\n",
       "      <th>108</th>\n",
       "      <td>2020-10-02</td>\n",
       "      <td>Resolución Exenta IP N° 608</td>\n",
       "      <td>Resolución que ordena inscribir en el Registro...</td>\n",
       "      <td>http://www.supersalud.gob.cl/normativa/668/art...</td>\n",
       "    </tr>\n",
       "    <tr>\n",
       "      <th>109</th>\n",
       "      <td>2020-10-02</td>\n",
       "      <td>Resolución Exenta IP N° 607</td>\n",
       "      <td>Resolución que ordena inscribir en el Registro...</td>\n",
       "      <td>http://www.supersalud.gob.cl/normativa/668/art...</td>\n",
       "    </tr>\n",
       "    <tr>\n",
       "      <th>128</th>\n",
       "      <td>2020-10-01</td>\n",
       "      <td>Resolución Exenta IP N° 124</td>\n",
       "      <td>Resolución que ordena modificar el nombre de f...</td>\n",
       "      <td>http://www.supersalud.gob.cl/normativa/668/art...</td>\n",
       "    </tr>\n",
       "    <tr>\n",
       "      <th>129</th>\n",
       "      <td>2020-10-01</td>\n",
       "      <td>Resolución Exenta IP N° 122</td>\n",
       "      <td>Resolución que ordena inscribir en el Registro...</td>\n",
       "      <td>http://www.supersalud.gob.cl/normativa/668/art...</td>\n",
       "    </tr>\n",
       "  </tbody>\n",
       "</table>\n",
       "</div>"
      ],
      "text/plain": [
       "    Fecha Publicación                        Título  \\\n",
       "0          2020-09-17  Resolución Exenta IP N° 3709   \n",
       "15         2020-09-06  Resolución Exenta IP N° 1956   \n",
       "16         2020-09-06  Resolución Exenta IP N° 1955   \n",
       "17         2020-09-06  Resolución Exenta IP N° 1942   \n",
       "31         2020-12-05  Resolución Exenta IP N° 1656   \n",
       "32         2020-12-05  Resolución Exenta IP N° 1655   \n",
       "55         2020-09-04  Resolución Exenta IP N° 1374   \n",
       "56         2020-09-04  Resolución Exenta IP N° 1371   \n",
       "57         2020-09-04  Resolución Exenta IP N° 1367   \n",
       "81         2020-12-03   Resolución Exenta IP N° 981   \n",
       "100        2020-12-02   Resolución Exenta IP N° 635   \n",
       "101        2020-12-02   Resolución Exenta IP N° 634   \n",
       "102        2020-12-02   Resolución Exenta IP N° 633   \n",
       "103        2020-12-02   Resolución Exenta IP N° 632   \n",
       "104        2020-11-02   Resolución Exenta IP N° 621   \n",
       "105        2020-11-02   Resolución Exenta IP N° 620   \n",
       "106        2020-10-02   Resolución Exenta IP N° 619   \n",
       "107        2020-10-02   Resolución Exenta IP N° 610   \n",
       "108        2020-10-02   Resolución Exenta IP N° 608   \n",
       "109        2020-10-02   Resolución Exenta IP N° 607   \n",
       "128        2020-10-01   Resolución Exenta IP N° 124   \n",
       "129        2020-10-01   Resolución Exenta IP N° 122   \n",
       "\n",
       "                                           Descripción  \\\n",
       "0    Resolución que ordena inscribir en el Registro...   \n",
       "15   Resolución que ordena mantener con el N°228 en...   \n",
       "16   Resolución que ordena inscribir en el Registro...   \n",
       "17   Resolución que ordena inscribir en el Registro...   \n",
       "31   Resolución que ordena inscribir en el Registro...   \n",
       "32   Resolución que ordena inscribir en el Registro...   \n",
       "55   Resolución que ordena mantener con el N°225 en...   \n",
       "56   Resolución que ordena inscribir en el Registro...   \n",
       "57   Resolución que ordena inscribir en el Registro...   \n",
       "81   Resolución que ordena inscribir en el Registro...   \n",
       "100  Resolución que ordena inscribir en el Registro...   \n",
       "101  Resolución que ordena inscribir en el Registro...   \n",
       "102  Resolución que ordena inscribir en el Registro...   \n",
       "103  Resolución que ordena inscribir en el Registro...   \n",
       "104  Resolución que ordena inscribir en el Registro...   \n",
       "105  Resolución que ordena inscribir en el Registro...   \n",
       "106  Resolución que ordena inscribir en el Registro...   \n",
       "107  Resolución que ordena inscribir en el Registro...   \n",
       "108  Resolución que ordena inscribir en el Registro...   \n",
       "109  Resolución que ordena inscribir en el Registro...   \n",
       "128  Resolución que ordena modificar el nombre de f...   \n",
       "129  Resolución que ordena inscribir en el Registro...   \n",
       "\n",
       "                                                  Link  \n",
       "0    http://www.supersalud.gob.cl/normativa/668/art...  \n",
       "15   http://www.supersalud.gob.cl/normativa/668/art...  \n",
       "16   http://www.supersalud.gob.cl/normativa/668/art...  \n",
       "17   http://www.supersalud.gob.cl/normativa/668/art...  \n",
       "31   http://www.supersalud.gob.cl/normativa/668/art...  \n",
       "32   http://www.supersalud.gob.cl/normativa/668/art...  \n",
       "55   http://www.supersalud.gob.cl/normativa/668/art...  \n",
       "56   http://www.supersalud.gob.cl/normativa/668/art...  \n",
       "57   http://www.supersalud.gob.cl/normativa/668/art...  \n",
       "81   http://www.supersalud.gob.cl/normativa/668/art...  \n",
       "100  http://www.supersalud.gob.cl/normativa/668/art...  \n",
       "101  http://www.supersalud.gob.cl/normativa/668/art...  \n",
       "102  http://www.supersalud.gob.cl/normativa/668/art...  \n",
       "103  http://www.supersalud.gob.cl/normativa/668/art...  \n",
       "104  http://www.supersalud.gob.cl/normativa/668/art...  \n",
       "105  http://www.supersalud.gob.cl/normativa/668/art...  \n",
       "106  http://www.supersalud.gob.cl/normativa/668/art...  \n",
       "107  http://www.supersalud.gob.cl/normativa/668/art...  \n",
       "108  http://www.supersalud.gob.cl/normativa/668/art...  \n",
       "109  http://www.supersalud.gob.cl/normativa/668/art...  \n",
       "128  http://www.supersalud.gob.cl/normativa/668/art...  \n",
       "129  http://www.supersalud.gob.cl/normativa/668/art...  "
      ]
     },
     "execution_count": 19,
     "metadata": {},
     "output_type": "execute_result"
    }
   ],
   "source": [
    "df_resoluciones_novedad = df_resoluciones.loc[(df_resoluciones['Fecha Publicación']>=novedad)]\n",
    "df_resoluciones_novedad"
   ]
  },
  {
   "cell_type": "code",
   "execution_count": 20,
   "metadata": {},
   "outputs": [],
   "source": [
    "link_resoluciones_novedad = df_resoluciones_novedad['Link']\n",
    "titulos_resoluciones_novedad = df_resoluciones_novedad['Título'].str.replace(' ','')"
   ]
  },
  {
   "cell_type": "markdown",
   "metadata": {},
   "source": [
    "### Oficios circulares"
   ]
  },
  {
   "cell_type": "code",
   "execution_count": 21,
   "metadata": {
    "scrolled": true
   },
   "outputs": [
    {
     "data": {
      "text/html": [
       "<div>\n",
       "<style scoped>\n",
       "    .dataframe tbody tr th:only-of-type {\n",
       "        vertical-align: middle;\n",
       "    }\n",
       "\n",
       "    .dataframe tbody tr th {\n",
       "        vertical-align: top;\n",
       "    }\n",
       "\n",
       "    .dataframe thead th {\n",
       "        text-align: right;\n",
       "    }\n",
       "</style>\n",
       "<table border=\"1\" class=\"dataframe\">\n",
       "  <thead>\n",
       "    <tr style=\"text-align: right;\">\n",
       "      <th></th>\n",
       "      <th>Fecha Publicación</th>\n",
       "      <th>Título</th>\n",
       "      <th>Descripción</th>\n",
       "      <th>Link</th>\n",
       "    </tr>\n",
       "  </thead>\n",
       "  <tbody>\n",
       "    <tr>\n",
       "      <th>5</th>\n",
       "      <td>2020-10-03</td>\n",
       "      <td>Ordinario Circular IP  N° 2</td>\n",
       "      <td>Instruye sobre el cumplimiento de la Ley N°20....</td>\n",
       "      <td>http://www.supersalud.gob.cl/normativa/668/art...</td>\n",
       "    </tr>\n",
       "  </tbody>\n",
       "</table>\n",
       "</div>"
      ],
      "text/plain": [
       "  Fecha Publicación                       Título  \\\n",
       "5        2020-10-03  Ordinario Circular IP  N° 2   \n",
       "\n",
       "                                         Descripción  \\\n",
       "5  Instruye sobre el cumplimiento de la Ley N°20....   \n",
       "\n",
       "                                                Link  \n",
       "5  http://www.supersalud.gob.cl/normativa/668/art...  "
      ]
     },
     "execution_count": 21,
     "metadata": {},
     "output_type": "execute_result"
    }
   ],
   "source": [
    "df_oficio_circ_novedad = df_oficio_circ.loc[(df_oficio_circ['Fecha Publicación']>=novedad)]\n",
    "df_oficio_circ_novedad"
   ]
  },
  {
   "cell_type": "code",
   "execution_count": 22,
   "metadata": {},
   "outputs": [],
   "source": [
    "link_oficio_circ_novedad = df_oficio_circ_novedad['Link']"
   ]
  },
  {
   "cell_type": "code",
   "execution_count": 23,
   "metadata": {},
   "outputs": [],
   "source": [
    "titulos_oficio_circ_novedad = df_oficio_circ_novedad['Título']"
   ]
  },
  {
   "cell_type": "markdown",
   "metadata": {},
   "source": [
    "## Descargar novedades"
   ]
  },
  {
   "cell_type": "markdown",
   "metadata": {},
   "source": [
    "### Rutas para almacenar la información"
   ]
  },
  {
   "cell_type": "markdown",
   "metadata": {},
   "source": [
    "**Circulares Internas**"
   ]
  },
  {
   "cell_type": "code",
   "execution_count": 24,
   "metadata": {},
   "outputs": [],
   "source": [
    "path_ci = []\n",
    "\n",
    "for i in titulos_circ_internas_novedad:\n",
    "    # La ruta escrita entre '' debe ser cambiada por quien ejecute el código.\n",
    "    path = 'C:/github/circulares'+i\n",
    "    path_ci.append(path)"
   ]
  },
  {
   "cell_type": "markdown",
   "metadata": {},
   "source": [
    "**Resoluciones**"
   ]
  },
  {
   "cell_type": "code",
   "execution_count": 25,
   "metadata": {},
   "outputs": [],
   "source": [
    "path_r = []\n",
    "\n",
    "for i in titulos_resoluciones_novedad:\n",
    "    # La ruta escrita entre '' debe ser cambiada por quien ejecute el código.\n",
    "    path = 'C:/github/resoluciones'+i\n",
    "    path_r.append(path)"
   ]
  },
  {
   "cell_type": "markdown",
   "metadata": {},
   "source": [
    "**Oficio Circular**"
   ]
  },
  {
   "cell_type": "code",
   "execution_count": 26,
   "metadata": {},
   "outputs": [],
   "source": [
    "path_oc = []\n",
    "\n",
    "for i in titulos_oficio_circ_novedad:\n",
    "    # La ruta escrita entre '' debe ser cambiada por quien ejecute el código.\n",
    "    path = 'C:/github/oficio'+i\n",
    "    path_oc.append(path)"
   ]
  },
  {
   "cell_type": "markdown",
   "metadata": {},
   "source": [
    "### Descargar archivos"
   ]
  },
  {
   "cell_type": "code",
   "execution_count": 27,
   "metadata": {},
   "outputs": [],
   "source": [
    "import wget"
   ]
  },
  {
   "cell_type": "markdown",
   "metadata": {},
   "source": [
    "**Circulares internas**"
   ]
  },
  {
   "cell_type": "code",
   "execution_count": 29,
   "metadata": {
    "scrolled": true
   },
   "outputs": [],
   "source": [
    "i = 0\n",
    "\n",
    "for url in link_circ_internas_novedad:\n",
    "    wget.download(url,path_ci[i]+'.pdf')\n",
    "    i = i + 1"
   ]
  },
  {
   "cell_type": "markdown",
   "metadata": {},
   "source": [
    "**Resoluciones**"
   ]
  },
  {
   "cell_type": "code",
   "execution_count": 30,
   "metadata": {
    "scrolled": true
   },
   "outputs": [],
   "source": [
    "i = 0\n",
    "\n",
    "for url in link_resoluciones_novedad:\n",
    "    wget.download(url,path_r[i]+'.pdf')\n",
    "    i = i + 1"
   ]
  },
  {
   "cell_type": "markdown",
   "metadata": {},
   "source": [
    "**Circulares internas**"
   ]
  },
  {
   "cell_type": "code",
   "execution_count": 31,
   "metadata": {
    "scrolled": true
   },
   "outputs": [],
   "source": [
    "i = 0\n",
    "\n",
    "for url in link_oficio_circ_novedad:\n",
    "    wget.download(url,path_oc[i]+'.pdf')\n",
    "    i = i + 1"
   ]
  },
  {
   "cell_type": "markdown",
   "metadata": {},
   "source": [
    "### Guardar DF históricos en csv"
   ]
  },
  {
   "cell_type": "code",
   "execution_count": 32,
   "metadata": {},
   "outputs": [],
   "source": [
    "output_path = 'C:/github/output_path'\n",
    "\n",
    "df_circ_internas.to_csv(output_path + 'circulares_internas' + '.csv')\n",
    "df_resoluciones.to_csv(output_path + 'resoluciones' + '.csv')\n",
    "df_oficio_circ.to_csv(output_path + 'oficio_circular' + '.csv')"
   ]
  }
 ],
 "metadata": {
  "kernelspec": {
   "display_name": "Python 3",
   "language": "python",
   "name": "python3"
  },
  "language_info": {
   "codemirror_mode": {
    "name": "ipython",
    "version": 3
   },
   "file_extension": ".py",
   "mimetype": "text/x-python",
   "name": "python",
   "nbconvert_exporter": "python",
   "pygments_lexer": "ipython3",
   "version": "3.7.4"
  }
 },
 "nbformat": 4,
 "nbformat_minor": 2
}
