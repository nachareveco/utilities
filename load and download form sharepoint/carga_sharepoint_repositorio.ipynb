{
 "cells": [
  {
   "cell_type": "markdown",
   "metadata": {},
   "source": [
    "## Importar librerías"
   ]
  },
  {
   "cell_type": "code",
   "execution_count": 41,
   "metadata": {},
   "outputs": [],
   "source": [
    "import os\n",
    "import tempfile\n",
    "\n",
    "from office365.runtime.auth.user_credential import UserCredential\n",
    "from office365.runtime.auth.client_credential import ClientCredential\n",
    "from office365.sharepoint.client_context import ClientContext"
   ]
  },
  {
   "cell_type": "markdown",
   "metadata": {},
   "source": [
    "## Utilidades"
   ]
  },
  {
   "cell_type": "code",
   "execution_count": 2,
   "metadata": {},
   "outputs": [],
   "source": [
    "def files_names(path):\n",
    "    lstFiles = []\n",
    "\n",
    "    lstDir = os.walk(path)\n",
    " \n",
    "    for root, dirs, files in lstDir:\n",
    "        for fichero in files:\n",
    "            (nombreFichero, extension) = os.path.splitext(fichero)\n",
    "            lstFiles.append(nombreFichero+extension)\n",
    "    return lstFiles\n",
    "\n",
    "def carga_sharepoint(path, lista_nombres, relativeUrl, ctx):\n",
    "    for file in lista_nombres:\n",
    "        pc_path = path + file\n",
    "            \n",
    "        with open(pc_path, 'rb') as content_file:\n",
    "            file_content = content_file.read()\n",
    "        \n",
    "        name = os.path.basename(file)\n",
    "        target_folder = ctx.web.get_folder_by_server_relative_url(relativeUrl) \n",
    "        target_file = target_folder.upload_file(name, file_content)\n",
    "        ctx.execute_query()\n",
    "        print(\"File url: {0}\".format(target_file.serverRelativeUrl))"
   ]
  },
  {
   "cell_type": "markdown",
   "metadata": {},
   "source": [
    "## Credenciales"
   ]
  },
  {
   "cell_type": "code",
   "execution_count": 3,
   "metadata": {},
   "outputs": [],
   "source": [
    "ruta = 'C:/projects/data_lake/data/'\n",
    "archivo = open(ruta+'datos.txt', 'r')\n",
    "datos =[]\n",
    "\n",
    "for linea in archivo.readlines():\n",
    "    datos.append(linea)"
   ]
  },
  {
   "cell_type": "code",
   "execution_count": 4,
   "metadata": {},
   "outputs": [],
   "source": [
    "username = datos[0].replace('\\n', '')\n",
    "password = datos[1]"
   ]
  },
  {
   "cell_type": "markdown",
   "metadata": {},
   "source": [
    "## Cargar archivos"
   ]
  },
  {
   "cell_type": "code",
   "execution_count": 43,
   "metadata": {},
   "outputs": [],
   "source": [
    "site_url = \"https://achs.sharepoint.com/teams/DatalakeAuditoria/\"\n",
    "ctx = ClientContext(site_url).with_credentials(UserCredential(username, password))"
   ]
  },
  {
   "cell_type": "markdown",
   "metadata": {},
   "source": [
    "**Código buenas prácticas de Gobierno Corporativo**"
   ]
  },
  {
   "cell_type": "code",
   "execution_count": 44,
   "metadata": {},
   "outputs": [],
   "source": [
    "# Obtener lista con los archivos en carpeta\n",
    "path = 'C:/projects/data_lake/data/input/current/achs_gob_corporativo/'\n",
    "lista = files_names(path)"
   ]
  },
  {
   "cell_type": "code",
   "execution_count": 45,
   "metadata": {},
   "outputs": [
    {
     "name": "stdout",
     "output_type": "stream",
     "text": [
      "File url: /teams/DatalakeAuditoria/Shared Documents/General/Ingesta sharepoints internos/1_Repositorio/ACHS_GC/20201112_Codigo buenas prácticas GC.pdf\n"
     ]
    }
   ],
   "source": [
    "# Cargar archivos en Sharepoint\n",
    "relativeUrl = \"Shared Documents/General/Ingesta sharepoints internos/1_Repositorio/ACHS_GC/\"\n",
    "carga_sharepoint(path, lista, relativeUrl, ctx)"
   ]
  },
  {
   "cell_type": "markdown",
   "metadata": {},
   "source": [
    "**Cambios organizacionales**"
   ]
  },
  {
   "cell_type": "code",
   "execution_count": 7,
   "metadata": {},
   "outputs": [],
   "source": [
    "# Obtener lista con los archivos en carpeta\n",
    "path = 'C:/projects/data_lake/data/input/current/cambios_org/'\n",
    "lista = files_names(path)"
   ]
  },
  {
   "cell_type": "code",
   "execution_count": 8,
   "metadata": {
    "scrolled": true
   },
   "outputs": [
    {
     "name": "stdout",
     "output_type": "stream",
     "text": [
      "File url: /teams/DatalakeAuditoria/Shared Documents/General/Ingesta sharepoints internos/1_Repositorio/Cambios organizacionales/20200127_Dotación Semanal 20200127.xlsx\n",
      "File url: /teams/DatalakeAuditoria/Shared Documents/General/Ingesta sharepoints internos/1_Repositorio/Cambios organizacionales/20200225_Dotación Semanal 20200225.xlsx\n",
      "File url: /teams/DatalakeAuditoria/Shared Documents/General/Ingesta sharepoints internos/1_Repositorio/Cambios organizacionales/20200330_Dotación Semanal 20200330.xlsx\n",
      "File url: /teams/DatalakeAuditoria/Shared Documents/General/Ingesta sharepoints internos/1_Repositorio/Cambios organizacionales/20200427_Dotación Semanal 20200427.xlsx\n",
      "File url: /teams/DatalakeAuditoria/Shared Documents/General/Ingesta sharepoints internos/1_Repositorio/Cambios organizacionales/20200525_Dotación Semanal 20200525.xlsx\n",
      "File url: /teams/DatalakeAuditoria/Shared Documents/General/Ingesta sharepoints internos/1_Repositorio/Cambios organizacionales/20200622_Dotación Semanal 20200622.xlsx\n",
      "File url: /teams/DatalakeAuditoria/Shared Documents/General/Ingesta sharepoints internos/1_Repositorio/Cambios organizacionales/20200728_Dotación Semanal 20200728.xlsx\n",
      "File url: /teams/DatalakeAuditoria/Shared Documents/General/Ingesta sharepoints internos/1_Repositorio/Cambios organizacionales/20200831_Dotación Semanal 20200831.xlsx\n",
      "File url: /teams/DatalakeAuditoria/Shared Documents/General/Ingesta sharepoints internos/1_Repositorio/Cambios organizacionales/20200928_Dotación Semanal 20200928.xlsx\n",
      "File url: /teams/DatalakeAuditoria/Shared Documents/General/Ingesta sharepoints internos/1_Repositorio/Cambios organizacionales/20201013_Dotación Semanal 20201013.xlsx\n"
     ]
    }
   ],
   "source": [
    "# Cargar archivos en Sharepoint\n",
    "relativeUrl = \"Shared Documents/General/Ingesta sharepoints internos/1_Repositorio/Cambios organizacionales/\"\n",
    "carga_sharepoint(path, lista, relativeUrl, ctx)"
   ]
  },
  {
   "cell_type": "markdown",
   "metadata": {},
   "source": [
    "**Cambios regulatorios**"
   ]
  },
  {
   "cell_type": "code",
   "execution_count": 9,
   "metadata": {},
   "outputs": [],
   "source": [
    "# Obtener lista con los archivos en carpeta\n",
    "path_ley_chile = 'C:/projects/data_lake/data/input/current/cambios_reg/Ley_Chile/'\n",
    "lista_ley_chile = files_names(path_ley_chile)\n",
    "\n",
    "path_ssalud_c = 'C:/projects/data_lake/data/input/current/cambios_reg/super_salud/circulares/'\n",
    "lista_ssalud_c = files_names(path_ssalud_c)\n",
    "\n",
    "path_ssalud_oc = 'C:/projects/data_lake/data/input/current/cambios_reg/super_salud/oficio_circular/'\n",
    "lista_ssalud_oc = files_names(path_ssalud_oc)\n",
    "\n",
    "path_ssalud_r = 'C:/projects/data_lake/data/input/current/cambios_reg/super_salud/resoluciones/'\n",
    "lista_ssalud_r = files_names(path_ssalud_r)\n",
    "\n",
    "path_suseso_c = 'C:/projects/data_lake/data/input/current/cambios_reg/suseso/circulares/'\n",
    "lista_suseso_c = files_names(path_suseso_c)\n",
    "\n",
    "path_suseso_nt = 'C:/projects/data_lake/data/input/current/cambios_reg/suseso/norm_tramite/'\n",
    "lista_suseso_nt = files_names(path_suseso_nt)"
   ]
  },
  {
   "cell_type": "code",
   "execution_count": 10,
   "metadata": {
    "scrolled": true
   },
   "outputs": [
    {
     "name": "stdout",
     "output_type": "stream",
     "text": [
      "File url: /teams/DatalakeAuditoria/Shared Documents/General/Ingesta sharepoints internos/1_Repositorio/Cambios regulatorios/Ley_Chile/20201106_Leyes_Min-Trabajo.csv\n",
      "File url: /teams/DatalakeAuditoria/Shared Documents/General/Ingesta sharepoints internos/1_Repositorio/Cambios regulatorios/Ley_Chile/20201106_Resolucion_MINSAL.csv\n",
      "File url: /teams/DatalakeAuditoria/Shared Documents/General/Ingesta sharepoints internos/1_Repositorio/Cambios regulatorios/Superintendencia_Salud/20201112_circulares_internas_SuperSalud.csv\n",
      "File url: /teams/DatalakeAuditoria/Shared Documents/General/Ingesta sharepoints internos/1_Repositorio/Cambios regulatorios/Superintendencia_Salud/20201112_oficio_circular_SuperSalud.csv\n",
      "File url: /teams/DatalakeAuditoria/Shared Documents/General/Ingesta sharepoints internos/1_Repositorio/Cambios regulatorios/Superintendencia_Salud/20201112_resoluciones_SuperSalud.csv\n",
      "File url: /teams/DatalakeAuditoria/Shared Documents/General/Ingesta sharepoints internos/1_Repositorio/Cambios regulatorios/Superintendencia_Salud/Resoluciones/ResoluciónExentaIPN°1655.pdf\n",
      "File url: /teams/DatalakeAuditoria/Shared Documents/General/Ingesta sharepoints internos/1_Repositorio/Cambios regulatorios/Superintendencia_Salud/Resoluciones/ResoluciónExentaIPN°1656.pdf\n",
      "File url: /teams/DatalakeAuditoria/Shared Documents/General/Ingesta sharepoints internos/1_Repositorio/Cambios regulatorios/Superintendencia_Salud/Resoluciones/ResoluciónExentaIPN°4330.pdf\n",
      "File url: /teams/DatalakeAuditoria/Shared Documents/General/Ingesta sharepoints internos/1_Repositorio/Cambios regulatorios/Superintendencia_Salud/Resoluciones/ResoluciónExentaIPN°620.pdf\n",
      "File url: /teams/DatalakeAuditoria/Shared Documents/General/Ingesta sharepoints internos/1_Repositorio/Cambios regulatorios/Superintendencia_Salud/Resoluciones/ResoluciónExentaIPN°621.pdf\n",
      "File url: /teams/DatalakeAuditoria/Shared Documents/General/Ingesta sharepoints internos/1_Repositorio/Cambios regulatorios/Superintendencia_Salud/Resoluciones/ResoluciónExentaIPN°632.pdf\n",
      "File url: /teams/DatalakeAuditoria/Shared Documents/General/Ingesta sharepoints internos/1_Repositorio/Cambios regulatorios/Superintendencia_Salud/Resoluciones/ResoluciónExentaIPN°633.pdf\n",
      "File url: /teams/DatalakeAuditoria/Shared Documents/General/Ingesta sharepoints internos/1_Repositorio/Cambios regulatorios/Superintendencia_Salud/Resoluciones/ResoluciónExentaIPN°634.pdf\n",
      "File url: /teams/DatalakeAuditoria/Shared Documents/General/Ingesta sharepoints internos/1_Repositorio/Cambios regulatorios/Superintendencia_Salud/Resoluciones/ResoluciónExentaIPN°635.pdf\n",
      "File url: /teams/DatalakeAuditoria/Shared Documents/General/Ingesta sharepoints internos/1_Repositorio/Cambios regulatorios/Superintendencia_Salud/Resoluciones/ResoluciónExentaIPN°981.pdf\n",
      "File url: /teams/DatalakeAuditoria/Shared Documents/General/Ingesta sharepoints internos/1_Repositorio/Cambios regulatorios/SUSESO/Normativa_tramite/119_14-10-2020_23-10-2020 .pdf\n",
      "File url: /teams/DatalakeAuditoria/Shared Documents/General/Ingesta sharepoints internos/1_Repositorio/Cambios regulatorios/SUSESO/Normativa_tramite/47_16-10-2020_30-10-2020 .pdf\n"
     ]
    }
   ],
   "source": [
    "# Cargar archivos en Sharepoint\n",
    "relativeUrl_ley = \"Shared Documents/General/Ingesta sharepoints internos/1_Repositorio/Cambios regulatorios/Ley_Chile/\"\n",
    "carga_sharepoint(path_ley_chile, lista_ley_chile, relativeUrl_ley, ctx)\n",
    "\n",
    "relativeUrl_ss_csv = \"Shared Documents/General/Ingesta sharepoints internos/1_Repositorio/Cambios regulatorios/Superintendencia_Salud/\"\n",
    "carga_sharepoint(path_ssalud_csv, lista_ssalud_csv, relativeUrl_ss_csv, ctx)\n",
    "\n",
    "relativeUrl_ss_c = \"Shared Documents/General/Ingesta sharepoints internos/1_Repositorio/Cambios regulatorios/Superintendencia_Salud/Circulares_internas/\"\n",
    "carga_sharepoint(path_ssalud_c, lista_ssalud_c, relativeUrl_ss_c, ctx)\n",
    "\n",
    "relativeUrl_ss_oc = \"Shared Documents/General/Ingesta sharepoints internos/1_Repositorio/Cambios regulatorios/Superintendencia_Salud/Oficio_Circular/\"\n",
    "carga_sharepoint(path_ssalud_oc, lista_ssalud_oc, relativeUrl_ss_oc, ctx)\n",
    "\n",
    "relativeUrl_ss_r = \"Shared Documents/General/Ingesta sharepoints internos/1_Repositorio/Cambios regulatorios/Superintendencia_Salud/Resoluciones/\"\n",
    "carga_sharepoint(path_ssalud_r, lista_ssalud_r, relativeUrl_ss_r, ctx)\n",
    "\n",
    "relativeUrl_su_c = \"Shared Documents/General/Ingesta sharepoints internos/1_Repositorio/Cambios regulatorios/SUSESO/Circulares/\"\n",
    "carga_sharepoint(path_suseso_c, lista_suseso_c, relativeUrl_su_c, ctx)\n",
    "\n",
    "relativeUrl_su_nt = \"Shared Documents/General/Ingesta sharepoints internos/1_Repositorio/Cambios regulatorios/SUSESO/Normativa_tramite/\"\n",
    "carga_sharepoint(path_suseso_nt, lista_suseso_nt, relativeUrl_su_nt, ctx)"
   ]
  },
  {
   "cell_type": "markdown",
   "metadata": {},
   "source": [
    "**Catastro banderas rojas ACFE**"
   ]
  },
  {
   "cell_type": "code",
   "execution_count": 11,
   "metadata": {},
   "outputs": [],
   "source": [
    "# Obtener lista con los archivos en carpeta\n",
    "path = 'C:/projects/data_lake/data/input/current/fraudes_acfe/'\n",
    "lista = files_names(path)"
   ]
  },
  {
   "cell_type": "code",
   "execution_count": 12,
   "metadata": {},
   "outputs": [
    {
     "name": "stdout",
     "output_type": "stream",
     "text": [
      "File url: /teams/DatalakeAuditoria/Shared Documents/General/Ingesta sharepoints internos/1_Repositorio/Catastro de fraudes y banderas rojas detectados por ACFE/Copia de Esquemas de fraude.xlsx\n",
      "File url: /teams/DatalakeAuditoria/Shared Documents/General/Ingesta sharepoints internos/1_Repositorio/Catastro de fraudes y banderas rojas detectados por ACFE/Ebook Manual de Gestión del Riesgo de Fraude Prevención Detección e Inve....pdf\n"
     ]
    }
   ],
   "source": [
    "# Cargar archivos en Sharepoint\n",
    "relativeUrl = \"Shared Documents/General/Ingesta sharepoints internos/1_Repositorio/Catastro de fraudes y banderas rojas detectados por ACFE/\"\n",
    "carga_sharepoint(path, lista, relativeUrl, ctx)"
   ]
  },
  {
   "cell_type": "markdown",
   "metadata": {},
   "source": [
    "**Dirección de Salud**"
   ]
  },
  {
   "cell_type": "code",
   "execution_count": 13,
   "metadata": {},
   "outputs": [],
   "source": [
    "# Obtener lista con los archivos en carpeta\n",
    "path = 'C:/projects/data_lake/data/input/current/direccion_salud/'\n",
    "lista = files_names(path)"
   ]
  },
  {
   "cell_type": "code",
   "execution_count": 14,
   "metadata": {
    "scrolled": true
   },
   "outputs": [
    {
     "name": "stdout",
     "output_type": "stream",
     "text": [
      "File url: /teams/DatalakeAuditoria/Shared Documents/General/Ingesta sharepoints internos/1_Repositorio/Direccion salud/Adm reposo Comunicacion - A Para revisión final  CGL  Informe_ Auditoría AR y P ET OCTUBRE 2018 A AGOSTO 2019.docx\n",
      "File url: /teams/DatalakeAuditoria/Shared Documents/General/Ingesta sharepoints internos/1_Repositorio/Direccion salud/Adm reposo Comunicacion - Informe_ Auditoría AR Enero a Septiembre 2018.pdf\n",
      "File url: /teams/DatalakeAuditoria/Shared Documents/General/Ingesta sharepoints internos/1_Repositorio/Direccion salud/Atención quirúrgica Comunicación - INFORME AUDITORÍA PROCESO ATENCIÓN QUIRUGICA HT.PDF\n",
      "File url: /teams/DatalakeAuditoria/Shared Documents/General/Ingesta sharepoints internos/1_Repositorio/Direccion salud/Cali 1T2018 Comunicacion - Informe de Auditoría a la Calificación del 1° trimestre 2018.pdf\n",
      "File url: /teams/DatalakeAuditoria/Shared Documents/General/Ingesta sharepoints internos/1_Repositorio/Direccion salud/Cali 1T2019 Comunicacion - Informe de Auditoría a la Calificación del 1er semestre 2019_05092019.pdf\n",
      "File url: /teams/DatalakeAuditoria/Shared Documents/General/Ingesta sharepoints internos/1_Repositorio/Direccion salud/Cali 2T2018 Comunicacion - Informe de Auditoría a la Calificación del 2 trimestre 2018.pdf\n",
      "File url: /teams/DatalakeAuditoria/Shared Documents/General/Ingesta sharepoints internos/1_Repositorio/Direccion salud/Cali 2T2019 Comunicación - Informe Final Auditoría Calificación 2 Semestre 2019.pdf\n",
      "File url: /teams/DatalakeAuditoria/Shared Documents/General/Ingesta sharepoints internos/1_Repositorio/Direccion salud/Cali 3T2018 Comunicacion - Informe de Auditoría a la Calificación del 3er trimestre 2018.pdf\n",
      "File url: /teams/DatalakeAuditoria/Shared Documents/General/Ingesta sharepoints internos/1_Repositorio/Direccion salud/Cali 4T2017 Comunicacion - Informe de Auditoría a la Calificación del 4 trimestre 2017.pdf\n",
      "File url: /teams/DatalakeAuditoria/Shared Documents/General/Ingesta sharepoints internos/1_Repositorio/Direccion salud/Cali 4T2018 Comunicacion - INFORME. AUDITORIA  Cali 4 T 2018_06 FEBRERO 2019.pdf\n",
      "File url: /teams/DatalakeAuditoria/Shared Documents/General/Ingesta sharepoints internos/1_Repositorio/Direccion salud/Cali acoge parcial 2018 Comunicacion - Informe de Auditoría Acoge Parcial 2018.pdf\n",
      "File url: /teams/DatalakeAuditoria/Shared Documents/General/Ingesta sharepoints internos/1_Repositorio/Direccion salud/Cali Predictor 2018 Comunicacion - Informe de Auditoría a la Calificación en relación al modelo Predictor.pdf\n",
      "File url: /teams/DatalakeAuditoria/Shared Documents/General/Ingesta sharepoints internos/1_Repositorio/Direccion salud/Calificacion EP ME Comunicacion - Informe revisión calificación EP músculo esquelético 2019_VF_ corregido.pdf\n",
      "File url: /teams/DatalakeAuditoria/Shared Documents/General/Ingesta sharepoints internos/1_Repositorio/Direccion salud/Covid19 Calificación Comunicación - AUDITORÍA COVID 19 _ FASE 2 Calificación 02072020.pdf\n",
      "File url: /teams/DatalakeAuditoria/Shared Documents/General/Ingesta sharepoints internos/1_Repositorio/Direccion salud/Covid19 Contacto estrecho Communicación - Asesoría COVID 19_ FASE A.pdf\n",
      "File url: /teams/DatalakeAuditoria/Shared Documents/General/Ingesta sharepoints internos/1_Repositorio/Direccion salud/Covid19 Gestion contactos Comunicacion - Asesoría COVID 19.pdf\n",
      "File url: /teams/DatalakeAuditoria/Shared Documents/General/Ingesta sharepoints internos/1_Repositorio/Direccion salud/Covid19 Serv medicina - Ppt final 30072020 AUDITORÍA COVID 19 _ FASE C Manejo Técnico_ consolidado.pdf\n",
      "File url: /teams/DatalakeAuditoria/Shared Documents/General/Ingesta sharepoints internos/1_Repositorio/Direccion salud/Covid19 Serv RED - ASESORIA COVID19 ATENCION EN LA RED 051020 VF.pdf\n",
      "File url: /teams/DatalakeAuditoria/Shared Documents/General/Ingesta sharepoints internos/1_Repositorio/Direccion salud/Enfermeria ambulatoria Comunicacion - Informe final de Auditoría Enfermería ambulatoria 090120.pdf\n",
      "File url: /teams/DatalakeAuditoria/Shared Documents/General/Ingesta sharepoints internos/1_Repositorio/Direccion salud/Ev incapacidad permanente Comunicacion - Asesoría al Proceso de Incapacidad Permanente.docx\n",
      "File url: /teams/DatalakeAuditoria/Shared Documents/General/Ingesta sharepoints internos/1_Repositorio/Direccion salud/GES I Comunicacion - Informe auditoría Notificación GES.pdf\n",
      "File url: /teams/DatalakeAuditoria/Shared Documents/General/Ingesta sharepoints internos/1_Repositorio/Direccion salud/GES II Comunicacion - INFORME FINAL AUDITORIA GES DIC 2018.pdf\n",
      "File url: /teams/DatalakeAuditoria/Shared Documents/General/Ingesta sharepoints internos/1_Repositorio/Direccion salud/Gestion pacientes Comunicacion - INFORME AUDITORIA GESTION DE PACIENTES AGO2019.pdf\n",
      "File url: /teams/DatalakeAuditoria/Shared Documents/General/Ingesta sharepoints internos/1_Repositorio/Direccion salud/ISP Drogueria Comunicacion - Informe de Auditoría a la Drogueria_.pdf\n",
      "File url: /teams/DatalakeAuditoria/Shared Documents/General/Ingesta sharepoints internos/1_Repositorio/Direccion salud/Piloto herramienta CALI - Informe de Revisión Piloto Auditoria CALI Oct 2017.pdf\n",
      "File url: /teams/DatalakeAuditoria/Shared Documents/General/Ingesta sharepoints internos/1_Repositorio/Direccion salud/Poli Comunicacion - 30 nov Informe Final Audit POLI EMPRESAS 2018.pdf\n",
      "File url: /teams/DatalakeAuditoria/Shared Documents/General/Ingesta sharepoints internos/1_Repositorio/Direccion salud/Reg Enfermeria Comunicacion - Informe de Auditoría Registro clínico de Enfermería HT.pdf\n",
      "File url: /teams/DatalakeAuditoria/Shared Documents/General/Ingesta sharepoints internos/1_Repositorio/Direccion salud/Reg Medico Comunicacion - INFORME AUDITORIA DE REGISTROS MEDICOS HT.pdf\n",
      "File url: /teams/DatalakeAuditoria/Shared Documents/General/Ingesta sharepoints internos/1_Repositorio/Direccion salud/Rev Oficio 6608 - INFORME REVISIÓN OFICIO ORDINARIO Nº 6608_SUSESO_DIC 2019.pdf\n"
     ]
    }
   ],
   "source": [
    "# Cargar archivos en Sharepoint\n",
    "relativeUrl = \"Shared Documents/General/Ingesta sharepoints internos/1_Repositorio/Direccion salud/\"\n",
    "carga_sharepoint(path, lista, relativeUrl, ctx)"
   ]
  },
  {
   "cell_type": "markdown",
   "metadata": {},
   "source": [
    "**Estados Financieros Emitidos**"
   ]
  },
  {
   "cell_type": "code",
   "execution_count": 15,
   "metadata": {},
   "outputs": [],
   "source": [
    "# Obtener lista con los archivos en carpeta\n",
    "path = 'C:/projects/data_lake/data/input/current/eeff_emitidos/'\n",
    "lista = files_names(path)"
   ]
  },
  {
   "cell_type": "code",
   "execution_count": 16,
   "metadata": {
    "scrolled": true
   },
   "outputs": [
    {
     "name": "stdout",
     "output_type": "stream",
     "text": [
      "File url: /teams/DatalakeAuditoria/Shared Documents/General/Ingesta sharepoints internos/1_Repositorio/EEFF emitidos/2019DiciembreInformeconsolidado.pdf\n",
      "File url: /teams/DatalakeAuditoria/Shared Documents/General/Ingesta sharepoints internos/1_Repositorio/EEFF emitidos/2019DiciembreInformeindividual.pdf\n",
      "File url: /teams/DatalakeAuditoria/Shared Documents/General/Ingesta sharepoints internos/1_Repositorio/EEFF emitidos/2019JunioInformeconsolidado.pdf\n",
      "File url: /teams/DatalakeAuditoria/Shared Documents/General/Ingesta sharepoints internos/1_Repositorio/EEFF emitidos/2019JunioInformeindividual.pdf\n",
      "File url: /teams/DatalakeAuditoria/Shared Documents/General/Ingesta sharepoints internos/1_Repositorio/EEFF emitidos/2019MarzoInformeconsolidado.pdf\n",
      "File url: /teams/DatalakeAuditoria/Shared Documents/General/Ingesta sharepoints internos/1_Repositorio/EEFF emitidos/2019MarzoInformeindividual.pdf\n",
      "File url: /teams/DatalakeAuditoria/Shared Documents/General/Ingesta sharepoints internos/1_Repositorio/EEFF emitidos/2019SeptiembreInformeconsolidado.pdf\n",
      "File url: /teams/DatalakeAuditoria/Shared Documents/General/Ingesta sharepoints internos/1_Repositorio/EEFF emitidos/2019SeptiembreInformeindividual.pdf\n",
      "File url: /teams/DatalakeAuditoria/Shared Documents/General/Ingesta sharepoints internos/1_Repositorio/EEFF emitidos/2020JunioInformeconsolidado.pdf\n",
      "File url: /teams/DatalakeAuditoria/Shared Documents/General/Ingesta sharepoints internos/1_Repositorio/EEFF emitidos/2020JunioInformeindividual.pdf\n",
      "File url: /teams/DatalakeAuditoria/Shared Documents/General/Ingesta sharepoints internos/1_Repositorio/EEFF emitidos/2020MarzoInformeconsolidado.pdf\n",
      "File url: /teams/DatalakeAuditoria/Shared Documents/General/Ingesta sharepoints internos/1_Repositorio/EEFF emitidos/2020MarzoInformeindividual.pdf\n"
     ]
    }
   ],
   "source": [
    "# Cargar archivos en Sharepoint\n",
    "relativeUrl = \"Shared Documents/General/Ingesta sharepoints internos/1_Repositorio/EEFF emitidos/\"\n",
    "carga_sharepoint(path, lista, relativeUrl, ctx)"
   ]
  },
  {
   "cell_type": "markdown",
   "metadata": {},
   "source": [
    "**Encuesta soporte colaborativo**"
   ]
  },
  {
   "cell_type": "code",
   "execution_count": 17,
   "metadata": {},
   "outputs": [],
   "source": [
    "# Obtener lista con los archivos en carpeta\n",
    "path = 'C:/projects/data_lake/data/input/current/encuesta_soporte_colaborativo/'\n",
    "lista = files_names(path)"
   ]
  },
  {
   "cell_type": "code",
   "execution_count": 18,
   "metadata": {
    "scrolled": true
   },
   "outputs": [
    {
     "name": "stdout",
     "output_type": "stream",
     "text": [
      "File url: /teams/DatalakeAuditoria/Shared Documents/General/Ingesta sharepoints internos/1_Repositorio/Encuesta soporte colaborativo/Aplicativo Soporte Colaborativo ACHS (2019-3 Diciembre) - (27012020).xlsx\n",
      "File url: /teams/DatalakeAuditoria/Shared Documents/General/Ingesta sharepoints internos/1_Repositorio/Encuesta soporte colaborativo/Aplicativo Soporte Colaborativo ACHS 1°-2019.xlsx\n",
      "File url: /teams/DatalakeAuditoria/Shared Documents/General/Ingesta sharepoints internos/1_Repositorio/Encuesta soporte colaborativo/Aplicativo Soporte Colaborativo ACHS 2°-2019.xlsx\n"
     ]
    }
   ],
   "source": [
    "# Cargar archivos en Sharepoint\n",
    "relativeUrl = \"Shared Documents/General/Ingesta sharepoints internos/1_Repositorio/Encuesta soporte colaborativo/\"\n",
    "carga_sharepoint(path, lista, relativeUrl, ctx)"
   ]
  },
  {
   "cell_type": "markdown",
   "metadata": {},
   "source": [
    "**Gestión de riesgos**"
   ]
  },
  {
   "cell_type": "code",
   "execution_count": 19,
   "metadata": {},
   "outputs": [],
   "source": [
    "# Obtener lista con los archivos en carpeta\n",
    "path = 'C:/projects/data_lake/data/input/current/gestion_riesgos/'\n",
    "lista = files_names(path)"
   ]
  },
  {
   "cell_type": "code",
   "execution_count": 20,
   "metadata": {
    "scrolled": true
   },
   "outputs": [
    {
     "name": "stdout",
     "output_type": "stream",
     "text": [
      "File url: /teams/DatalakeAuditoria/Shared Documents/General/Ingesta sharepoints internos/1_Repositorio/Gestion riesgos/MRC Accidentes Graves y Fatales 2019.xlsx\n",
      "File url: /teams/DatalakeAuditoria/Shared Documents/General/Ingesta sharepoints internos/1_Repositorio/Gestion riesgos/MRC Administración de Cambios TI 2019.xlsx\n",
      "File url: /teams/DatalakeAuditoria/Shared Documents/General/Ingesta sharepoints internos/1_Repositorio/Gestion riesgos/MRC Administración de niveles de servicios TI.xls\n",
      "File url: /teams/DatalakeAuditoria/Shared Documents/General/Ingesta sharepoints internos/1_Repositorio/Gestion riesgos/MRC Administración de Personas.xlsx\n",
      "File url: /teams/DatalakeAuditoria/Shared Documents/General/Ingesta sharepoints internos/1_Repositorio/Gestion riesgos/MRC Administración de Riesgos 2019.xlsm\n",
      "File url: /teams/DatalakeAuditoria/Shared Documents/General/Ingesta sharepoints internos/1_Repositorio/Gestion riesgos/MRC Administración del activo fijo y existencias.xlsx\n",
      "File url: /teams/DatalakeAuditoria/Shared Documents/General/Ingesta sharepoints internos/1_Repositorio/Gestion riesgos/MRC Administración del disponible e Inversiones Financieras 2019.xlsx\n",
      "File url: /teams/DatalakeAuditoria/Shared Documents/General/Ingesta sharepoints internos/1_Repositorio/Gestion riesgos/MRC Administrar la Calidad TI.xls\n",
      "File url: /teams/DatalakeAuditoria/Shared Documents/General/Ingesta sharepoints internos/1_Repositorio/Gestion riesgos/MRC Admisión Ambulatoria.xlsx\n",
      "File url: /teams/DatalakeAuditoria/Shared Documents/General/Ingesta sharepoints internos/1_Repositorio/Gestion riesgos/MRC Admisión Hospitalaria 20190703.xlsx\n",
      "File url: /teams/DatalakeAuditoria/Shared Documents/General/Ingesta sharepoints internos/1_Repositorio/Gestion riesgos/MRC Agendamiento.xlsx\n",
      "File url: /teams/DatalakeAuditoria/Shared Documents/General/Ingesta sharepoints internos/1_Repositorio/Gestion riesgos/MRC Asuntos Legales.xlsx\n",
      "File url: /teams/DatalakeAuditoria/Shared Documents/General/Ingesta sharepoints internos/1_Repositorio/Gestion riesgos/MRC Atención de Urgencia 2019.xlsx\n",
      "File url: /teams/DatalakeAuditoria/Shared Documents/General/Ingesta sharepoints internos/1_Repositorio/Gestion riesgos/MRC Atención Enfermería Ambulatoria 2019.xlsx\n",
      "File url: /teams/DatalakeAuditoria/Shared Documents/General/Ingesta sharepoints internos/1_Repositorio/Gestion riesgos/MRC Atención Enfermería Hospitalaria 2019.xlsx\n",
      "File url: /teams/DatalakeAuditoria/Shared Documents/General/Ingesta sharepoints internos/1_Repositorio/Gestion riesgos/MRC Atención Fonoaudiología.xlsm\n",
      "File url: /teams/DatalakeAuditoria/Shared Documents/General/Ingesta sharepoints internos/1_Repositorio/Gestion riesgos/MRC Atención Kinésica.xlsx\n",
      "File url: /teams/DatalakeAuditoria/Shared Documents/General/Ingesta sharepoints internos/1_Repositorio/Gestion riesgos/MRC Atención Médica Ambulatoria 2019.xlsx\n",
      "File url: /teams/DatalakeAuditoria/Shared Documents/General/Ingesta sharepoints internos/1_Repositorio/Gestion riesgos/MRC Atención Médica Hospitalaria 2019.xlsx\n",
      "File url: /teams/DatalakeAuditoria/Shared Documents/General/Ingesta sharepoints internos/1_Repositorio/Gestion riesgos/MRC Atención Médica UPC 2019.xlsx\n",
      "File url: /teams/DatalakeAuditoria/Shared Documents/General/Ingesta sharepoints internos/1_Repositorio/Gestion riesgos/MRC Atención Nutricionista.xlsm\n",
      "File url: /teams/DatalakeAuditoria/Shared Documents/General/Ingesta sharepoints internos/1_Repositorio/Gestion riesgos/MRC Atención Quirúrgica 2019.xlsx\n",
      "File url: /teams/DatalakeAuditoria/Shared Documents/General/Ingesta sharepoints internos/1_Repositorio/Gestion riesgos/MRC Atención Terapia ocupacional.xlsx\n",
      "File url: /teams/DatalakeAuditoria/Shared Documents/General/Ingesta sharepoints internos/1_Repositorio/Gestion riesgos/MRC Atención Virtual - Contact Center.xlsx\n",
      "File url: /teams/DatalakeAuditoria/Shared Documents/General/Ingesta sharepoints internos/1_Repositorio/Gestion riesgos/MRC Atención Virtual Portal 2019.xlsx\n",
      "File url: /teams/DatalakeAuditoria/Shared Documents/General/Ingesta sharepoints internos/1_Repositorio/Gestion riesgos/MRC Atracción de Talentos 2019.xlsx\n",
      "File url: /teams/DatalakeAuditoria/Shared Documents/General/Ingesta sharepoints internos/1_Repositorio/Gestion riesgos/MRC Banco de Sangre 2018.pdf\n",
      "File url: /teams/DatalakeAuditoria/Shared Documents/General/Ingesta sharepoints internos/1_Repositorio/Gestion riesgos/MRC Calificaciones Extraordinaria.xlsx\n",
      "File url: /teams/DatalakeAuditoria/Shared Documents/General/Ingesta sharepoints internos/1_Repositorio/Gestion riesgos/MRC Capacitación 2019.xlsx\n",
      "File url: /teams/DatalakeAuditoria/Shared Documents/General/Ingesta sharepoints internos/1_Repositorio/Gestion riesgos/MRC Captación 2019.xlsx\n",
      "File url: /teams/DatalakeAuditoria/Shared Documents/General/Ingesta sharepoints internos/1_Repositorio/Gestion riesgos/MRC Cobranza 2019.xlsx\n",
      "File url: /teams/DatalakeAuditoria/Shared Documents/General/Ingesta sharepoints internos/1_Repositorio/Gestion riesgos/MRC Compensación y Bienestar de Personas.xlsx\n",
      "File url: /teams/DatalakeAuditoria/Shared Documents/General/Ingesta sharepoints internos/1_Repositorio/Gestion riesgos/MRC Comunicaciones externas.XLSX\n",
      "File url: /teams/DatalakeAuditoria/Shared Documents/General/Ingesta sharepoints internos/1_Repositorio/Gestion riesgos/MRC Comunicaciones internas.xlsx\n",
      "File url: /teams/DatalakeAuditoria/Shared Documents/General/Ingesta sharepoints internos/1_Repositorio/Gestion riesgos/MRC Consultoría en Seguridad Estratégica.xlsx\n",
      "File url: /teams/DatalakeAuditoria/Shared Documents/General/Ingesta sharepoints internos/1_Repositorio/Gestion riesgos/MRC Contabilidad General.XLSX\n",
      "File url: /teams/DatalakeAuditoria/Shared Documents/General/Ingesta sharepoints internos/1_Repositorio/Gestion riesgos/MRC Contingencias Legales 2019.xlsx\n",
      "File url: /teams/DatalakeAuditoria/Shared Documents/General/Ingesta sharepoints internos/1_Repositorio/Gestion riesgos/MRC Continuidad Operacional 2019.xlsx\n",
      "File url: /teams/DatalakeAuditoria/Shared Documents/General/Ingesta sharepoints internos/1_Repositorio/Gestion riesgos/MRC Control y Gestión de Recaudación y Cotizaciones 2019.xlsx\n",
      "File url: /teams/DatalakeAuditoria/Shared Documents/General/Ingesta sharepoints internos/1_Repositorio/Gestion riesgos/MRC Control y Seguimiento Presupuestario 2019.xlsx\n",
      "File url: /teams/DatalakeAuditoria/Shared Documents/General/Ingesta sharepoints internos/1_Repositorio/Gestion riesgos/MRC Cumplimiento Normativo.xlsx\n",
      "File url: /teams/DatalakeAuditoria/Shared Documents/General/Ingesta sharepoints internos/1_Repositorio/Gestion riesgos/MRC Desafiliación 2019.xlsx\n",
      "File url: /teams/DatalakeAuditoria/Shared Documents/General/Ingesta sharepoints internos/1_Repositorio/Gestion riesgos/MRC Desarrollo interno.xlsx\n",
      "File url: /teams/DatalakeAuditoria/Shared Documents/General/Ingesta sharepoints internos/1_Repositorio/Gestion riesgos/MRC Devolución de Cotizaciones Pagadas en Exceso.xlsx\n",
      "File url: /teams/DatalakeAuditoria/Shared Documents/General/Ingesta sharepoints internos/1_Repositorio/Gestion riesgos/MRC DS67 Tasa de Cotización 2019.xlsx\n",
      "File url: /teams/DatalakeAuditoria/Shared Documents/General/Ingesta sharepoints internos/1_Repositorio/Gestion riesgos/MRC Egreso Ambulatorio.xlsx\n",
      "File url: /teams/DatalakeAuditoria/Shared Documents/General/Ingesta sharepoints internos/1_Repositorio/Gestion riesgos/MRC Egresos 2019.xlsx\n",
      "File url: /teams/DatalakeAuditoria/Shared Documents/General/Ingesta sharepoints internos/1_Repositorio/Gestion riesgos/MRC Ejecución del Trabajo.xlsx\n",
      "File url: /teams/DatalakeAuditoria/Shared Documents/General/Ingesta sharepoints internos/1_Repositorio/Gestion riesgos/MRC Estudios y Encuestas.xlsx\n",
      "File url: /teams/DatalakeAuditoria/Shared Documents/General/Ingesta sharepoints internos/1_Repositorio/Gestion riesgos/MRC Facturación 2019.xlsx\n",
      "File url: /teams/DatalakeAuditoria/Shared Documents/General/Ingesta sharepoints internos/1_Repositorio/Gestion riesgos/MRC Generación de reportes y paneles 2019.xlsx\n",
      "File url: /teams/DatalakeAuditoria/Shared Documents/General/Ingesta sharepoints internos/1_Repositorio/Gestion riesgos/MRC Generación Referencia de Indicadores 2019.xlsx\n",
      "File url: /teams/DatalakeAuditoria/Shared Documents/General/Ingesta sharepoints internos/1_Repositorio/Gestion riesgos/MRC Gestion de Inversiones.xlsm\n",
      "File url: /teams/DatalakeAuditoria/Shared Documents/General/Ingesta sharepoints internos/1_Repositorio/Gestion riesgos/MRC Gestión Auditoria Interna.xlsm\n",
      "File url: /teams/DatalakeAuditoria/Shared Documents/General/Ingesta sharepoints internos/1_Repositorio/Gestion riesgos/MRC Gestión de activo inmovilizado.xlsx\n",
      "File url: /teams/DatalakeAuditoria/Shared Documents/General/Ingesta sharepoints internos/1_Repositorio/Gestion riesgos/MRC Gestión de Calidad v2019.xlsx\n",
      "File url: /teams/DatalakeAuditoria/Shared Documents/General/Ingesta sharepoints internos/1_Repositorio/Gestion riesgos/MRC Gestión de camas 2019.xlsx\n",
      "File url: /teams/DatalakeAuditoria/Shared Documents/General/Ingesta sharepoints internos/1_Repositorio/Gestion riesgos/MRC Gestión de Compras.xlsx\n",
      "File url: /teams/DatalakeAuditoria/Shared Documents/General/Ingesta sharepoints internos/1_Repositorio/Gestion riesgos/MRC Gestión de Droguería 2019.xlsx\n",
      "File url: /teams/DatalakeAuditoria/Shared Documents/General/Ingesta sharepoints internos/1_Repositorio/Gestion riesgos/MRC Gestión de Farmacia 2019.xlsx\n",
      "File url: /teams/DatalakeAuditoria/Shared Documents/General/Ingesta sharepoints internos/1_Repositorio/Gestion riesgos/MRC Gestión de procesos y mejora continua.xlsx\n",
      "File url: /teams/DatalakeAuditoria/Shared Documents/General/Ingesta sharepoints internos/1_Repositorio/Gestion riesgos/MRC Gestión de proveedores y Contratos.xlsx\n",
      "File url: /teams/DatalakeAuditoria/Shared Documents/General/Ingesta sharepoints internos/1_Repositorio/Gestion riesgos/MRC Gestión de Requerimientos 2019.xlsx\n",
      "File url: /teams/DatalakeAuditoria/Shared Documents/General/Ingesta sharepoints internos/1_Repositorio/Gestion riesgos/MRC Gestión SPA y Policlínicos de Empresas 2018.xlsx\n",
      "File url: /teams/DatalakeAuditoria/Shared Documents/General/Ingesta sharepoints internos/1_Repositorio/Gestion riesgos/MRC Gestión y Desarrollo de Proyectos TI 2019.xlsx\n",
      "File url: /teams/DatalakeAuditoria/Shared Documents/General/Ingesta sharepoints internos/1_Repositorio/Gestion riesgos/MRC Infracciones DT.xlsx\n",
      "File url: /teams/DatalakeAuditoria/Shared Documents/General/Ingesta sharepoints internos/1_Repositorio/Gestion riesgos/MRC Ingresos 2019.xlsx\n",
      "File url: /teams/DatalakeAuditoria/Shared Documents/General/Ingesta sharepoints internos/1_Repositorio/Gestion riesgos/MRC Integración Recaudación 2019.xlsx\n",
      "File url: /teams/DatalakeAuditoria/Shared Documents/General/Ingesta sharepoints internos/1_Repositorio/Gestion riesgos/MRC Inteligencia.xlsx\n",
      "File url: /teams/DatalakeAuditoria/Shared Documents/General/Ingesta sharepoints internos/1_Repositorio/Gestion riesgos/MRC Laboratorio Higiene Industrial.xlsx\n",
      "File url: /teams/DatalakeAuditoria/Shared Documents/General/Ingesta sharepoints internos/1_Repositorio/Gestion riesgos/MRC Mantención.xlsx\n",
      "File url: /teams/DatalakeAuditoria/Shared Documents/General/Ingesta sharepoints internos/1_Repositorio/Gestion riesgos/MRC Metodología Preventiva.xlsx\n",
      "File url: /teams/DatalakeAuditoria/Shared Documents/General/Ingesta sharepoints internos/1_Repositorio/Gestion riesgos/MRC Modelo de Atención Grandes Clientes.xlsx\n",
      "File url: /teams/DatalakeAuditoria/Shared Documents/General/Ingesta sharepoints internos/1_Repositorio/Gestion riesgos/MRC Modelo de Atención Preferente.xlsx\n",
      "File url: /teams/DatalakeAuditoria/Shared Documents/General/Ingesta sharepoints internos/1_Repositorio/Gestion riesgos/MRC Modelo de Atención PYMES.xlsx\n",
      "File url: /teams/DatalakeAuditoria/Shared Documents/General/Ingesta sharepoints internos/1_Repositorio/Gestion riesgos/MRC Monitoreo y Evaluación de Servicios TI.xls\n",
      "File url: /teams/DatalakeAuditoria/Shared Documents/General/Ingesta sharepoints internos/1_Repositorio/Gestion riesgos/MRC Pago de Indemnización 2019.xlsx\n",
      "File url: /teams/DatalakeAuditoria/Shared Documents/General/Ingesta sharepoints internos/1_Repositorio/Gestion riesgos/MRC Pago de Pensiones 2019.xlsx\n",
      "File url: /teams/DatalakeAuditoria/Shared Documents/General/Ingesta sharepoints internos/1_Repositorio/Gestion riesgos/MRC Pago de Subsidios 2019.xlsx\n",
      "File url: /teams/DatalakeAuditoria/Shared Documents/General/Ingesta sharepoints internos/1_Repositorio/Gestion riesgos/MRC Planificación del Trabajo.xlsx\n",
      "File url: /teams/DatalakeAuditoria/Shared Documents/General/Ingesta sharepoints internos/1_Repositorio/Gestion riesgos/MRC Planificación y PMO Corporativo 2019.xlsx\n",
      "File url: /teams/DatalakeAuditoria/Shared Documents/General/Ingesta sharepoints internos/1_Repositorio/Gestion riesgos/MRC Prefacturación VSC 2019.xlsx\n",
      "File url: /teams/DatalakeAuditoria/Shared Documents/General/Ingesta sharepoints internos/1_Repositorio/Gestion riesgos/MRC Presupuesto VSC.xlsx\n",
      "File url: /teams/DatalakeAuditoria/Shared Documents/General/Ingesta sharepoints internos/1_Repositorio/Gestion riesgos/MRC Prevención Interna.xls\n",
      "File url: /teams/DatalakeAuditoria/Shared Documents/General/Ingesta sharepoints internos/1_Repositorio/Gestion riesgos/MRC Relación con públicos de interés y sostenibilidad.xlsx\n",
      "File url: /teams/DatalakeAuditoria/Shared Documents/General/Ingesta sharepoints internos/1_Repositorio/Gestion riesgos/MRC Rescate de Pacientes 2019.xlsx\n",
      "File url: /teams/DatalakeAuditoria/Shared Documents/General/Ingesta sharepoints internos/1_Repositorio/Gestion riesgos/MRC Reservas Técnicas 2019.xlsx\n",
      "File url: /teams/DatalakeAuditoria/Shared Documents/General/Ingesta sharepoints internos/1_Repositorio/Gestion riesgos/MRC Seguimiento de los Trabajos Realizados.xlsx\n",
      "File url: /teams/DatalakeAuditoria/Shared Documents/General/Ingesta sharepoints internos/1_Repositorio/Gestion riesgos/MRC Servicio de Beneficios para Afiliados.xlsx\n",
      "File url: /teams/DatalakeAuditoria/Shared Documents/General/Ingesta sharepoints internos/1_Repositorio/Gestion riesgos/MRC Servicios de Marketing.xlsx\n",
      "File url: /teams/DatalakeAuditoria/Shared Documents/General/Ingesta sharepoints internos/1_Repositorio/Gestion riesgos/MRC Servicios Generales 2019.xlsx\n",
      "File url: /teams/DatalakeAuditoria/Shared Documents/General/Ingesta sharepoints internos/1_Repositorio/Gestion riesgos/MRC Soporte Servicios TI 2019.xlsx\n",
      "File url: /teams/DatalakeAuditoria/Shared Documents/General/Ingesta sharepoints internos/1_Repositorio/Gestion riesgos/MRC Teleconsulta 2019.pdf\n",
      "File url: /teams/DatalakeAuditoria/Shared Documents/General/Ingesta sharepoints internos/1_Repositorio/Gestion riesgos/MRC Traslado de Pacientes 2019.xlsx\n",
      "File url: /teams/DatalakeAuditoria/Shared Documents/General/Ingesta sharepoints internos/1_Repositorio/Gestion riesgos/MRC Vigilancia Ambiental 2019.xlsx\n",
      "File url: /teams/DatalakeAuditoria/Shared Documents/General/Ingesta sharepoints internos/1_Repositorio/Gestion riesgos/MRC Vigilancia Salud 2019.xlsx\n"
     ]
    }
   ],
   "source": [
    "# Cargar archivos en Sharepoint\n",
    "relativeUrl = \"Shared Documents/General/Ingesta sharepoints internos/1_Repositorio/Gestion riesgos/\"\n",
    "carga_sharepoint(path, lista, relativeUrl, ctx)"
   ]
  },
  {
   "cell_type": "markdown",
   "metadata": {},
   "source": [
    "**SAP: Estados financieros mensuales**"
   ]
  },
  {
   "cell_type": "code",
   "execution_count": 21,
   "metadata": {},
   "outputs": [],
   "source": [
    "# Obtener lista con los archivos en carpeta\n",
    "path_balance = 'C:/projects/data_lake/data/input/current/informacion_finan_tribut_sap/eeff_mensuales/balance/'\n",
    "path_eerr = 'C:/projects/data_lake/data/input/current/informacion_finan_tribut_sap/eeff_mensuales/estado_de_resultados/'\n",
    "\n",
    "lista_balance = files_names(path_balance)\n",
    "lista_eerr = files_names(path_eerr)"
   ]
  },
  {
   "cell_type": "code",
   "execution_count": 22,
   "metadata": {
    "scrolled": true
   },
   "outputs": [
    {
     "name": "stdout",
     "output_type": "stream",
     "text": [
      "File url: /teams/DatalakeAuditoria/Shared Documents/General/Ingesta sharepoints internos/1_Repositorio/Información financiera-tributaria SAP/Estados financieros/Balance/20201104_A000.xlsx\n",
      "File url: /teams/DatalakeAuditoria/Shared Documents/General/Ingesta sharepoints internos/1_Repositorio/Información financiera-tributaria SAP/Estados financieros/Balance/20201104_Balance_Consolidado.xls\n",
      "File url: /teams/DatalakeAuditoria/Shared Documents/General/Ingesta sharepoints internos/1_Repositorio/Información financiera-tributaria SAP/Estados financieros/Balance/20201104_C200.xlsx\n",
      "File url: /teams/DatalakeAuditoria/Shared Documents/General/Ingesta sharepoints internos/1_Repositorio/Información financiera-tributaria SAP/Estados financieros/Balance/20201104_D100.xlsx\n",
      "File url: /teams/DatalakeAuditoria/Shared Documents/General/Ingesta sharepoints internos/1_Repositorio/Información financiera-tributaria SAP/Estados financieros/Balance/20201104_F200.xlsx\n",
      "File url: /teams/DatalakeAuditoria/Shared Documents/General/Ingesta sharepoints internos/1_Repositorio/Información financiera-tributaria SAP/Estados financieros/Balance/20201104_OTEC.xlsx\n",
      "File url: /teams/DatalakeAuditoria/Shared Documents/General/Ingesta sharepoints internos/1_Repositorio/Información financiera-tributaria SAP/Estados financieros/Balance/20201104_P200.xlsx\n",
      "File url: /teams/DatalakeAuditoria/Shared Documents/General/Ingesta sharepoints internos/1_Repositorio/Información financiera-tributaria SAP/Estados financieros/Balance/20201104_T200.xlsx\n",
      "File url: /teams/DatalakeAuditoria/Shared Documents/General/Ingesta sharepoints internos/1_Repositorio/Información financiera-tributaria SAP/Estados financieros/Balance/20201104_W100.xlsx\n",
      "File url: /teams/DatalakeAuditoria/Shared Documents/General/Ingesta sharepoints internos/1_Repositorio/Información financiera-tributaria SAP/Estados financieros/EERR/20201104_A000.xlsx\n",
      "File url: /teams/DatalakeAuditoria/Shared Documents/General/Ingesta sharepoints internos/1_Repositorio/Información financiera-tributaria SAP/Estados financieros/EERR/20201104_C200.xlsx\n",
      "File url: /teams/DatalakeAuditoria/Shared Documents/General/Ingesta sharepoints internos/1_Repositorio/Información financiera-tributaria SAP/Estados financieros/EERR/20201104_D100.xlsx\n",
      "File url: /teams/DatalakeAuditoria/Shared Documents/General/Ingesta sharepoints internos/1_Repositorio/Información financiera-tributaria SAP/Estados financieros/EERR/20201104_ER_Consolidado.xlsx\n",
      "File url: /teams/DatalakeAuditoria/Shared Documents/General/Ingesta sharepoints internos/1_Repositorio/Información financiera-tributaria SAP/Estados financieros/EERR/20201104_F200.xlsx\n",
      "File url: /teams/DatalakeAuditoria/Shared Documents/General/Ingesta sharepoints internos/1_Repositorio/Información financiera-tributaria SAP/Estados financieros/EERR/20201104_OTEC.xlsx\n",
      "File url: /teams/DatalakeAuditoria/Shared Documents/General/Ingesta sharepoints internos/1_Repositorio/Información financiera-tributaria SAP/Estados financieros/EERR/20201104_P200.xlsx\n",
      "File url: /teams/DatalakeAuditoria/Shared Documents/General/Ingesta sharepoints internos/1_Repositorio/Información financiera-tributaria SAP/Estados financieros/EERR/20201104_T200.xlsx\n",
      "File url: /teams/DatalakeAuditoria/Shared Documents/General/Ingesta sharepoints internos/1_Repositorio/Información financiera-tributaria SAP/Estados financieros/EERR/20201104_W100.xlsx\n"
     ]
    }
   ],
   "source": [
    "# Cargar archivos en Sharepoint\n",
    "relativeUrl_b = \"Shared Documents/General/Ingesta sharepoints internos/1_Repositorio/Información financiera-tributaria SAP/Estados financieros/Balance/\"\n",
    "carga_sharepoint(path_balance, lista_balance, relativeUrl_b, ctx)\n",
    "\n",
    "relativeUrl_er = \"Shared Documents/General/Ingesta sharepoints internos/1_Repositorio/Información financiera-tributaria SAP/Estados financieros/EERR/\"\n",
    "carga_sharepoint(path_eerr, lista_eerr, relativeUrl_er, ctx)"
   ]
  },
  {
   "cell_type": "markdown",
   "metadata": {},
   "source": [
    "**SAP: Libros de compra**"
   ]
  },
  {
   "cell_type": "code",
   "execution_count": 23,
   "metadata": {},
   "outputs": [],
   "source": [
    "# Obtener lista con los archivos en carpeta\n",
    "path = 'C:/projects/data_lake/data/input/current/informacion_finan_tribut_sap/libro_compras/'\n",
    "lista = files_names(path)"
   ]
  },
  {
   "cell_type": "code",
   "execution_count": 24,
   "metadata": {
    "scrolled": true
   },
   "outputs": [
    {
     "name": "stdout",
     "output_type": "stream",
     "text": [
      "File url: /teams/DatalakeAuditoria/Shared Documents/General/Ingesta sharepoints internos/1_Repositorio/Información financiera-tributaria SAP/Libro de compra/20201104_LCA000.txt\n",
      "File url: /teams/DatalakeAuditoria/Shared Documents/General/Ingesta sharepoints internos/1_Repositorio/Información financiera-tributaria SAP/Libro de compra/20201104_LCC200.txt\n",
      "File url: /teams/DatalakeAuditoria/Shared Documents/General/Ingesta sharepoints internos/1_Repositorio/Información financiera-tributaria SAP/Libro de compra/20201104_LCF200.txt\n",
      "File url: /teams/DatalakeAuditoria/Shared Documents/General/Ingesta sharepoints internos/1_Repositorio/Información financiera-tributaria SAP/Libro de compra/20201104_LCOTEC.txt\n",
      "File url: /teams/DatalakeAuditoria/Shared Documents/General/Ingesta sharepoints internos/1_Repositorio/Información financiera-tributaria SAP/Libro de compra/20201104_LCP200.txt\n",
      "File url: /teams/DatalakeAuditoria/Shared Documents/General/Ingesta sharepoints internos/1_Repositorio/Información financiera-tributaria SAP/Libro de compra/20201104_LCT200.txt\n"
     ]
    }
   ],
   "source": [
    "# Cargar archivos en Sharepoint\n",
    "relativeUrl = \"Shared Documents/General/Ingesta sharepoints internos/1_Repositorio/Información financiera-tributaria SAP/Libro de compra/\"\n",
    "carga_sharepoint(path, lista, relativeUrl, ctx)"
   ]
  },
  {
   "cell_type": "markdown",
   "metadata": {},
   "source": [
    "**SAP: Libros de venta**"
   ]
  },
  {
   "cell_type": "code",
   "execution_count": 25,
   "metadata": {},
   "outputs": [],
   "source": [
    "# Obtener lista con los archivos en carpeta\n",
    "path = 'C:/projects/data_lake/data/input/current/informacion_finan_tribut_sap/libro_ventas/'\n",
    "lista = files_names(path)"
   ]
  },
  {
   "cell_type": "code",
   "execution_count": 26,
   "metadata": {
    "scrolled": true
   },
   "outputs": [
    {
     "name": "stdout",
     "output_type": "stream",
     "text": [
      "File url: /teams/DatalakeAuditoria/Shared Documents/General/Ingesta sharepoints internos/1_Repositorio/Información financiera-tributaria SAP/Libro de ventas/20201104_LVA000.txt\n",
      "File url: /teams/DatalakeAuditoria/Shared Documents/General/Ingesta sharepoints internos/1_Repositorio/Información financiera-tributaria SAP/Libro de ventas/20201104_LVC200.txt\n",
      "File url: /teams/DatalakeAuditoria/Shared Documents/General/Ingesta sharepoints internos/1_Repositorio/Información financiera-tributaria SAP/Libro de ventas/20201104_LVF200.txt\n",
      "File url: /teams/DatalakeAuditoria/Shared Documents/General/Ingesta sharepoints internos/1_Repositorio/Información financiera-tributaria SAP/Libro de ventas/20201104_LVOTEC.txt\n",
      "File url: /teams/DatalakeAuditoria/Shared Documents/General/Ingesta sharepoints internos/1_Repositorio/Información financiera-tributaria SAP/Libro de ventas/20201104_LVP200.txt\n",
      "File url: /teams/DatalakeAuditoria/Shared Documents/General/Ingesta sharepoints internos/1_Repositorio/Información financiera-tributaria SAP/Libro de ventas/20201104_LVT200.txt\n"
     ]
    }
   ],
   "source": [
    "# Cargar archivos en Sharepoint\n",
    "relativeUrl = \"Shared Documents/General/Ingesta sharepoints internos/1_Repositorio/Información financiera-tributaria SAP/Libro de ventas/\"\n",
    "carga_sharepoint(path, lista, relativeUrl, ctx)"
   ]
  },
  {
   "cell_type": "markdown",
   "metadata": {},
   "source": [
    "**Nómina responsables**"
   ]
  },
  {
   "cell_type": "code",
   "execution_count": 27,
   "metadata": {},
   "outputs": [],
   "source": [
    "# Obtener lista con los archivos en carpeta\n",
    "path = 'C:/projects/data_lake/data/input/current/nomina_responsables/'\n",
    "lista = files_names(path)"
   ]
  },
  {
   "cell_type": "code",
   "execution_count": 28,
   "metadata": {
    "scrolled": false
   },
   "outputs": [
    {
     "name": "stdout",
     "output_type": "stream",
     "text": [
      "File url: /teams/DatalakeAuditoria/Shared Documents/General/Ingesta sharepoints internos/1_Repositorio/Nomina responsables/20200819 Nómina Responsables Procesos - MRC.xlsx\n",
      "File url: /teams/DatalakeAuditoria/Shared Documents/General/Ingesta sharepoints internos/1_Repositorio/Nomina responsables/20201009 Nómina Responsables Procesos - MRC.xlsx\n"
     ]
    }
   ],
   "source": [
    "# Cargar archivos en Sharepoint\n",
    "relativeUrl = \"Shared Documents/General/Ingesta sharepoints internos/1_Repositorio/Nomina responsables/\"\n",
    "carga_sharepoint(path, lista, relativeUrl, ctx)"
   ]
  },
  {
   "cell_type": "markdown",
   "metadata": {},
   "source": [
    "**MRC Pentana**"
   ]
  },
  {
   "cell_type": "code",
   "execution_count": 29,
   "metadata": {},
   "outputs": [],
   "source": [
    "# Obtener lista con los archivos en carpeta\n",
    "path = 'C:/projects/data_lake/data/input/current/pentana/mrc/'\n",
    "lista = files_names(path)"
   ]
  },
  {
   "cell_type": "code",
   "execution_count": 30,
   "metadata": {
    "scrolled": true
   },
   "outputs": [
    {
     "name": "stdout",
     "output_type": "stream",
     "text": [
      "File url: /teams/DatalakeAuditoria/Shared Documents/General/Ingesta sharepoints internos/1_Repositorio/Pentana/Matrices de riesgo/MRC ARQUEO CLINICA LOS ANDES 2020 RCR.xlsm\n",
      "File url: /teams/DatalakeAuditoria/Shared Documents/General/Ingesta sharepoints internos/1_Repositorio/Pentana/Matrices de riesgo/MRC ARQUEO HCS 2020 RCR.xlsm\n",
      "File url: /teams/DatalakeAuditoria/Shared Documents/General/Ingesta sharepoints internos/1_Repositorio/Pentana/Matrices de riesgo/MRC ATENCION DE URGENCIA 2019.xlsx\n",
      "File url: /teams/DatalakeAuditoria/Shared Documents/General/Ingesta sharepoints internos/1_Repositorio/Pentana/Matrices de riesgo/MRC ATENCION HOSPITALARIA 2019.xlsm\n",
      "File url: /teams/DatalakeAuditoria/Shared Documents/General/Ingesta sharepoints internos/1_Repositorio/Pentana/Matrices de riesgo/MRC AUDITORIA CICLO DE DESARROLLO TI 2019.xlsm\n",
      "File url: /teams/DatalakeAuditoria/Shared Documents/General/Ingesta sharepoints internos/1_Repositorio/Pentana/Matrices de riesgo/MRC AUDITORIA CLINICA ATACAMA 2020 RCR.xlsb\n",
      "File url: /teams/DatalakeAuditoria/Shared Documents/General/Ingesta sharepoints internos/1_Repositorio/Pentana/Matrices de riesgo/MRC AUDITORIA CLINICA LIRCAY 2020 RCR.xlsb\n",
      "File url: /teams/DatalakeAuditoria/Shared Documents/General/Ingesta sharepoints internos/1_Repositorio/Pentana/Matrices de riesgo/MRC AUDITORIA CLINICA LOS ANDES 2020 RCR.xlsb\n",
      "File url: /teams/DatalakeAuditoria/Shared Documents/General/Ingesta sharepoints internos/1_Repositorio/Pentana/Matrices de riesgo/MRC AUDITORIA CLINICA LOS COIHUES 2020 RCR.xlsb\n",
      "File url: /teams/DatalakeAuditoria/Shared Documents/General/Ingesta sharepoints internos/1_Repositorio/Pentana/Matrices de riesgo/MRC AUDITORIA CLINICA PORTADA 2020 RCR.xlsb\n",
      "File url: /teams/DatalakeAuditoria/Shared Documents/General/Ingesta sharepoints internos/1_Repositorio/Pentana/Matrices de riesgo/MRC AUDITORIA CLINICA PUERTO MONTT 2020 RCR.xlsb\n",
      "File url: /teams/DatalakeAuditoria/Shared Documents/General/Ingesta sharepoints internos/1_Repositorio/Pentana/Matrices de riesgo/MRC AUDITORIA HOSPITAL CLINICO DEL SUR 2020 RCR.xlsb\n",
      "File url: /teams/DatalakeAuditoria/Shared Documents/General/Ingesta sharepoints internos/1_Repositorio/Pentana/Matrices de riesgo/MRC CAPACITACION 2019.xlsm\n",
      "File url: /teams/DatalakeAuditoria/Shared Documents/General/Ingesta sharepoints internos/1_Repositorio/Pentana/Matrices de riesgo/MRC CAPTACION 2019.xlsm\n",
      "File url: /teams/DatalakeAuditoria/Shared Documents/General/Ingesta sharepoints internos/1_Repositorio/Pentana/Matrices de riesgo/MRC COBRANZA 2019.xlsm\n",
      "File url: /teams/DatalakeAuditoria/Shared Documents/General/Ingesta sharepoints internos/1_Repositorio/Pentana/Matrices de riesgo/MRC CUMPLIMIENTO 2020.xlsb\n",
      "File url: /teams/DatalakeAuditoria/Shared Documents/General/Ingesta sharepoints internos/1_Repositorio/Pentana/Matrices de riesgo/MRC CUMPLIMIENTO DE CALIDAD CLINICA LOS COIHUES 2020 RCR.xlsm\n",
      "File url: /teams/DatalakeAuditoria/Shared Documents/General/Ingesta sharepoints internos/1_Repositorio/Pentana/Matrices de riesgo/MRC ESACHS TRANSPORTE 2019.xlsm\n",
      "File url: /teams/DatalakeAuditoria/Shared Documents/General/Ingesta sharepoints internos/1_Repositorio/Pentana/Matrices de riesgo/MRC FARMACIA 2019.xlsm\n",
      "File url: /teams/DatalakeAuditoria/Shared Documents/General/Ingesta sharepoints internos/1_Repositorio/Pentana/Matrices de riesgo/MRC GESTION DE RECLAMOS 2019.xlsx\n",
      "File url: /teams/DatalakeAuditoria/Shared Documents/General/Ingesta sharepoints internos/1_Repositorio/Pentana/Matrices de riesgo/MRC GRAVES Y FATALES 2020.xlsb\n",
      "File url: /teams/DatalakeAuditoria/Shared Documents/General/Ingesta sharepoints internos/1_Repositorio/Pentana/Matrices de riesgo/MRC INFRACCIONES DE LA DT 2020.xlsb\n",
      "File url: /teams/DatalakeAuditoria/Shared Documents/General/Ingesta sharepoints internos/1_Repositorio/Pentana/Matrices de riesgo/MRC INVENTARIO MC HCS 2020 RCR.xlsb\n",
      "File url: /teams/DatalakeAuditoria/Shared Documents/General/Ingesta sharepoints internos/1_Repositorio/Pentana/Matrices de riesgo/MRC INVENTARIOS MC CLINICA LIRCAY 2020 RCR.xlsb\n",
      "File url: /teams/DatalakeAuditoria/Shared Documents/General/Ingesta sharepoints internos/1_Repositorio/Pentana/Matrices de riesgo/MRC INVENTARIOS MC CLINICA PORTADA 2020 RCR.xlsb\n",
      "File url: /teams/DatalakeAuditoria/Shared Documents/General/Ingesta sharepoints internos/1_Repositorio/Pentana/Matrices de riesgo/MRC INVENTARIOS MC CLINICA PUERTO MONTT 2020 RCR.xlsb\n",
      "File url: /teams/DatalakeAuditoria/Shared Documents/General/Ingesta sharepoints internos/1_Repositorio/Pentana/Matrices de riesgo/MRC SEGURIDAD DE LA INFORMACION 2020.xlsb\n",
      "File url: /teams/DatalakeAuditoria/Shared Documents/General/Ingesta sharepoints internos/1_Repositorio/Pentana/Matrices de riesgo/MRC SEL Y VSC 2020.xlsb\n",
      "File url: /teams/DatalakeAuditoria/Shared Documents/General/Ingesta sharepoints internos/1_Repositorio/Pentana/Matrices de riesgo/Tabla Homologación Matrices de Riesgo CONSOLIDADAS 2018.xlsx\n"
     ]
    }
   ],
   "source": [
    "# Cargar archivos en Sharepoint\n",
    "relativeUrl = \"Shared Documents/General/Ingesta sharepoints internos/1_Repositorio/Pentana/Matrices de riesgo/\"\n",
    "carga_sharepoint(path, lista, relativeUrl, ctx)"
   ]
  },
  {
   "cell_type": "markdown",
   "metadata": {},
   "source": [
    "**Políticas internas**"
   ]
  },
  {
   "cell_type": "code",
   "execution_count": 31,
   "metadata": {},
   "outputs": [],
   "source": [
    "# Obtener lista con los archivos en carpeta\n",
    "path = 'C:/projects/data_lake/data/input/current/politicas_internas/'\n",
    "lista = files_names(path)"
   ]
  },
  {
   "cell_type": "code",
   "execution_count": 32,
   "metadata": {
    "scrolled": true
   },
   "outputs": [
    {
     "name": "stdout",
     "output_type": "stream",
     "text": [
      "File url: /teams/DatalakeAuditoria/Shared Documents/General/Ingesta sharepoints internos/1_Repositorio/Politicas_internas/Codigo Buenas Practicas Comerciales ACHS.pdf\n",
      "File url: /teams/DatalakeAuditoria/Shared Documents/General/Ingesta sharepoints internos/1_Repositorio/Politicas_internas/Codigo de Buenas Practicas de Gobierno Corporativo ACHS.pdf\n",
      "File url: /teams/DatalakeAuditoria/Shared Documents/General/Ingesta sharepoints internos/1_Repositorio/Politicas_internas/Manual Cálculo y Constitución de Reservas Técnicas para Prestaciones Económicas ACHS.pdf\n",
      "File url: /teams/DatalakeAuditoria/Shared Documents/General/Ingesta sharepoints internos/1_Repositorio/Politicas_internas/Manual Cálculo y Constitución de Reservas Técnicas para Prestaciones Médicas ACHS.pdf\n",
      "File url: /teams/DatalakeAuditoria/Shared Documents/General/Ingesta sharepoints internos/1_Repositorio/Politicas_internas/Manual de Adquisiciones de Bienes y Servicios ACHS.PDF\n",
      "File url: /teams/DatalakeAuditoria/Shared Documents/General/Ingesta sharepoints internos/1_Repositorio/Politicas_internas/Manual de Control Interno ACHS.pdf\n",
      "File url: /teams/DatalakeAuditoria/Shared Documents/General/Ingesta sharepoints internos/1_Repositorio/Politicas_internas/Manual de Divulgación de Hechos Relevantes ACHS.pdf\n",
      "File url: /teams/DatalakeAuditoria/Shared Documents/General/Ingesta sharepoints internos/1_Repositorio/Politicas_internas/Manual de Gestion de Consultas y Reclamos ACHS.pdf\n",
      "File url: /teams/DatalakeAuditoria/Shared Documents/General/Ingesta sharepoints internos/1_Repositorio/Politicas_internas/Manual de Gestión de Riesgo de Crédito ACHS.pdf\n",
      "File url: /teams/DatalakeAuditoria/Shared Documents/General/Ingesta sharepoints internos/1_Repositorio/Politicas_internas/Manual de Gestión de Riesgo de Liquidez ACHS.pdf\n",
      "File url: /teams/DatalakeAuditoria/Shared Documents/General/Ingesta sharepoints internos/1_Repositorio/Politicas_internas/Manual de Gestión de Riesgo de Mercado ACHS.pdf\n",
      "File url: /teams/DatalakeAuditoria/Shared Documents/General/Ingesta sharepoints internos/1_Repositorio/Politicas_internas/Manual de Gestión de Riesgo Operacional ACHS.pdf\n",
      "File url: /teams/DatalakeAuditoria/Shared Documents/General/Ingesta sharepoints internos/1_Repositorio/Politicas_internas/Manual de Gestión de Riesgo Técnico ACHS.pdf\n",
      "File url: /teams/DatalakeAuditoria/Shared Documents/General/Ingesta sharepoints internos/1_Repositorio/Politicas_internas/Politica de Actividades Externalizadas ACHS.pdf\n",
      "File url: /teams/DatalakeAuditoria/Shared Documents/General/Ingesta sharepoints internos/1_Repositorio/Politicas_internas/Politica de Afiliacion y Mantencion de Entidades Empleadoras ACHS.pdf\n",
      "File url: /teams/DatalakeAuditoria/Shared Documents/General/Ingesta sharepoints internos/1_Repositorio/Politicas_internas/Politica de Cumplimiento Normativo ACHS.pdf\n",
      "File url: /teams/DatalakeAuditoria/Shared Documents/General/Ingesta sharepoints internos/1_Repositorio/Politicas_internas/Politica de Equidad Inclusion y Diversidad ACHS.pdf\n",
      "File url: /teams/DatalakeAuditoria/Shared Documents/General/Ingesta sharepoints internos/1_Repositorio/Politicas_internas/Politica de Gestion Integral de Riesgos ACHS.pdf\n",
      "File url: /teams/DatalakeAuditoria/Shared Documents/General/Ingesta sharepoints internos/1_Repositorio/Politicas_internas/Politica de Inversiones ACHS.pdf\n",
      "File url: /teams/DatalakeAuditoria/Shared Documents/General/Ingesta sharepoints internos/1_Repositorio/Politicas_internas/Politica de Libre Competencia ACHS.pdf\n",
      "File url: /teams/DatalakeAuditoria/Shared Documents/General/Ingesta sharepoints internos/1_Repositorio/Politicas_internas/Politica de Prevencion ACHS.pdf\n",
      "File url: /teams/DatalakeAuditoria/Shared Documents/General/Ingesta sharepoints internos/1_Repositorio/Politicas_internas/Politica de Prevencion de Fraude ACHS.pdf\n",
      "File url: /teams/DatalakeAuditoria/Shared Documents/General/Ingesta sharepoints internos/1_Repositorio/Politicas_internas/Politica de Riesgo de Credito ACHS.pdf\n",
      "File url: /teams/DatalakeAuditoria/Shared Documents/General/Ingesta sharepoints internos/1_Repositorio/Politicas_internas/Politica de Riesgo Operacional ACHS.pdf\n",
      "File url: /teams/DatalakeAuditoria/Shared Documents/General/Ingesta sharepoints internos/1_Repositorio/Politicas_internas/Politica de Riesgo Reputacional ACHS.pdf\n",
      "File url: /teams/DatalakeAuditoria/Shared Documents/General/Ingesta sharepoints internos/1_Repositorio/Politicas_internas/Politica General de Seguridad de la Informacion ACHS.pdf\n",
      "File url: /teams/DatalakeAuditoria/Shared Documents/General/Ingesta sharepoints internos/1_Repositorio/Politicas_internas/Politica Medioambiental ACHS.pdf\n",
      "File url: /teams/DatalakeAuditoria/Shared Documents/General/Ingesta sharepoints internos/1_Repositorio/Politicas_internas/Politica Riesgo Liquidez ACHS.pdf\n",
      "File url: /teams/DatalakeAuditoria/Shared Documents/General/Ingesta sharepoints internos/1_Repositorio/Politicas_internas/Politica Riesgo Mercado ACHS.pdf\n",
      "File url: /teams/DatalakeAuditoria/Shared Documents/General/Ingesta sharepoints internos/1_Repositorio/Politicas_internas/Politica Riesgo Tecnico ACHS.pdf\n",
      "File url: /teams/DatalakeAuditoria/Shared Documents/General/Ingesta sharepoints internos/1_Repositorio/Politicas_internas/Política de Adquisiciones de Bienes y Servicios ACHS.PDF\n",
      "File url: /teams/DatalakeAuditoria/Shared Documents/General/Ingesta sharepoints internos/1_Repositorio/Politicas_internas/Política de Conflicto de Interés ACHS.pdf\n",
      "File url: /teams/DatalakeAuditoria/Shared Documents/General/Ingesta sharepoints internos/1_Repositorio/Politicas_internas/Política de Continuidad Operacional ACHS.pdf\n",
      "File url: /teams/DatalakeAuditoria/Shared Documents/General/Ingesta sharepoints internos/1_Repositorio/Politicas_internas/Política de Contratación de Parientes ACHS.pdf\n",
      "File url: /teams/DatalakeAuditoria/Shared Documents/General/Ingesta sharepoints internos/1_Repositorio/Politicas_internas/Política de Prevención de Delitos sancionados por la Ley N°20.393.pdf\n",
      "File url: /teams/DatalakeAuditoria/Shared Documents/General/Ingesta sharepoints internos/1_Repositorio/Politicas_internas/Política de Riesgo Legal ACHS.pdf\n",
      "File url: /teams/DatalakeAuditoria/Shared Documents/General/Ingesta sharepoints internos/1_Repositorio/Politicas_internas/Política de Sostenibilidad.pdf\n",
      "File url: /teams/DatalakeAuditoria/Shared Documents/General/Ingesta sharepoints internos/1_Repositorio/Politicas_internas/Política Transacciones con Partes Relacionadas ACHS.pdf\n",
      "File url: /teams/DatalakeAuditoria/Shared Documents/General/Ingesta sharepoints internos/1_Repositorio/Politicas_internas/Principios y Guias de Conducta Etica ACHS.pdf\n"
     ]
    }
   ],
   "source": [
    "# Cargar archivos en Sharepoint\n",
    "relativeUrl = \"Shared Documents/General/Ingesta sharepoints internos/1_Repositorio/Politicas_internas/\"\n",
    "carga_sharepoint(path, lista, relativeUrl, ctx)"
   ]
  },
  {
   "cell_type": "markdown",
   "metadata": {},
   "source": [
    "**SAP: Proyectos tecnológicos**"
   ]
  },
  {
   "cell_type": "code",
   "execution_count": 33,
   "metadata": {},
   "outputs": [],
   "source": [
    "# Obtener lista con los archivos en carpeta\n",
    "path = 'C:/projects/data_lake/data/input/current/proyectos_tecnologicos_sap/'\n",
    "lista = files_names(path)"
   ]
  },
  {
   "cell_type": "code",
   "execution_count": 34,
   "metadata": {
    "scrolled": true
   },
   "outputs": [
    {
     "name": "stdout",
     "output_type": "stream",
     "text": [
      "File url: /teams/DatalakeAuditoria/Shared Documents/General/Ingesta sharepoints internos/1_Repositorio/Proyectos_tecnologicos_SAP/20201104_HIstorico_2020.xls\n",
      "File url: /teams/DatalakeAuditoria/Shared Documents/General/Ingesta sharepoints internos/1_Repositorio/Proyectos_tecnologicos_SAP/20201104_Proyectos_TI_2020.xlsx\n"
     ]
    }
   ],
   "source": [
    "# Cargar archivos en Sharepoint\n",
    "relativeUrl = \"Shared Documents/General/Ingesta sharepoints internos/1_Repositorio/Proyectos_tecnologicos_SAP/\"\n",
    "carga_sharepoint(path, lista, relativeUrl, ctx)"
   ]
  },
  {
   "cell_type": "markdown",
   "metadata": {},
   "source": [
    "**QA Preventivo**"
   ]
  },
  {
   "cell_type": "code",
   "execution_count": 35,
   "metadata": {},
   "outputs": [],
   "source": [
    "# Obtener lista con los archivos en carpeta\n",
    "path = 'C:/projects/data_lake/data/input/current/qa_preventivo/'\n",
    "lista = files_names(path)"
   ]
  },
  {
   "cell_type": "code",
   "execution_count": 36,
   "metadata": {
    "scrolled": true
   },
   "outputs": [
    {
     "name": "stdout",
     "output_type": "stream",
     "text": [
      "File url: /teams/DatalakeAuditoria/Shared Documents/General/Ingesta sharepoints internos/1_Repositorio/QA Preventivo/Auditoría EFA Central.xlsx\n",
      "File url: /teams/DatalakeAuditoria/Shared Documents/General/Ingesta sharepoints internos/1_Repositorio/QA Preventivo/Auditoría Informes Cualitativos Sílice.docx\n",
      "File url: /teams/DatalakeAuditoria/Shared Documents/General/Ingesta sharepoints internos/1_Repositorio/QA Preventivo/Auditoría Informes VyC Ruido-v1.docx\n",
      "File url: /teams/DatalakeAuditoria/Shared Documents/General/Ingesta sharepoints internos/1_Repositorio/QA Preventivo/Auditoría Proceso Fatales.docx\n",
      "File url: /teams/DatalakeAuditoria/Shared Documents/General/Ingesta sharepoints internos/1_Repositorio/QA Preventivo/Auditoría Proceso Graves.docx\n",
      "File url: /teams/DatalakeAuditoria/Shared Documents/General/Ingesta sharepoints internos/1_Repositorio/QA Preventivo/Auditoría Protocolo Manual de Carga (MMP).docx\n",
      "File url: /teams/DatalakeAuditoria/Shared Documents/General/Ingesta sharepoints internos/1_Repositorio/QA Preventivo/Auditoría Protocolo MMC.docx\n",
      "File url: /teams/DatalakeAuditoria/Shared Documents/General/Ingesta sharepoints internos/1_Repositorio/QA Preventivo/Auditoría Protocolo Plaguicidas V1.docx\n",
      "File url: /teams/DatalakeAuditoria/Shared Documents/General/Ingesta sharepoints internos/1_Repositorio/QA Preventivo/Auditoría Protocolo PSICOSOCIAL.docx\n",
      "File url: /teams/DatalakeAuditoria/Shared Documents/General/Ingesta sharepoints internos/1_Repositorio/QA Preventivo/Auditoría Protocolo TMERT.docx\n",
      "File url: /teams/DatalakeAuditoria/Shared Documents/General/Ingesta sharepoints internos/1_Repositorio/QA Preventivo/Evaluación QA EMPUJE-ARRASTRE.xlsx\n",
      "File url: /teams/DatalakeAuditoria/Shared Documents/General/Ingesta sharepoints internos/1_Repositorio/QA Preventivo/Evaluación QA Graves Totales.xlsx\n",
      "File url: /teams/DatalakeAuditoria/Shared Documents/General/Ingesta sharepoints internos/1_Repositorio/QA Preventivo/Evaluación QA MMC.xlsx\n",
      "File url: /teams/DatalakeAuditoria/Shared Documents/General/Ingesta sharepoints internos/1_Repositorio/QA Preventivo/Evaluación QA MMP.xlsx\n",
      "File url: /teams/DatalakeAuditoria/Shared Documents/General/Ingesta sharepoints internos/1_Repositorio/QA Preventivo/Evaluación QA Plaguicidas Red V1.xlsx\n",
      "File url: /teams/DatalakeAuditoria/Shared Documents/General/Ingesta sharepoints internos/1_Repositorio/QA Preventivo/Evaluación QA PREXOR V2.xlsx\n",
      "File url: /teams/DatalakeAuditoria/Shared Documents/General/Ingesta sharepoints internos/1_Repositorio/QA Preventivo/Evaluación QA PSICOSOCIAL V1.xlsx\n",
      "File url: /teams/DatalakeAuditoria/Shared Documents/General/Ingesta sharepoints internos/1_Repositorio/QA Preventivo/Evaluación QA TMERT.xlsx\n"
     ]
    }
   ],
   "source": [
    "# Cargar archivos en Sharepoint\n",
    "relativeUrl = \"Shared Documents/General/Ingesta sharepoints internos/1_Repositorio/QA Preventivo/\"\n",
    "carga_sharepoint(path, lista, relativeUrl, ctx)"
   ]
  },
  {
   "cell_type": "markdown",
   "metadata": {},
   "source": [
    "**Resultados Auditoría Continua**"
   ]
  },
  {
   "cell_type": "code",
   "execution_count": 37,
   "metadata": {},
   "outputs": [],
   "source": [
    "# Obtener lista con los archivos en carpeta\n",
    "path = 'C:/projects/data_lake/data/input/current/resultados_hist_aud_continua/'\n",
    "lista = files_names(path)"
   ]
  },
  {
   "cell_type": "code",
   "execution_count": 38,
   "metadata": {
    "scrolled": true
   },
   "outputs": [
    {
     "name": "stdout",
     "output_type": "stream",
     "text": [
      "File url: /teams/DatalakeAuditoria/Shared Documents/General/Ingesta sharepoints internos/1_Repositorio/Resultados históricos Aud. Continua/Monitoreo_IS.xlsx\n",
      "File url: /teams/DatalakeAuditoria/Shared Documents/General/Ingesta sharepoints internos/1_Repositorio/Resultados históricos Aud. Continua/Resultados históricos AC.xlsx\n"
     ]
    }
   ],
   "source": [
    "# Cargar archivos en Sharepoint\n",
    "relativeUrl = \"Shared Documents/General/Ingesta sharepoints internos/1_Repositorio/Resultados históricos Aud. Continua/\"\n",
    "carga_sharepoint(path, lista, relativeUrl, ctx)"
   ]
  },
  {
   "cell_type": "markdown",
   "metadata": {},
   "source": [
    "**Riesgos emergentes**"
   ]
  },
  {
   "cell_type": "code",
   "execution_count": 39,
   "metadata": {},
   "outputs": [],
   "source": [
    "# Obtener lista con los archivos en carpeta\n",
    "path = 'C:/projects/data_lake/data/input/current/riesgos_emergentes/'\n",
    "lista = files_names(path)"
   ]
  },
  {
   "cell_type": "code",
   "execution_count": 40,
   "metadata": {
    "scrolled": true
   },
   "outputs": [
    {
     "name": "stdout",
     "output_type": "stream",
     "text": [
      "File url: /teams/DatalakeAuditoria/Shared Documents/General/Ingesta sharepoints internos/1_Repositorio/Riesgos emergentes en la industria de la salud, seguros, prevision y logistica/Riesgos Emergentes.pdf\n"
     ]
    }
   ],
   "source": [
    "# Cargar archivos en Sharepoint\n",
    "relativeUrl = \"Shared Documents/General/Ingesta sharepoints internos/1_Repositorio/Riesgos emergentes en la industria de la salud, seguros, prevision y logistica/\"\n",
    "carga_sharepoint(path, lista, relativeUrl, ctx)"
   ]
  }
 ],
 "metadata": {
  "kernelspec": {
   "display_name": "Python 3",
   "language": "python",
   "name": "python3"
  },
  "language_info": {
   "codemirror_mode": {
    "name": "ipython",
    "version": 3
   },
   "file_extension": ".py",
   "mimetype": "text/x-python",
   "name": "python",
   "nbconvert_exporter": "python",
   "pygments_lexer": "ipython3",
   "version": "3.7.4"
  }
 },
 "nbformat": 4,
 "nbformat_minor": 4
}
