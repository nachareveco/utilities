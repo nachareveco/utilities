{
 "cells": [
  {
   "cell_type": "markdown",
   "metadata": {},
   "source": [
    "## Importar librerias"
   ]
  },
  {
   "cell_type": "code",
   "execution_count": 1,
   "metadata": {},
   "outputs": [],
   "source": [
    "import os\n",
    "import tempfile\n",
    "\n",
    "from office365.runtime.auth.user_credential import UserCredential\n",
    "from office365.runtime.auth.client_credential import ClientCredential\n",
    "from office365.sharepoint.client_context import ClientContext\n",
    "\n",
    "from datetime import datetime"
   ]
  },
  {
   "cell_type": "markdown",
   "metadata": {},
   "source": [
    "## Utilidades"
   ]
  },
  {
   "cell_type": "code",
   "execution_count": 2,
   "metadata": {},
   "outputs": [],
   "source": [
    "def get_folder_relativeUrl(ctx, site_url, relativeUrl):\n",
    "    \n",
    "    try:     \n",
    "        \n",
    "        libraryRoot = ctx.web.get_folder_by_server_relative_url(relativeUrl)    \n",
    "        ctx.load(libraryRoot)\n",
    "        ctx.execute_query()\n",
    "\n",
    "        folders = libraryRoot.folders\n",
    "        ctx.load(folders)\n",
    "        ctx.execute_query()\n",
    "\n",
    "        for myfolder in folders:\n",
    "            print(\"Folder name: {0}\".format(myfolder.properties[\"ServerRelativeUrl\"]))\n",
    "            printAllContents(ctx, relativeUrl + '/' + myfolder.properties[\"Name\"])\n",
    "\n",
    "        files = libraryRoot.files\n",
    "        ctx.load(files)\n",
    "        ctx.execute_query()\n",
    "\n",
    "        file_url = []\n",
    "\n",
    "        for myfile in files:\n",
    "            file_url.append(myfile.properties[\"ServerRelativeUrl\"])\n",
    "        return file_url\n",
    "\n",
    "    except:\n",
    "\n",
    "        print('Problem printing out list of folders')"
   ]
  },
  {
   "cell_type": "markdown",
   "metadata": {},
   "source": [
    "## Credenciales"
   ]
  },
  {
   "cell_type": "code",
   "execution_count": 3,
   "metadata": {},
   "outputs": [],
   "source": [
    "ruta = 'C:/projects/data_lake/data/'\n",
    "archivo = open(ruta+'datos.txt', 'r')\n",
    "datos =[]\n",
    "\n",
    "for linea in archivo.readlines():\n",
    "    datos.append(linea)"
   ]
  },
  {
   "cell_type": "code",
   "execution_count": 4,
   "metadata": {},
   "outputs": [],
   "source": [
    "username = datos[0].replace('\\n', '')\n",
    "password = datos[1]"
   ]
  },
  {
   "cell_type": "markdown",
   "metadata": {},
   "source": [
    "## Descargar archivos"
   ]
  },
  {
   "cell_type": "code",
   "execution_count": 5,
   "metadata": {},
   "outputs": [],
   "source": [
    "site_url = \"https://achs.sharepoint.com/teams/DatalakeAuditoria\"\n",
    "ctx = ClientContext(site_url).with_credentials(UserCredential(username, password))"
   ]
  },
  {
   "cell_type": "code",
   "execution_count": 6,
   "metadata": {},
   "outputs": [],
   "source": [
    "relativeUrl_ero = '/teams/DatalakeAuditoria/Shared Documents/General/Ingesta sharepoints internos/1_Repositorio/Base ERO'\n",
    "relativeUrl_cump_of = '/teams/DatalakeAuditoria/Shared Documents/General/Ingesta sharepoints internos/1_Repositorio/Cumplimiento/estado_cumplimiento_oficios_circulares'\n",
    "relativeUrl_cump_seg = '/teams/DatalakeAuditoria/Shared Documents/General/Ingesta sharepoints internos/1_Repositorio/Cumplimiento/matriz_seguimiento_planes_de_accion'\n",
    "relativeUrl_f29 = '/teams/DatalakeAuditoria/Shared Documents/General/Ingesta sharepoints internos/1_Repositorio/Formulario 29'\n",
    "relativeUrl_fisc = '/teams/DatalakeAuditoria/Shared Documents/General/Ingesta sharepoints internos/1_Repositorio/Fiscalizaciones'\n",
    "relativeUrl_ac = '/teams/DatalakeAuditoria/Shared Documents/General/Ingesta sharepoints internos/1_Repositorio/Resultados históricos Aud. Continua'"
   ]
  },
  {
   "cell_type": "code",
   "execution_count": 7,
   "metadata": {},
   "outputs": [],
   "source": [
    "fecha = datetime.now().strftime('%Y%m%d')"
   ]
  },
  {
   "cell_type": "markdown",
   "metadata": {},
   "source": [
    "**Base ERO**"
   ]
  },
  {
   "cell_type": "code",
   "execution_count": 8,
   "metadata": {},
   "outputs": [],
   "source": [
    "file_url = get_folder_relativeUrl(ctx, site_url, relativeUrl_ero)"
   ]
  },
  {
   "cell_type": "code",
   "execution_count": 9,
   "metadata": {},
   "outputs": [
    {
     "name": "stdout",
     "output_type": "stream",
     "text": [
      "[Ok] file has been downloaded: C:/projects/data_lake/data/input/current/base_ero/20201201_Formulario Online ERO 30.xlsx\n"
     ]
    }
   ],
   "source": [
    "path_ero = 'C:/projects/data_lake/data/input/current/base_ero/'\n",
    "\n",
    "for i in file_url:\n",
    "    if i.count('.') > 1:\n",
    "        ext = i[i.rfind('.'):]\n",
    "        file = i[:i.rfind('.')].replace('.', '')\n",
    "        download_path = os.path.join(path_ero, fecha + '_' + os.path.basename(file) + ext)\n",
    "        with open(download_path, \"wb\") as local_file:\n",
    "            file = ctx.web.get_file_by_server_relative_url(i).download(local_file).execute_query()\n",
    "        print(\"[Ok] file has been downloaded: {0}\".format(download_path))\n",
    "    else:\n",
    "        download_path = os.path.join(path_ero, fecha + '_' + os.path.basename(i))\n",
    "        with open(download_path, \"wb\") as local_file:\n",
    "            file = ctx.web.get_file_by_server_relative_url(i).download(local_file).execute_query()\n",
    "        print(\"[Ok] file has been downloaded: {0}\".format(download_path))"
   ]
  },
  {
   "cell_type": "markdown",
   "metadata": {},
   "source": [
    "**Cumplimiento**"
   ]
  },
  {
   "cell_type": "code",
   "execution_count": 10,
   "metadata": {},
   "outputs": [],
   "source": [
    "file_url = get_folder_relativeUrl(ctx, site_url, relativeUrl_cump_of)"
   ]
  },
  {
   "cell_type": "code",
   "execution_count": 11,
   "metadata": {},
   "outputs": [
    {
     "name": "stdout",
     "output_type": "stream",
     "text": [
      "[Ok] file has been downloaded: C:/projects/data_lake/data/input/current/cumplimiento/estado_cumplimiento_oficios_circulares/20201201_Estado Cumplimiento Oficios y Circulares (áreas actualizadas) 2020.xlsx\n"
     ]
    }
   ],
   "source": [
    "path_cump = 'C:/projects/data_lake/data/input/current/cumplimiento/estado_cumplimiento_oficios_circulares/'\n",
    "\n",
    "for i in file_url:\n",
    "    if i.count('.') > 1:\n",
    "        ext = i[i.rfind('.'):]\n",
    "        file = i[:i.rfind('.')].replace('.', '')\n",
    "        download_path = os.path.join(path_cump, fecha + '_' + os.path.basename(file) + ext)\n",
    "        with open(download_path, \"wb\") as local_file:\n",
    "            file = ctx.web.get_file_by_server_relative_url(i).download(local_file).execute_query()\n",
    "        print(\"[Ok] file has been downloaded: {0}\".format(download_path))\n",
    "    else:\n",
    "        download_path = os.path.join(path_cump, fecha + '_' + os.path.basename(i))\n",
    "        with open(download_path, \"wb\") as local_file:\n",
    "            file = ctx.web.get_file_by_server_relative_url(i).download(local_file).execute_query()\n",
    "        print(\"[Ok] file has been downloaded: {0}\".format(download_path))"
   ]
  },
  {
   "cell_type": "code",
   "execution_count": 12,
   "metadata": {},
   "outputs": [],
   "source": [
    "file_url = get_folder_relativeUrl(ctx, site_url, relativeUrl_cump_seg)"
   ]
  },
  {
   "cell_type": "code",
   "execution_count": 13,
   "metadata": {},
   "outputs": [
    {
     "name": "stdout",
     "output_type": "stream",
     "text": [
      "[Ok] file has been downloaded: C:/projects/data_lake/data/input/current/cumplimiento/matriz_seguimiento_planes_de_accion/20201201_Matriz Seguimiento Planes de Acción SUSESO 2020 oficial.xlsx\n"
     ]
    }
   ],
   "source": [
    "path_cump = 'C:/projects/data_lake/data/input/current/cumplimiento/matriz_seguimiento_planes_de_accion/'\n",
    "\n",
    "for i in file_url:\n",
    "    if i.count('.') > 1:\n",
    "        ext = i[i.rfind('.'):]\n",
    "        file = i[:i.rfind('.')].replace('.', '')\n",
    "        download_path = os.path.join(path_cump, fecha + '_' + os.path.basename(file) + ext)\n",
    "        with open(download_path, \"wb\") as local_file:\n",
    "            file = ctx.web.get_file_by_server_relative_url(i).download(local_file).execute_query()\n",
    "        print(\"[Ok] file has been downloaded: {0}\".format(download_path))\n",
    "    else:\n",
    "        download_path = os.path.join(path_cump, fecha + '_' + os.path.basename(i))\n",
    "        with open(download_path, \"wb\") as local_file:\n",
    "            file = ctx.web.get_file_by_server_relative_url(i).download(local_file).execute_query()\n",
    "        print(\"[Ok] file has been downloaded: {0}\".format(download_path))"
   ]
  },
  {
   "cell_type": "markdown",
   "metadata": {},
   "source": [
    "**Formulario 29**"
   ]
  },
  {
   "cell_type": "code",
   "execution_count": 14,
   "metadata": {},
   "outputs": [],
   "source": [
    "file_url = get_folder_relativeUrl(ctx, site_url, relativeUrl_f29)"
   ]
  },
  {
   "cell_type": "code",
   "execution_count": 15,
   "metadata": {
    "scrolled": true
   },
   "outputs": [
    {
     "name": "stdout",
     "output_type": "stream",
     "text": [
      "[Ok] file has been downloaded: C:/projects/data_lake/data/input/current/formulario_29/20201201_09-2020 F29 CEM 7059105456.pdf\n",
      "[Ok] file has been downloaded: C:/projects/data_lake/data/input/current/formulario_29/20201201_09 -2020 F29 FUCYT 7051422906.pdf\n",
      "[Ok] file has been downloaded: C:/projects/data_lake/data/input/current/formulario_29/20201201_08-2020 F29 CEM FOLIO 7040632736.pdf\n",
      "[Ok] file has been downloaded: C:/projects/data_lake/data/input/current/formulario_29/20201201_F29 CEM OCTUBRE 2020.pdf\n",
      "[Ok] file has been downloaded: C:/projects/data_lake/data/input/current/formulario_29/20201201_OTEC - 022020 - F29 - FOLIO 6957813386 (R).pdf\n",
      "[Ok] file has been downloaded: C:/projects/data_lake/data/input/current/formulario_29/20201201_OTEC - 012020 - F29 - FOLIO 6916214646.pdf\n",
      "[Ok] file has been downloaded: C:/projects/data_lake/data/input/current/formulario_29/20201201_042020 - T200 - F29 FOLIO  6972937936 - (P).pdf\n",
      "[Ok] file has been downloaded: C:/projects/data_lake/data/input/current/formulario_29/20201201_062020 - P200 - F29 FOLIO  7002222646 - (P).pdf\n",
      "[Ok] file has been downloaded: C:/projects/data_lake/data/input/current/formulario_29/20201201_022020 - T200 - F29 FOLIO  6938519816 - (P).pdf\n",
      "[Ok] file has been downloaded: C:/projects/data_lake/data/input/current/formulario_29/20201201_03-2020 F29 ACHS 7013421046 (R).pdf\n",
      "[Ok] file has been downloaded: C:/projects/data_lake/data/input/current/formulario_29/20201201_OTEC - 022020 - F29 - FOLIO 6935768806.pdf\n",
      "[Ok] file has been downloaded: C:/projects/data_lake/data/input/current/formulario_29/20201201_012020 - P200 - F29 FOLIO  6915219276 - (P).pdf\n",
      "[Ok] file has been downloaded: C:/projects/data_lake/data/input/current/formulario_29/20201201_OTEC - 042020 - F29 - FOLIO 6968440386.pdf\n",
      "[Ok] file has been downloaded: C:/projects/data_lake/data/input/current/formulario_29/20201201_01-2020 F29 CEM 6916913136.pdf\n",
      "[Ok] file has been downloaded: C:/projects/data_lake/data/input/current/formulario_29/20201201_OTEC - 082020 - F29 - FOLIO  7039574576.pdf\n",
      "[Ok] file has been downloaded: C:/projects/data_lake/data/input/current/formulario_29/20201201_062020 - T200 - F29 FOLIO  7003770996 - (P).pdf\n",
      "[Ok] file has been downloaded: C:/projects/data_lake/data/input/current/formulario_29/20201201_05-2020 F29 CEM 6988028546.pdf\n",
      "[Ok] file has been downloaded: C:/projects/data_lake/data/input/current/formulario_29/20201201_OTEC - 052020 - F29 - FOLIO 6985314836.pdf\n",
      "[Ok] file has been downloaded: C:/projects/data_lake/data/input/current/formulario_29/20201201_102020 - P200 - F29 FOLIO   7077294326 - (P).pdf\n",
      "[Ok] file has been downloaded: C:/projects/data_lake/data/input/current/formulario_29/20201201_032020 - T200 - F29 FOLIO  6952795646- (P).pdf\n",
      "[Ok] file has been downloaded: C:/projects/data_lake/data/input/current/formulario_29/20201201_052020 - P200 - F29 FOLIO  6985473086 - (P).pdf\n",
      "[Ok] file has been downloaded: C:/projects/data_lake/data/input/current/formulario_29/20201201_04-2020 F29 CEM 6969840626.pdf\n",
      "[Ok] file has been downloaded: C:/projects/data_lake/data/input/current/formulario_29/20201201_03 -2020 F29 FUCYT 6946473556.pdf\n",
      "[Ok] file has been downloaded: C:/projects/data_lake/data/input/current/formulario_29/20201201_04 -2020 F29 FUCYT 6963365846.pdf\n",
      "[Ok] file has been downloaded: C:/projects/data_lake/data/input/current/formulario_29/20201201_042020 - P200 - F29 FOLIO  6972923276 - (P).pdf\n",
      "[Ok] file has been downloaded: C:/projects/data_lake/data/input/current/formulario_29/20201201_01 -2020 F29 FUCYT 6916199966.pdf\n",
      "[Ok] file has been downloaded: C:/projects/data_lake/data/input/current/formulario_29/20201201_02 -2020 F29 FUCYT 6930505586.pdf\n",
      "[Ok] file has been downloaded: C:/projects/data_lake/data/input/current/formulario_29/20201201_OTEC - 102020 - F29 - FOLIO  7076407566 .pdf\n",
      "[Ok] file has been downloaded: C:/projects/data_lake/data/input/current/formulario_29/20201201_03-2020 F29 CEM 6954162576.pdf\n",
      "[Ok] file has been downloaded: C:/projects/data_lake/data/input/current/formulario_29/20201201_05 -2020 F29 FUCYT 6982436846.pdf\n",
      "[Ok] file has been downloaded: C:/projects/data_lake/data/input/current/formulario_29/20201201_07-2020 F29 ACHS 7020315286.pdf\n",
      "[Ok] file has been downloaded: C:/projects/data_lake/data/input/current/formulario_29/20201201_012020 - T200 - F29 FOLIO  6915222626 - (P).pdf\n",
      "[Ok] file has been downloaded: C:/projects/data_lake/data/input/current/formulario_29/20201201_102020 - T200 - F29 FOLIO  7077120666 - (P).pdf\n",
      "[Ok] file has been downloaded: C:/projects/data_lake/data/input/current/formulario_29/20201201_082020 - T200 - F29 FOLIO  7036721816 - (P).pdf\n",
      "[Ok] file has been downloaded: C:/projects/data_lake/data/input/current/formulario_29/20201201_022020 - P200 - F29 FOLIO  6935074536 - (P).pdf\n",
      "[Ok] file has been downloaded: C:/projects/data_lake/data/input/current/formulario_29/20201201_08-2020 F29 FUCYT FOLIO 7035828106.pdf\n",
      "[Ok] file has been downloaded: C:/projects/data_lake/data/input/current/formulario_29/20201201_F29 FUCYT OCTUBRE 2020.pdf\n",
      "[Ok] file has been downloaded: C:/projects/data_lake/data/input/current/formulario_29/20201201_04-2020 F29 ACHS 7013424536 (R).pdf\n",
      "[Ok] file has been downloaded: C:/projects/data_lake/data/input/current/formulario_29/20201201_082020 - P200 - F29 FOLIO  7044775946.pdf\n",
      "[Ok] file has been downloaded: C:/projects/data_lake/data/input/current/formulario_29/20201201_032020 - P200 - F29 FOLIO  6954389296 - (P).pdf\n",
      "[Ok] file has been downloaded: C:/projects/data_lake/data/input/current/formulario_29/20201201_06-2020 F29 ACHS 7002765406.pdf\n",
      "[Ok] file has been downloaded: C:/projects/data_lake/data/input/current/formulario_29/20201201_OTEC - 032020 - F29 - FOLIO 6954181116.pdf\n",
      "[Ok] file has been downloaded: C:/projects/data_lake/data/input/current/formulario_29/20201201_02-2020 F29 ACHS 7013418666 (R).pdf\n",
      "[Ok] file has been downloaded: C:/projects/data_lake/data/input/current/formulario_29/20201201_052020 - T200 - F29 FOLIO  6991131076 - (P).pdf\n",
      "[Ok] file has been downloaded: C:/projects/data_lake/data/input/current/formulario_29/20201201_08-2020 ACHS FOLIO 7039567236.pdf\n",
      "[Ok] file has been downloaded: C:/projects/data_lake/data/input/current/formulario_29/20201201_06 -2020 F29 FUCYT 6996978716.pdf\n",
      "[Ok] file has been downloaded: C:/projects/data_lake/data/input/current/formulario_29/20201201_F29 ACHS OCTUBRE 2020.pdf\n",
      "[Ok] file has been downloaded: C:/projects/data_lake/data/input/current/formulario_29/20201201_OTEC - 092020 - F29 - FOLIO  7059119016.pdf\n",
      "[Ok] file has been downloaded: C:/projects/data_lake/data/input/current/formulario_29/20201201_05-2020 F29 ACHS 7013426236 (R).pdf\n",
      "[Ok] file has been downloaded: C:/projects/data_lake/data/input/current/formulario_29/20201201_06-2020 F29 CEM 7002769176.pdf\n",
      "[Ok] file has been downloaded: C:/projects/data_lake/data/input/current/formulario_29/20201201_02-2020 F29 CEM 6935796306.pdf\n",
      "[Ok] file has been downloaded: C:/projects/data_lake/data/input/current/formulario_29/20201201_09-2020 F29 ACHS 7059090926.pdf\n",
      "[Ok] file has been downloaded: C:/projects/data_lake/data/input/current/formulario_29/20201201_01-2020 F29 ACHS 6919196806.pdf\n",
      "[Ok] file has been downloaded: C:/projects/data_lake/data/input/current/formulario_29/20201201_OTEC - 062020 - F29 - FOLIO 7002764066.pdf\n"
     ]
    }
   ],
   "source": [
    "path_f29 = 'C:/projects/data_lake/data/input/current/formulario_29/'\n",
    "\n",
    "for i in file_url:\n",
    "    if i.count('.') > 1:\n",
    "        ext = i[i.rfind('.'):]\n",
    "        file = i[:i.rfind('.')].replace('.', '').replace('N°', '').replace('Nº', '')\n",
    "        download_path = os.path.join(path_f29, fecha + '_' + os.path.basename(file) + ext)\n",
    "        with open(download_path, \"wb\") as local_file:\n",
    "            file = ctx.web.get_file_by_server_relative_url(i).download(local_file).execute_query()\n",
    "        print(\"[Ok] file has been downloaded: {0}\".format(download_path))\n",
    "    else:\n",
    "        download_path = os.path.join(path_f29, fecha + '_' + os.path.basename(i))\n",
    "        with open(download_path, \"wb\") as local_file:\n",
    "            file = ctx.web.get_file_by_server_relative_url(i).download(local_file).execute_query()\n",
    "        print(\"[Ok] file has been downloaded: {0}\".format(download_path))"
   ]
  },
  {
   "cell_type": "markdown",
   "metadata": {},
   "source": [
    "**Fiscalizaciones**"
   ]
  },
  {
   "cell_type": "code",
   "execution_count": 16,
   "metadata": {},
   "outputs": [],
   "source": [
    "file_url = get_folder_relativeUrl(ctx, site_url, relativeUrl_fisc)"
   ]
  },
  {
   "cell_type": "code",
   "execution_count": 17,
   "metadata": {},
   "outputs": [
    {
     "name": "stdout",
     "output_type": "stream",
     "text": [
      "[Ok] file has been downloaded: C:/projects/data_lake/data/input/current/fiscalizaciones/20201201_Estado Cumplimiento otros fiscalizadores Consolidado.xlsx\n"
     ]
    }
   ],
   "source": [
    "path_fisc = 'C:/projects/data_lake/data/input/current/fiscalizaciones/'\n",
    "\n",
    "for i in file_url:\n",
    "    if i.count('.') > 1:\n",
    "        ext = i[i.rfind('.'):]\n",
    "        file = i[:i.rfind('.')].replace('.', '')\n",
    "        download_path = os.path.join(path_fisc, fecha + '_' + os.path.basename(file) + ext)\n",
    "        with open(download_path, \"wb\") as local_file:\n",
    "            file = ctx.web.get_file_by_server_relative_url(i).download(local_file).execute_query()\n",
    "        print(\"[Ok] file has been downloaded: {0}\".format(download_path))\n",
    "    else:\n",
    "        download_path = os.path.join(path_fisc, fecha + '_' + os.path.basename(i))\n",
    "        with open(download_path, \"wb\") as local_file:\n",
    "            file = ctx.web.get_file_by_server_relative_url(i).download(local_file).execute_query()\n",
    "        print(\"[Ok] file has been downloaded: {0}\".format(download_path))"
   ]
  },
  {
   "cell_type": "markdown",
   "metadata": {},
   "source": [
    "**Resultados Auditoría Continua**"
   ]
  },
  {
   "cell_type": "code",
   "execution_count": 18,
   "metadata": {},
   "outputs": [],
   "source": [
    "file_url = get_folder_relativeUrl(ctx, site_url, relativeUrl_ac)"
   ]
  },
  {
   "cell_type": "code",
   "execution_count": 19,
   "metadata": {},
   "outputs": [
    {
     "name": "stdout",
     "output_type": "stream",
     "text": [
      "[Ok] file has been downloaded: C:/projects/data_lake/data/input/current/resultados_hist_aud_continua/20201201_Monitoreo_IS.xlsx\n",
      "[Ok] file has been downloaded: C:/projects/data_lake/data/input/current/resultados_hist_aud_continua/20201201_Resultados históricos AC.xlsx\n"
     ]
    }
   ],
   "source": [
    "path_ac = 'C:/projects/data_lake/data/input/current/resultados_hist_aud_continua/'\n",
    "\n",
    "for i in file_url:\n",
    "    if i.count('.') > 1:\n",
    "        ext = i[i.rfind('.'):]\n",
    "        file = i[:i.rfind('.')].replace('.', '')\n",
    "        download_path = os.path.join(path_ac, fecha + '_' + os.path.basename(file) + ext)\n",
    "        with open(download_path, \"wb\") as local_file:\n",
    "            file = ctx.web.get_file_by_server_relative_url(i).download(local_file).execute_query()\n",
    "        print(\"[Ok] file has been downloaded: {0}\".format(download_path))\n",
    "    else:\n",
    "        download_path = os.path.join(path_ac, fecha + '_' + os.path.basename(i))\n",
    "        with open(download_path, \"wb\") as local_file:\n",
    "            file = ctx.web.get_file_by_server_relative_url(i).download(local_file).execute_query()\n",
    "        print(\"[Ok] file has been downloaded: {0}\".format(download_path))"
   ]
  },
  {
   "cell_type": "code",
   "execution_count": null,
   "metadata": {},
   "outputs": [],
   "source": []
  }
 ],
 "metadata": {
  "kernelspec": {
   "display_name": "Python 3",
   "language": "python",
   "name": "python3"
  },
  "language_info": {
   "codemirror_mode": {
    "name": "ipython",
    "version": 3
   },
   "file_extension": ".py",
   "mimetype": "text/x-python",
   "name": "python",
   "nbconvert_exporter": "python",
   "pygments_lexer": "ipython3",
   "version": "3.7.4"
  }
 },
 "nbformat": 4,
 "nbformat_minor": 4
}
